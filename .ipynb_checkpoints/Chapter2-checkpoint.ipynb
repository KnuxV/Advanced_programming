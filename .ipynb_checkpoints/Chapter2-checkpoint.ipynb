{
 "cells": [
  {
   "cell_type": "markdown",
   "id": "0b4fc5cd-f2b0-4f85-b94f-27fe0b9ac557",
   "metadata": {},
   "source": [
    "# Chapter 2: Advanced concept.\n",
    "\n",
    "Structure:\n",
    "- [Object-Oriented Programming (OOP) and Class](#OOP)\n",
    "- [Decorators](#Decorators)\n",
    "- [Generators](#Generators)\n",
    "- [Parallel](#Parallel)\n",
    "- [Coroutines](#Coroutines)\n",
    "- [Images, videos and audio processing](#Images)\n",
    "- [SSH](#SSH)\n",
    "- [Git](#Git)\n",
    "- [Cloud computing](#Cloud)\n",
    "- [Time complexity](#Time)\n",
    "- [TODO](#TODO)"
   ]
  },
  {
   "cell_type": "markdown",
   "id": "9827dfbb-1611-4f87-b2ff-83bd136b85a8",
   "metadata": {},
   "source": [
    "<a name=\"OOP\"></a>\n",
    "## Object-Oriented Programming (OOP) and Class"
   ]
  },
  {
   "cell_type": "markdown",
   "id": "2ca6ca4f-12b5-41d3-92aa-2da84aff5f4c",
   "metadata": {},
   "source": [
    "<a name=\"Decorators\"></a>\n",
    "## Decorators"
   ]
  },
  {
   "cell_type": "markdown",
   "id": "1d91b3aa-5639-4695-9271-87a8e4d1d729",
   "metadata": {},
   "source": [
    "<a name=\"Generators\"></a>\n",
    "## Generators"
   ]
  },
  {
   "cell_type": "markdown",
   "id": "a60563b9-a071-4758-9257-3c768dd418f5",
   "metadata": {},
   "source": [
    "<a name=\"Parallel\"></a>\n",
    "## Parallel"
   ]
  },
  {
   "cell_type": "markdown",
   "id": "9a640246-3b0c-4ed1-92e1-2a5537fedec0",
   "metadata": {},
   "source": [
    "<a name=\"Coroutines\"></a>\n",
    "## Coroutines"
   ]
  },
  {
   "cell_type": "markdown",
   "id": "2899a22a-2d3a-478a-a4c0-0f225111dc68",
   "metadata": {},
   "source": [
    "<a name=\"Images\"></a>\n",
    "## Images, videos and audio processing"
   ]
  },
  {
   "cell_type": "markdown",
   "id": "e26ff4cf-1e8b-4fdd-a65a-1ce880ad4910",
   "metadata": {},
   "source": [
    "<a name=\"SSH\"></a>\n",
    "## SSH"
   ]
  },
  {
   "cell_type": "markdown",
   "id": "f615210b-92e7-4421-bb1a-b47f3ecc1a78",
   "metadata": {},
   "source": [
    "<a name=\"Git\"></a>\n",
    "## Git"
   ]
  },
  {
   "cell_type": "markdown",
   "id": "5f72eb90-f701-4e26-a227-3c4aa79581cc",
   "metadata": {},
   "source": [
    "<a name=\"Cloud\"></a>\n",
    "## Cloud computing"
   ]
  },
  {
   "cell_type": "markdown",
   "id": "05b27637-2f3f-4eb3-b0bc-d2eb6f31bc07",
   "metadata": {},
   "source": [
    "<a name=\"Time\"></a>\n",
    "## Time complexity"
   ]
  },
  {
   "cell_type": "markdown",
   "id": "dfb1ae8b-d348-450c-b9b6-6581ea36c644",
   "metadata": {},
   "source": [
    "<a name=\"TODO\"></a>\n",
    "## TODO"
   ]
  }
 ],
 "metadata": {
  "kernelspec": {
   "display_name": "Python 3",
   "language": "python",
   "name": "python3"
  },
  "language_info": {
   "codemirror_mode": {
    "name": "ipython",
    "version": 3
   },
   "file_extension": ".py",
   "mimetype": "text/x-python",
   "name": "python",
   "nbconvert_exporter": "python",
   "pygments_lexer": "ipython3",
   "version": "3.6.8"
  }
 },
 "nbformat": 4,
 "nbformat_minor": 5
}
