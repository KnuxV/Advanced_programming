{
 "cells": [
  {
   "cell_type": "code",
   "execution_count": 2,
   "id": "74d341f8-b94e-4e90-b24a-5bb30003ca94",
   "metadata": {},
   "outputs": [],
   "source": [
    "Groups = [(\"Burdloff Guillaume\"),\n",
    "         (\"Zizic Nikola\",\"Lucic Andrija\"),\n",
    "         (\"Lobet Corentin\"),\n",
    "         (\"Mondjehi Roland\",\"Mutombo Embangale Aristote\"),\n",
    "         (\"Jiang Tingyu\",\"Wu Chenyin\"),\n",
    "         (\"Seddik Mohamed\"),\n",
    "         (\"Moezzibadi Mohammad\"),\n",
    "         (\"Schott Victor\"),\n",
    "         (\"Jeanneau Lucas\"),\n",
    "         (\"Yasser\",\"julian\")]"
   ]
  },
  {
   "cell_type": "code",
   "execution_count": null,
   "id": "69648967-c269-4ed1-8119-419b2029b722",
   "metadata": {},
   "outputs": [],
   "source": [
    "import random\n",
    "Groups_order = random.sample(Groups, len(Groups))"
   ]
  }
 ],
 "metadata": {
  "kernelspec": {
   "display_name": "Python 3",
   "language": "python",
   "name": "python3"
  },
  "language_info": {
   "codemirror_mode": {
    "name": "ipython",
    "version": 3
   },
   "file_extension": ".py",
   "mimetype": "text/x-python",
   "name": "python",
   "nbconvert_exporter": "python",
   "pygments_lexer": "ipython3",
   "version": "3.6.8"
  }
 },
 "nbformat": 4,
 "nbformat_minor": 5
}
