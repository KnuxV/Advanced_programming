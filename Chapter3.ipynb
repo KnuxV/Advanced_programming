{
 "cells": [
  {
   "cell_type": "markdown",
   "metadata": {},
   "source": [
    "# Chapter 3: GPU programming and machine learning libraries.\n",
    "\n",
    "Structure:\n",
    "- [CuPy](#CuPy)\n",
    "- [Numba](#Numba)\n",
    "- [CuDF](#CuDF)\n",
    "- [CuML](#CuML)\n",
    "- [Pytorch](#Pytorch)\n",
    "- [Tensorflow and Keras](#TF)\n",
    "- [TODO](#TODO)"
   ]
  },
  {
   "cell_type": "markdown",
   "metadata": {},
   "source": [
    "<a name=\"CuPy\"></a>\n",
    "## CuPy"
   ]
  },
  {
   "cell_type": "markdown",
   "metadata": {},
   "source": [
    "<a name=\"Numba\"></a>\n",
    "## Numba"
   ]
  },
  {
   "cell_type": "markdown",
   "metadata": {},
   "source": [
    "<a name=\"CuDF\"></a>\n",
    "## CuDF"
   ]
  },
  {
   "cell_type": "markdown",
   "metadata": {},
   "source": [
    "<a name=\"CuML\"></a>\n",
    "## CuML"
   ]
  },
  {
   "cell_type": "markdown",
   "metadata": {},
   "source": [
    "<a name=\"Pytorch\"></a>\n",
    "## Pytorch\n",
    "\n",
    "PyTorch is the main competitor of Tensorflow.  Developed by Facebook’sAI Research lab (FAIR).Way easier to get into compare to basic Tensorflow.  Equivalent to Keras.In the end the library you choose is up to you, some companies will requireone or the other (easier if everyone uses the same library).  Myrecommendations:  Try both, assess for which task you use which.  Don’ttry to know everything with both."
   ]
  },
  {
   "cell_type": "markdown",
   "metadata": {},
   "source": [
    "<a name=\"TF\"></a>\n",
    "## Tensorflow and Keras\n",
    "\n",
    "TensorFlow is a free and open-source software library written in Pythonand C++.  It was created by the Google Brain team in 2015.Really flexible but hard to start coding (Specific syntax).  The difficulty touse Tensorflow was one of the reason PyTorch was so popular.Keras is an open-source library written in Python.  Is primary author andmaintainer is Fran ̧cois Chollet(https://www.youtube.com/watch?v=PUAdj3w3wO4&t) Keras can runwith different machine learning libraries as backend (Tensorflow included).Way easier to use and to understand.  Since Tensorflow v2.0 Keras API isdireclty available in Tensorflow !"
   ]
  },
  {
   "cell_type": "markdown",
   "metadata": {},
   "source": [
    "<a name=\"TODO\"></a>\n",
    "## TODO"
   ]
  }
 ],
 "metadata": {
  "kernelspec": {
   "display_name": "Python 3",
   "language": "python",
   "name": "python3"
  },
  "language_info": {
   "codemirror_mode": {
    "name": "ipython",
    "version": 3
   },
   "file_extension": ".py",
   "mimetype": "text/x-python",
   "name": "python",
   "nbconvert_exporter": "python",
   "pygments_lexer": "ipython3",
   "version": "3.8.3"
  }
 },
 "nbformat": 4,
 "nbformat_minor": 5
}
