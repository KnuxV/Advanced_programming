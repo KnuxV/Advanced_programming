{
 "cells": [
  {
   "cell_type": "markdown",
   "id": "64b89a2a-4da6-40a9-a872-0de2674a5b09",
   "metadata": {},
   "source": [
    "# Chapter 3: GPU programming and machine learning libraries.\n",
    "\n",
    "Structure:\n",
    "- [CuPy](#CuPy)\n",
    "- [Numba](#Numba)\n",
    "- [CuDF](#CuDF)\n",
    "- [CuML](#CuML)\n",
    "- [Pytorch](#Pytorch)\n",
    "- [Tensorflow and Keras](#TF)\n",
    "- [TODO](#TODO)"
   ]
  },
  {
   "cell_type": "markdown",
   "id": "27a31ab4-30ab-4d36-b0af-baa6e742953e",
   "metadata": {},
   "source": [
    "<a name=\"CuPy\"></a>\n",
    "## CuPy"
   ]
  },
  {
   "cell_type": "markdown",
   "id": "e6b159de-f35c-4d3d-ac60-4c3078d4637c",
   "metadata": {},
   "source": [
    "<a name=\"Numba\"></a>\n",
    "## Numba"
   ]
  },
  {
   "cell_type": "markdown",
   "id": "5d3fb0e7-e92c-4d5d-a4cf-6ba92bbbed7e",
   "metadata": {},
   "source": [
    "<a name=\"CuDF\"></a>\n",
    "## CuDF"
   ]
  },
  {
   "cell_type": "markdown",
   "id": "3abf111d-f8f3-4bfd-9d47-49209562c87c",
   "metadata": {},
   "source": [
    "<a name=\"CuML\"></a>\n",
    "## CuML"
   ]
  },
  {
   "cell_type": "markdown",
   "id": "ba7f3a55-fa8b-4a52-9c32-d1d7759d7e7d",
   "metadata": {},
   "source": [
    "<a name=\"Pytorch\"></a>\n",
    "## Pytorch"
   ]
  },
  {
   "cell_type": "markdown",
   "id": "026c0402-5709-4c5b-b4fb-eedfdd902632",
   "metadata": {},
   "source": [
    "<a name=\"TF\"></a>\n",
    "## Tensorflow and Keras"
   ]
  },
  {
   "cell_type": "markdown",
   "id": "0250da07-d113-4587-82dd-3279d4a504aa",
   "metadata": {},
   "source": [
    "<a name=\"TODO\"></a>\n",
    "## TODO"
   ]
  }
 ],
 "metadata": {
  "kernelspec": {
   "display_name": "Python 3",
   "language": "python",
   "name": "python3"
  },
  "language_info": {
   "codemirror_mode": {
    "name": "ipython",
    "version": 3
   },
   "file_extension": ".py",
   "mimetype": "text/x-python",
   "name": "python",
   "nbconvert_exporter": "python",
   "pygments_lexer": "ipython3",
   "version": "3.6.8"
  }
 },
 "nbformat": 4,
 "nbformat_minor": 5
}
