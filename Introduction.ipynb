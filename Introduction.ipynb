{
 "cells": [
  {
   "cell_type": "markdown",
   "id": "83a05a13",
   "metadata": {},
   "source": [
    "# Introduction.\n",
    "\n",
    "This notebook is made to go through the fundamentals. You should already know all of this and if you don't now is the time ! I'm not gonna dive in basic operations (+,\\**,%,...), control flow statements like if else and for and while loops and built-in types (int,float).  We will discuss more the bytes and ram usage in advanced concept section \n",
    "\n",
    "## Built-in types\n",
    "\n",
    "Here are the built-in types in python https://www.informit.com/articles/article.aspx?p=453682&seqNum=5. Not going into much details for str and int just beware of the built-in number types when working with python. Most libraries use some kind of inference to define automatically the built-in types (if NaN in pandas dataframe => float) and it might lead to inneficient ram usage. If you want an idea of which int type to use depending on your data check here https://numpy.org/doc/stable/user/basics.types.html. (For example RGB = [0-255] uint8 seems like the best type for images.)\n",
    "\n",
    "\n",
    "## Built-in data structures\n",
    "\n",
    "A good understanding of built-in data structures is imperative to feel comfortable in Python. Next is a reminder of how to use the most prominent data structures.\n",
    "\n",
    "### List\n",
    "\n",
    "Lists are a mutable built-in data type in python that can stores multiples item from any built-in data type and any built-in types (int,float,...). \n",
    "\n"
   ]
  },
  {
   "cell_type": "code",
   "execution_count": 22,
   "id": "56dc1bb6",
   "metadata": {},
   "outputs": [
    {
     "name": "stdout",
     "output_type": "stream",
     "text": [
      "[1, 2, 3, 4, 5]\n",
      "first_position 1\n",
      "last_position 5\n",
      "interval_position [1, 2]\n",
      "appended [1, 2, 3, 4, 5, [3]]\n",
      "removed [1, 2, 3, 4, 5]\n",
      "[10, 2, 3, 4, 5]\n",
      "['__add__', '__class__', '__contains__', '__delattr__', '__delitem__', '__dir__', '__doc__', '__eq__', '__format__', '__ge__', '__getattribute__', '__getitem__', '__gt__', '__hash__', '__iadd__', '__imul__', '__init__', '__init_subclass__', '__iter__', '__le__', '__len__', '__lt__', '__mul__', '__ne__', '__new__', '__reduce__', '__reduce_ex__', '__repr__', '__reversed__', '__rmul__', '__setattr__', '__setitem__', '__sizeof__', '__str__', '__subclasshook__', 'append', 'clear', 'copy', 'count', 'extend', 'index', 'insert', 'pop', 'remove', 'reverse', 'sort']\n"
     ]
    }
   ],
   "source": [
    "# init list\n",
    "x = [1,2,3,4,5]\n",
    "print(x)\n",
    "\n",
    "\n",
    "# slicing\n",
    "first_position = x[0]\n",
    "print(\"first_position\",first_position)\n",
    "\n",
    "last_position = x[-1]\n",
    "print(\"last_position\",last_position)\n",
    "\n",
    "interval_position = x[0:2]\n",
    "print(\"interval_position\",interval_position)\n",
    "\n",
    "## mutable part\n",
    "\n",
    "# add object\n",
    "x.append([3])\n",
    "print(\"appended\",x)\n",
    "# remove object\n",
    "x.remove([3])\n",
    "print(\"removed\",x)\n",
    "\n",
    "x[0] = 10\n",
    "print(x)\n",
    "print(dir(x))"
   ]
  },
  {
   "cell_type": "markdown",
   "id": "dcad4fc8",
   "metadata": {},
   "source": [
    "### Tuples\n",
    "\n",
    "Tuples are just like list except they are immutable"
   ]
  },
  {
   "cell_type": "code",
   "execution_count": 1,
   "id": "5c9ea9ec",
   "metadata": {},
   "outputs": [
    {
     "name": "stdout",
     "output_type": "stream",
     "text": [
      "(1, 2, 3, 4, 5)\n",
      "first_position 1\n",
      "last_position 5\n",
      "interval_position (1, 2)\n",
      "Where is 2 ? 1\n",
      "['__add__', '__class__', '__contains__', '__delattr__', '__dir__', '__doc__', '__eq__', '__format__', '__ge__', '__getattribute__', '__getitem__', '__getnewargs__', '__gt__', '__hash__', '__init__', '__init_subclass__', '__iter__', '__le__', '__len__', '__lt__', '__mul__', '__ne__', '__new__', '__reduce__', '__reduce_ex__', '__repr__', '__rmul__', '__setattr__', '__sizeof__', '__str__', '__subclasshook__', 'count', 'index']\n",
      "2538998689120\n",
      "(1, 2, 3, 4, 5, 1, 2, 3, 4, 5)\n",
      "2538999328960\n"
     ]
    }
   ],
   "source": [
    "x = (1,2,3,4,5)\n",
    "print(x)\n",
    "\n",
    "# slicing\n",
    "first_position = x[0]\n",
    "print(\"first_position\",first_position)\n",
    "\n",
    "last_position = x[-1]\n",
    "print(\"last_position\",last_position)\n",
    "\n",
    "interval_position = x[0:2]\n",
    "print(\"interval_position\",interval_position)\n",
    "\n",
    "# Misc\n",
    "print(\"Where is 2 ?\", x.index(2))\n",
    "print(dir(x))\n",
    "\n",
    "#immutable\n",
    "\n",
    "#x[0] = 10\n",
    "\n",
    "#  cant append or change value but you can still create a new variable building on a previous one\n",
    "print(id(x))\n",
    "x += x\n",
    "print(x)\n",
    "print(id(x))"
   ]
  },
  {
   "cell_type": "markdown",
   "id": "b2c15ce8",
   "metadata": {},
   "source": [
    "### Dict"
   ]
  },
  {
   "cell_type": "markdown",
   "id": "4ee1c00b",
   "metadata": {},
   "source": [
    "A dictionary is a collection which can be ordered (depending on your python version), read more about order in dict: [1](https://stackoverflow.com/questions/39980323/are-dictionaries-ordered-in-python-3-6),[2](https://gandenberger.org/2018/03/10/ordered-dicts-vs-ordereddict/),[3](https://medium.com/junior-dev/python-dictionaries-are-ordered-now-but-how-and-why-5d5a40ee327f). It is mutable and does not allow duplicates."
   ]
  },
  {
   "cell_type": "code",
   "execution_count": 3,
   "id": "39dad3b7",
   "metadata": {},
   "outputs": [
    {
     "name": "stdout",
     "output_type": "stream",
     "text": [
      "{'First name': 'Kevin', 'Last name': 'Wirtz', 'Lecture': 'Advanced Programming'}\n",
      "{'First name': 'other', 'Last name': 'Wirtz', 'Lecture': 'Advanced Programming'}\n",
      "['__class__', '__contains__', '__delattr__', '__delitem__', '__dir__', '__doc__', '__eq__', '__format__', '__ge__', '__getattribute__', '__getitem__', '__gt__', '__hash__', '__init__', '__init_subclass__', '__iter__', '__le__', '__len__', '__lt__', '__ne__', '__new__', '__reduce__', '__reduce_ex__', '__repr__', '__reversed__', '__setattr__', '__setitem__', '__sizeof__', '__str__', '__subclasshook__', 'clear', 'copy', 'fromkeys', 'get', 'items', 'keys', 'pop', 'popitem', 'setdefault', 'update', 'values']\n"
     ]
    }
   ],
   "source": [
    "# {key:value} key must be a str, avoid special characters, value can be any python object\n",
    "x = {\"First name\": \"Kevin\",\n",
    "    \"Last name\": \"Wirtz\",\n",
    "    \"Lecture\": \"Advanced Programming\"}\n",
    "print(x)\n",
    "\n",
    "# mutable\n",
    "x.update({\"First name\": \"other\"})\n",
    "print(x)\n",
    "\n",
    "print(dir(x))"
   ]
  },
  {
   "cell_type": "markdown",
   "id": "ff0661c1",
   "metadata": {},
   "source": [
    "### Set"
   ]
  },
  {
   "cell_type": "markdown",
   "id": "f92a76db",
   "metadata": {},
   "source": [
    "A set unordered, unindexed and contains only unique elements, it is immutable but you can add and remove elements (unlikle tuples). Sets can't contain a list or a dict since they are mutable but it can contain a tuple."
   ]
  },
  {
   "cell_type": "code",
   "execution_count": 12,
   "id": "3defb168",
   "metadata": {},
   "outputs": [
    {
     "name": "stdout",
     "output_type": "stream",
     "text": [
      "{1, 2, 3, 4, (1, 2, 3)}\n",
      "{1, 2, 3, 4, 10, (1, 2, 3)}\n",
      "['__and__', '__class__', '__contains__', '__delattr__', '__dir__', '__doc__', '__eq__', '__format__', '__ge__', '__getattribute__', '__gt__', '__hash__', '__iand__', '__init__', '__init_subclass__', '__ior__', '__isub__', '__iter__', '__ixor__', '__le__', '__len__', '__lt__', '__ne__', '__new__', '__or__', '__rand__', '__reduce__', '__reduce_ex__', '__repr__', '__ror__', '__rsub__', '__rxor__', '__setattr__', '__sizeof__', '__str__', '__sub__', '__subclasshook__', '__xor__', 'add', 'clear', 'copy', 'difference', 'difference_update', 'discard', 'intersection', 'intersection_update', 'isdisjoint', 'issubset', 'issuperset', 'pop', 'remove', 'symmetric_difference', 'symmetric_difference_update', 'union', 'update']\n"
     ]
    }
   ],
   "source": [
    "myset = {1,3,2,3,(1,2,3),(1,2,3),4}\n",
    "print(myset)\n",
    "\n",
    "myset.update([10,(1,2,3)])\n",
    "print(myset)\n",
    "print(dir(myset))"
   ]
  },
  {
   "cell_type": "markdown",
   "id": "d04bfb8f",
   "metadata": {},
   "source": [
    "## Useful libraries"
   ]
  },
  {
   "cell_type": "markdown",
   "id": "a5749275",
   "metadata": {},
   "source": [
    "### Numpy\n",
    "Numpy is the library of choice when working on arrays in Python, Why: \n",
    "- NumPy is written in C = it's fast. \n",
    "- Compatible with different libraries and specifically machine learning libraries.\n",
    "- Built-in functions (random array for example)\n",
    "- Universal functions that allows vectorization ( apply a function to every element instead of iterating through each one)"
   ]
  },
  {
   "cell_type": "code",
   "execution_count": 30,
   "id": "34b31997",
   "metadata": {},
   "outputs": [
    {
     "name": "stdout",
     "output_type": "stream",
     "text": [
      "[[1 2 3]\n",
      " [4 5 6]\n",
      " [7 8 9]]\n",
      "(3, 3)\n",
      "[[ 4  8  1]\n",
      " [ 2  4 10]\n",
      " [13 12 11]]\n",
      "(3, 3)\n",
      "[[ 5 10  4]\n",
      " [ 6  9 16]\n",
      " [20 20 20]]\n",
      "[[-3 -6  2]\n",
      " [ 2  1 -4]\n",
      " [-6 -4 -2]]\n",
      "[[ 47  52  54]\n",
      " [104 124 120]\n",
      " [161 196 186]]\n",
      "[[ 4 16  3]\n",
      " [ 8 20 60]\n",
      " [91 96 99]]\n",
      "[[ 1.05263158e-01  2.89473684e-01 -2.77555756e-17]\n",
      " [ 1.27819549e-01  3.51503759e-01  2.14285714e-01]\n",
      " [ 1.50375940e-01  4.13533835e-01  4.28571429e-01]]\n",
      "[[0.25       0.25       3.        ]\n",
      " [2.         1.25       0.6       ]\n",
      " [0.53846154 0.66666667 0.81818182]]\n"
     ]
    }
   ],
   "source": [
    "import numpy as np\n",
    "\n",
    "# Basic operation\n",
    "\n",
    "x = np.array([[1,2,3],[4,5,6],[7,8,9]])\n",
    "print(x)\n",
    "print(x.shape)\n",
    "\n",
    "y = np.array([[4,8,1,2,4,10,13,12,11]])\n",
    "y = y.reshape((3,3))\n",
    "print(y)\n",
    "print(y.shape)\n",
    "\n",
    "#addition\n",
    "print(x+y)\n",
    "\n",
    "# substraction\n",
    "print(x-y)\n",
    "\n",
    "# dot product\n",
    "print(np.matmul(x,y))\n",
    "\n",
    "# Hadamard product\n",
    "print(np.multiply(x,y))\n",
    "\n",
    "# Division\n",
    "print(np.matmul(x,np.linalg.inv(y)))\n",
    "\n",
    "# Hadamard division\n",
    "print(np.divide(x,y))"
   ]
  },
  {
   "cell_type": "markdown",
   "id": "af9cc0bd",
   "metadata": {},
   "source": [
    "Ram efficiency is really important to take into consideration wen scaling up your application. To understand a bit more about numpy and space occupied by a numpy object you need to understand the concept of Strides"
   ]
  },
  {
   "cell_type": "code",
   "execution_count": 34,
   "id": "4fdf8a7f",
   "metadata": {},
   "outputs": [
    {
     "name": "stdout",
     "output_type": "stream",
     "text": [
      "array([[0, 0, 0, 0],\n",
      "       [0, 0, 0, 0],\n",
      "       [0, 0, 0, 0],\n",
      "       [0, 0, 0, 0]], dtype=int64)\n",
      "int64\n",
      "(4, 4)\n",
      "(32, 8)\n"
     ]
    }
   ],
   "source": [
    "# Ram efficiency\n",
    "\n",
    "x = np.zeros(shape=(4,4), dtype=np.int32)\n",
    "print(repr(x))\n",
    "print(x.dtype)\n",
    "print(x.shape)\n",
    "# reminder 8 bits = 1 byte\n",
    "# Stride[0] = number of bytes to go from 1 array to an other\n",
    "# Stride[1] = number of bytes to go from an element of an array to another one\n",
    "# int32 = 32 bits = 4 bytes\n",
    "\n",
    "print(x.strides)"
   ]
  },
  {
   "cell_type": "markdown",
   "id": "1c792ba1",
   "metadata": {},
   "source": [
    "Imagine now a squared matrix 100000x100000 in int64 vs int8"
   ]
  },
  {
   "cell_type": "code",
   "execution_count": 39,
   "id": "6004f9c0",
   "metadata": {},
   "outputs": [
    {
     "name": "stdout",
     "output_type": "stream",
     "text": [
      "in int 64 takes  80.0 GB of ram\n",
      "in int 8 takes  10.0 GB of ram\n"
     ]
    }
   ],
   "source": [
    "print(\"in int 64 takes \",100000**2*8*10**-9, \"GB of ram\")\n",
    "print(\"in int 8 takes \",100000**2*1*10**-9, \"GB of ram\")"
   ]
  },
  {
   "cell_type": "markdown",
   "id": "018a71bd",
   "metadata": {},
   "source": [
    "This does not mean that you need to use int8 everywhere (reminder int8 ranges between -128 to 127) but don't let the automatic float64 everytime, think of your problem and matrix. \n",
    "\n",
    "Another way to manage ram issue is using sparse matrix. Sparse matrix are used when you have a matrix with a lot of 0's."
   ]
  },
  {
   "cell_type": "code",
   "execution_count": 57,
   "id": "2a90fe45",
   "metadata": {},
   "outputs": [
    {
     "name": "stdout",
     "output_type": "stream",
     "text": [
      "x: \n",
      "   (0, 0)\t1\n",
      "  (0, 1)\t2\n",
      "  (0, 2)\t20\n",
      "  (1, 2)\t3\n",
      "  (2, 0)\t4\n",
      "  (2, 2)\t5\n",
      "y: \n",
      "   (0, 0)\t1\n",
      "  (0, 1)\t2\n",
      "  (0, 2)\t2\n",
      "  (1, 2)\t3\n",
      "  (2, 0)\t4\n",
      "  (2, 2)\t5\n",
      "x+y: \n",
      "   (0, 0)\t2\n",
      "  (0, 1)\t4\n",
      "  (0, 2)\t22\n",
      "  (1, 2)\t6\n",
      "  (2, 0)\t8\n",
      "  (2, 2)\t10\n",
      "x*y: \n",
      "   (0, 2)\t108\n",
      "  (0, 1)\t2\n",
      "  (0, 0)\t81\n",
      "  (1, 2)\t15\n",
      "  (1, 0)\t12\n",
      "  (2, 2)\t33\n",
      "  (2, 1)\t8\n",
      "  (2, 0)\t24\n",
      "x/y: \n",
      "   (0, 0)\t1.0\n",
      "  (0, 1)\t5.999999999999999\n",
      "  (1, 1)\t1.0\n",
      "  (2, 2)\t1.0\n",
      "x/y: \n",
      "   (0, 0)\t1\n",
      "  (0, 1)\t1\n",
      "  (0, 2)\t10\n",
      "  (1, 2)\t1\n",
      "  (2, 0)\t1\n",
      "  (2, 2)\t1\n"
     ]
    }
   ],
   "source": [
    "from scipy.sparse import csr_matrix\n",
    "from scipy.sparse.linalg import inv\n",
    "import numpy as np\n",
    "x = csr_matrix([[1, 2, 20], [0, 0, 3], [4, 0, 5]])\n",
    "print(\"x: \\n\", x)\n",
    "\n",
    "y = csr_matrix([[1, 2, 2, 0, 0, 3, 4, 0, 5]])\n",
    "y = y.reshape((3,3))\n",
    "print(\"y: \\n\", y)\n",
    "\n",
    "print(\"x+y: \\n\",x+y)\n",
    "print(\"x*y: \\n\",x.dot(y))\n",
    "print(\"x/y: \\n\",x.dot(inv(y)))\n",
    "print(\"x/y: \\n\",x._divide(y))"
   ]
  },
  {
   "cell_type": "code",
   "execution_count": 59,
   "id": "81bf33c4",
   "metadata": {},
   "outputs": [
    {
     "name": "stdout",
     "output_type": "stream",
     "text": [
      "size of sparse in bytes : 48\n",
      "size of numpy in bytes : 625000112\n"
     ]
    }
   ],
   "source": [
    "#size comparison\n",
    "import sys\n",
    "from scipy.sparse import csr_matrix\n",
    "import numpy as np\n",
    "x = csr_matrix((25000, 25000), dtype = np.int8)\n",
    "y = np.zeros((25000, 25000), dtype = np.int8)\n",
    "print(\"size of sparse in bytes :\",sys.getsizeof(x))\n",
    "print(\"size of numpy in bytes :\",sys.getsizeof(y))"
   ]
  },
  {
   "cell_type": "markdown",
   "id": "9d2c7fa3",
   "metadata": {},
   "source": [
    "Another option is numpy memmap. Instead of using the ram it uses the disk space to store the numpy object."
   ]
  },
  {
   "cell_type": "code",
   "execution_count": null,
   "id": "d808a671",
   "metadata": {},
   "outputs": [],
   "source": [
    "import numpy as np\n",
    "\n",
    "nrows, ncols = 1000000, 100\n",
    "\n",
    "f = np.memmap('memmapped.dat', dtype=np.float32,\n",
    "              mode='w+', shape=(nrows, ncols))\n",
    "\n",
    "for i in range(ncols):\n",
    "    f[:, i] = np.random.rand(nrows)\n",
    "    \n",
    "x = f[:, -1]\n",
    "\n",
    "del f"
   ]
  },
  {
   "cell_type": "markdown",
   "id": "929ea42d",
   "metadata": {},
   "source": [
    "### Pandas\n"
   ]
  },
  {
   "cell_type": "markdown",
   "id": "8f595e0f",
   "metadata": {},
   "source": [
    "### Matplotlib"
   ]
  },
  {
   "cell_type": "markdown",
   "id": "419369be",
   "metadata": {},
   "source": [
    "## Know your machine\n",
    "\n",
    "![friends](img/know_your_machine.png)"
   ]
  }
 ],
 "metadata": {
  "kernelspec": {
   "display_name": "Python 3",
   "language": "python",
   "name": "python3"
  },
  "language_info": {
   "codemirror_mode": {
    "name": "ipython",
    "version": 3
   },
   "file_extension": ".py",
   "mimetype": "text/x-python",
   "name": "python",
   "nbconvert_exporter": "python",
   "pygments_lexer": "ipython3",
   "version": "3.8.5"
  }
 },
 "nbformat": 4,
 "nbformat_minor": 5
}
