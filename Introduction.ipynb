{
 "cells": [
  {
   "cell_type": "markdown",
   "metadata": {},
   "source": [
    "# Introduction.\n",
    "\n",
    "This notebook is made to go through the fundamentals. You should already know all of this and if you don't now is the time ! I'm not gonna dive in basic operations (+,\\**,%,...), control flow statements like if else and for and while loops and built-in types (int,float).  We will discuss more the bytes and ram usage in advanced concept section \n",
    "\n",
    "## Built-in types\n",
    "\n",
    "Here are the built-in types in python https://www.informit.com/articles/article.aspx?p=453682&seqNum=5. Not going into much details for str and int just beware of the built-in number types when working with python. Most libraries use some kind of inference to define automatically the built-in types (if NaN in pandas dataframe => float) and it might lead to inneficient ram usage. If you want an idea of which int type to use depending on your data check here https://numpy.org/doc/stable/user/basics.types.html. (For example RGB = [0-255] uint8 seems like the best type for images.)\n",
    "\n",
    "\n",
    "## Built-in data structures\n",
    "\n",
    "A good understanding of built-in data structures is imperative to feel comfortable in Python. Next is a reminder of how to use the most prominent data structures.\n",
    "\n",
    "### List\n",
    "\n",
    "Lists are a mutable built-in data type in python that can stores multiples item from any built-in data type and any built-in types (int,float,...). \n",
    "\n"
   ]
  },
  {
   "cell_type": "code",
   "execution_count": null,
   "metadata": {},
   "outputs": [],
   "source": [
    "# init list\n",
    "x = [1,2,3,4,5]\n",
    "print(x)\n",
    "\n",
    "\n",
    "# slicing\n",
    "first_position = x[0]\n",
    "print(\"first_position\",first_position)\n",
    "\n",
    "last_position = x[-1]\n",
    "print(\"last_position\",last_position)\n",
    "\n",
    "interval_position = x[0:2]\n",
    "print(\"interval_position\",interval_position)\n",
    "\n",
    "## mutable part\n",
    "\n",
    "# add object\n",
    "x.append([3])\n",
    "print(\"appended\",x)\n",
    "# remove object\n",
    "x.remove([3])\n",
    "print(\"removed\",x)\n",
    "\n",
    "x[0] = 10\n",
    "print(x)\n",
    "print(dir(x))"
   ]
  },
  {
   "cell_type": "markdown",
   "metadata": {},
   "source": [
    "### Tuples\n",
    "\n",
    "Tuples are just like list except they are immutable"
   ]
  },
  {
   "cell_type": "code",
   "execution_count": null,
   "metadata": {},
   "outputs": [],
   "source": [
    "x = (1,2,3,4,5)\n",
    "print(x)\n",
    "\n",
    "# slicing\n",
    "first_position = x[0]\n",
    "print(\"first_position\",first_position)\n",
    "\n",
    "last_position = x[-1]\n",
    "print(\"last_position\",last_position)\n",
    "\n",
    "interval_position = x[0:2]\n",
    "print(\"interval_position\",interval_position)\n",
    "\n",
    "# Misc\n",
    "print(\"Where is 2 ?\", x.index(2))\n",
    "print(dir(x))\n",
    "\n",
    "#immutable\n",
    "\n",
    "#x[0] = 10\n",
    "\n",
    "#  cant append or change value but you can still create a new variable building on a previous one\n",
    "print(id(x))\n",
    "x += x\n",
    "print(x)\n",
    "print(id(x))"
   ]
  },
  {
   "cell_type": "markdown",
   "metadata": {},
   "source": [
    "### Dict"
   ]
  },
  {
   "cell_type": "markdown",
   "metadata": {},
   "source": [
    "A dictionary is a collection which can be ordered (depending on your python version), read more about order in dict: [1](https://stackoverflow.com/questions/39980323/are-dictionaries-ordered-in-python-3-6),[2](https://gandenberger.org/2018/03/10/ordered-dicts-vs-ordereddict/),[3](https://medium.com/junior-dev/python-dictionaries-are-ordered-now-but-how-and-why-5d5a40ee327f). It is mutable and does not allow duplicates."
   ]
  },
  {
   "cell_type": "code",
   "execution_count": null,
   "metadata": {},
   "outputs": [],
   "source": [
    "# {key:value} key must be a str, avoid special characters, value can be any python object\n",
    "x = {\"First name\": \"Kevin\",\n",
    "    \"Last name\": \"Wirtz\",\n",
    "    \"Lecture\": \"Advanced Programming\"}\n",
    "print(x)\n",
    "\n",
    "# mutable\n",
    "x.update({\"First name\": \"other\"})\n",
    "print(x)\n",
    "\n",
    "print(dir(x))"
   ]
  },
  {
   "cell_type": "markdown",
   "metadata": {},
   "source": [
    "### Set"
   ]
  },
  {
   "cell_type": "markdown",
   "metadata": {},
   "source": [
    "A set unordered, unindexed and contains only unique elements, it is immutable but you can add and remove elements (unlikle tuples). Sets can't contain a list or a dict since they are mutable but it can contain a tuple."
   ]
  },
  {
   "cell_type": "code",
   "execution_count": null,
   "metadata": {},
   "outputs": [],
   "source": [
    "myset = {1,3,2,3,(1,2,3),(1,2,3),4}\n",
    "print(myset)\n",
    "\n",
    "myset.update([10,(1,2,3)])\n",
    "print(myset)\n",
    "print(dir(myset))"
   ]
  },
  {
   "cell_type": "markdown",
   "metadata": {},
   "source": [
    "## Useful libraries"
   ]
  },
  {
   "cell_type": "markdown",
   "metadata": {},
   "source": [
    "### Numpy\n",
    "Numpy is the library of choice when working on arrays in Python, Why: \n",
    "- NumPy is written in C = it's fast. \n",
    "- Compatible with different libraries and specifically machine learning libraries.\n",
    "- Built-in functions (random array for example)\n",
    "- Universal functions that allows vectorization ( apply a function to every element instead of iterating through each one)"
   ]
  },
  {
   "cell_type": "code",
   "execution_count": null,
   "metadata": {},
   "outputs": [],
   "source": [
    "import numpy as np\n",
    "\n",
    "# Basic operation\n",
    "\n",
    "x = np.array([[1,2,3],[4,5,6],[7,8,9]])\n",
    "print(x)\n",
    "print(x.shape)\n",
    "\n",
    "y = np.array([[4,8,1,2,4,10,13,12,11]])\n",
    "y = y.reshape((3,3))\n",
    "print(y)\n",
    "print(y.shape)\n",
    "\n",
    "#addition\n",
    "print(x+y)\n",
    "\n",
    "# substraction\n",
    "print(x-y)\n",
    "\n",
    "# dot product\n",
    "print(np.matmul(x,y))\n",
    "\n",
    "# Hadamard product\n",
    "print(np.multiply(x,y))\n",
    "\n",
    "# Division\n",
    "print(np.matmul(x,np.linalg.inv(y)))\n",
    "\n",
    "# Hadamard division\n",
    "print(np.divide(x,y))"
   ]
  },
  {
   "cell_type": "markdown",
   "metadata": {},
   "source": [
    "Ram efficiency is really important to take into consideration wen scaling up your application. To understand a bit more about numpy and space occupied by a numpy object you need to understand the concept of Strides"
   ]
  },
  {
   "cell_type": "code",
   "execution_count": null,
   "metadata": {},
   "outputs": [],
   "source": [
    "# Ram efficiency\n",
    "\n",
    "x = np.zeros(shape=(4,4), dtype=np.int32)\n",
    "print(repr(x))\n",
    "print(x.dtype)\n",
    "print(x.shape)\n",
    "# reminder 8 bits = 1 byte\n",
    "# Stride[0] = number of bytes to go from 1 array to an other\n",
    "# Stride[1] = number of bytes to go from an element of an array to another one\n",
    "# int32 = 32 bits = 4 bytes\n",
    "\n",
    "print(x.strides)"
   ]
  },
  {
   "cell_type": "markdown",
   "metadata": {},
   "source": [
    "Imagine now a squared matrix 100000x100000 in int64 vs int8"
   ]
  },
  {
   "cell_type": "code",
   "execution_count": null,
   "metadata": {},
   "outputs": [],
   "source": [
    "print(\"in int 64 takes \",100000**2*8*10**-9, \"GB of ram\")\n",
    "print(\"in int 8 takes \",100000**2*1*10**-9, \"GB of ram\")"
   ]
  },
  {
   "cell_type": "markdown",
   "metadata": {},
   "source": [
    "This does not mean that you need to use int8 everywhere (reminder int8 ranges between -128 to 127) but don't let the automatic float64 everytime, think of your problem and matrix. \n",
    "\n",
    "Another way to manage ram issue is using sparse matrix. Sparse matrix are used when you have a matrix with a lot of 0's."
   ]
  },
  {
   "cell_type": "code",
   "execution_count": null,
   "metadata": {},
   "outputs": [],
   "source": [
    "from scipy.sparse import csr_matrix\n",
    "from scipy.sparse.linalg import inv\n",
    "import numpy as np\n",
    "x = csr_matrix([[1, 2, 20], [0, 0, 3], [4, 0, 5]])\n",
    "print(\"x: \\n\", x)\n",
    "\n",
    "y = csr_matrix([[1, 2, 2, 0, 0, 3, 4, 0, 5]])\n",
    "y = y.reshape((3,3))\n",
    "print(\"y: \\n\", y)\n",
    "\n",
    "print(\"x+y: \\n\",x+y)\n",
    "print(\"x*y: \\n\",x.dot(y))\n",
    "print(\"x/y: \\n\",x.dot(inv(y)))\n",
    "print(\"x/y: \\n\",x._divide(y))"
   ]
  },
  {
   "cell_type": "code",
   "execution_count": null,
   "metadata": {},
   "outputs": [],
   "source": [
    "#size comparison\n",
    "import sys\n",
    "from scipy.sparse import csr_matrix\n",
    "import numpy as np\n",
    "x = csr_matrix((25000, 25000), dtype = np.int8)\n",
    "y = np.zeros((25000, 25000), dtype = np.int8)\n",
    "print(\"size of sparse in bytes :\",sys.getsizeof(x))\n",
    "print(\"size of numpy in bytes :\",sys.getsizeof(y))"
   ]
  },
  {
   "cell_type": "markdown",
   "metadata": {},
   "source": [
    "Another option is numpy memmap. Instead of using the ram it uses the disk space to store the numpy object."
   ]
  },
  {
   "cell_type": "code",
   "execution_count": null,
   "metadata": {},
   "outputs": [],
   "source": [
    "import numpy as np\n",
    "\n",
    "nrows, ncols = 1000000, 100\n",
    "\n",
    "f = np.memmap('memmapped.dat', dtype=np.float32,\n",
    "              mode='w+', shape=(nrows, ncols))\n",
    "\n",
    "for i in range(ncols):\n",
    "    f[:, i] = np.random.rand(nrows)\n",
    "    \n",
    "x = f[:, -1]\n",
    "\n",
    "del f"
   ]
  },
  {
   "cell_type": "markdown",
   "metadata": {},
   "source": [
    "Another important concept to optimize the speed of computation is vectorization. In numpy this concept can be applied using universal function. NumPy defines a \"universal function\" (\"ufunc\" for short) to be a function that operates on each element in an array, or combine single elements from several input arrays. A ufunc takes as inputs arrays with different numbers of dimensions, or even scalar values, and returns a new array. The process by which array elements are matched up is called broadcasting."
   ]
  },
  {
   "cell_type": "code",
   "execution_count": null,
   "metadata": {},
   "outputs": [],
   "source": [
    "a = np.array([1, 2, 3, 4])\n",
    "b = np.array([10, 20, 30, 40])\n",
    "\n",
    "np.add(a, b)\n",
    "np.add(a, 100)\n"
   ]
  },
  {
   "cell_type": "markdown",
   "metadata": {},
   "source": [
    "In addition to all the standard basic math operations (+,-,*,/), NumPy offers many additional classes of functions:\n",
    "\n",
    "- Lineary algebra\n",
    "- Special math functions (trig, exp/log, polynomials)\n",
    "- Cumulative functions\n",
    "- Logical (bool) operations\n",
    "- Random number generation\n",
    "\n",
    "Most of these functions are implemented using compiled C code, so they execute much faster than regular Python code. It is a good idea to be familiar with the array functions that NumPy offers so you don't reinvent the wheel in your own code.\n",
    "\n",
    "One big limitation of numpy is that when you want to create or work with a numpy array without using ufunc it becomes significantly slower. Using ufunc in every case becomes quickly unreadable."
   ]
  },
  {
   "cell_type": "markdown",
   "metadata": {},
   "source": [
    "### Pandas\n",
    "\n",
    "\"pandas is a fast, powerful, flexible and easy to use open source data analysis and manipulation tool,\n",
    "built on top of the Python programming language.\"\n",
    "\n",
    "It is built on the Numpy package and its key data structure is called the DataFrame. DataFrames allow you to store and manipulate tabular data in rows of observations and columns of variables.\n",
    "\n",
    "Basically you have a csv, you want stats and plot asap: use pandas. \n",
    "\n",
    "https://pandas.pydata.org/pandas-docs/stable/reference/frame.html"
   ]
  },
  {
   "cell_type": "code",
   "execution_count": null,
   "metadata": {},
   "outputs": [],
   "source": [
    "import pandas as pd\n",
    "\n",
    "df = pd.read_csv(\"data/california_housing_train.csv\")\n",
    "print(df.head())\n",
    "print(df.columns)"
   ]
  },
  {
   "cell_type": "code",
   "execution_count": null,
   "metadata": {},
   "outputs": [],
   "source": [
    "df.plot.scatter(x= \"median_house_value\",\n",
    "                y = \"total_bedrooms\")"
   ]
  },
  {
   "cell_type": "code",
   "execution_count": null,
   "metadata": {},
   "outputs": [],
   "source": [
    "# Slicing\n",
    "\n",
    "# Get column\n",
    "# df[3] does not work\n",
    "print(\"Get column: \\n\", df[\"longitude\"])\n",
    "# select rows\n",
    "print(\"Get rows: \\n\", df[3:5])\n",
    "# select rows and columns\n",
    "print(\"Select rows and columns:\", df.iloc[0:3,1:3])\n",
    "# not working df.iloc[0, ['longitude', 'latitude']]\n",
    "\n",
    "# Query by index\n",
    "print(\"Search row with index\", df.loc(1))\n",
    "\n",
    "# get a boolean array for a condition \n",
    "print(\"Bolean array with index where condition is respected\", df[\"latitude\"]>34)\n",
    "\n",
    "# get data where this condition is true\n",
    "print(\"Get df where condition is true:\",df[df[\"latitude\"]>34])\n",
    "print(\"Double condition\", df[(df[\"latitude\"]>34) & (df[\"longitude\"]>-115)])"
   ]
  },
  {
   "cell_type": "markdown",
   "metadata": {},
   "source": [
    "### Matplotlib"
   ]
  },
  {
   "cell_type": "markdown",
   "metadata": {},
   "source": [
    "## Know your machine\n",
    "\n",
    "![friends](img/know_your_machine.png)"
   ]
  }
 ],
 "metadata": {
  "kernelspec": {
   "display_name": "Python 3",
   "language": "python",
   "name": "python3"
  },
  "language_info": {
   "codemirror_mode": {
    "name": "ipython",
    "version": 3
   },
   "file_extension": ".py",
   "mimetype": "text/x-python",
   "name": "python",
   "nbconvert_exporter": "python",
   "pygments_lexer": "ipython3",
   "version": "3.8.3"
  }
 },
 "nbformat": 4,
 "nbformat_minor": 5
}
