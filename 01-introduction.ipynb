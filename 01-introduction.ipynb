{
 "cells": [
  {
   "metadata": {},
   "cell_type": "markdown",
   "source": "# Reminders on String",
   "id": "ea25838d639bed0d"
  },
  {
   "metadata": {},
   "cell_type": "markdown",
   "source": "## Concatenation of two strings with the + operator\n",
   "id": "94889ebdd4ffb788"
  },
  {
   "metadata": {
    "ExecuteTime": {
     "end_time": "2024-08-05T12:54:09.127303Z",
     "start_time": "2024-08-05T12:54:09.124636Z"
    }
   },
   "cell_type": "code",
   "source": [
    "name = \"John\"\n",
    "surname = \"Doe\"\n",
    "full_name = \"My boss name is \"+ name + \" \" + surname +\".\"\n",
    "print(full_name)"
   ],
   "id": "2494a2b628e3900e",
   "outputs": [
    {
     "name": "stdout",
     "output_type": "stream",
     "text": [
      "My boss name is John Doe.\n"
     ]
    }
   ],
   "execution_count": 4
  },
  {
   "metadata": {},
   "cell_type": "markdown",
   "source": [
    "## Escaping characters\n",
    "- When using single or double quotes, you can escape the character by using a backslash \\.\n",
    "- The backslash \\ is used to escape characters that otherwise have a special meaning, such as newline, backslash itself, or the quote character.\n",
    "- The backslash \\ can be used to escape itself, which is useful when you need to include a backslash in your string.\n",
    "- Triples quotes ''' or \"\"\" don't require escaping, which is useful for multi-line strings."
   ],
   "id": "a1f0e58fb653a240"
  },
  {
   "metadata": {
    "ExecuteTime": {
     "end_time": "2024-08-05T13:18:11.549129Z",
     "start_time": "2024-08-05T13:18:11.545604Z"
    }
   },
   "cell_type": "code",
   "source": [
    "single_quote = 'Aujourd\\'hui'\n",
    "double_quote = \"Aujourd'hui\"\n",
    "print(single_quote)\n",
    "print(double_quote)\n",
    "\n",
    "# escape the backslash\n",
    "print(\"C:\\\\Users\\\\John\")\n",
    "\n",
    "# Triple quotes\n",
    "print('''This is a \"multi-line\" 'string'.\n",
    "It can span multiple lines.\n",
    "I can use backslashes (\\) too.''')"
   ],
   "id": "d564d0234dec015b",
   "outputs": [
    {
     "name": "stdout",
     "output_type": "stream",
     "text": [
      "Aujourd'hui\n",
      "Aujourd'hui\n",
      "C:\\Users\\John\n",
      "This is a \"multi-line\" 'string'.\n",
      "It can span multiple lines.\n",
      "I can use backslashes (\\) too.\n"
     ]
    }
   ],
   "execution_count": 24
  },
  {
   "metadata": {},
   "cell_type": "markdown",
   "source": [
    "## Formatting strings or f-strings\n",
    "- f-Strings, introduced in Python 3.6, provide a convenient way to embed expressions inside string literals. By prefixing a string with f or F, you can directly include variables or expressions within curly braces {}.  \n",
    "- f-Strings support any **expression that can be evaluated**, including function calls and arithmetic operations, making them a powerful tool for dynamic string generation."
   ],
   "id": "678f01522645863"
  },
  {
   "metadata": {
    "ExecuteTime": {
     "end_time": "2024-08-05T13:16:45.569150Z",
     "start_time": "2024-08-05T13:16:45.566759Z"
    }
   },
   "cell_type": "code",
   "source": [
    "full_name = f\"My boss name is {name} {surname}.\"\n",
    "print(full_name)\n",
    "age = 12\n",
    "calculation = f\"My cat is {age * 7} years old in human years.\"\n",
    "print(calculation)\n"
   ],
   "id": "39bc05a18e93019e",
   "outputs": [
    {
     "name": "stdout",
     "output_type": "stream",
     "text": [
      "My boss name is John Doe.\n",
      "My cat is 84 years old in human years.\n",
      "Escaping backslash: C:\\Users\\John\n"
     ]
    }
   ],
   "execution_count": 20
  },
  {
   "metadata": {},
   "cell_type": "markdown",
   "source": [
    "### Convenient way to display\n",
    "\n",
    "- f-strings allows for quick formatting to round numbers\n",
    "- f-strings can be used to format numbers as percentages\n",
    "- f-strings can be used to format numbers as currency\n",
    "- f-strings can be used to format numbers as dates"
   ],
   "id": "229e0a34832deca7"
  },
  {
   "metadata": {
    "ExecuteTime": {
     "end_time": "2024-08-05T13:08:30.458365Z",
     "start_time": "2024-08-05T13:08:30.454446Z"
    }
   },
   "cell_type": "code",
   "source": [
    "pi = 3.14159\n",
    "percentage = 0.1\n",
    "price = 1000\n",
    "\n",
    "print(f\"Pi is approximately {pi:.2f}.\")\n",
    "print(f\"Percentage: {percentage:.2%}\")\n",
    "print(f\"Price: ${price:.2f}\")\n",
    "print(f\"Price: €{price:.2f}\")\n",
    "\n",
    "# date formatting\n",
    "from datetime import datetime\n",
    "today = datetime.today()\n",
    "print(f\"Today is {today:%d/%m/%y}\")"
   ],
   "id": "a7f84cc57694ec10",
   "outputs": [
    {
     "name": "stdout",
     "output_type": "stream",
     "text": [
      "Pi is approximately 3.14.\n",
      "Percentage: 10.00%\n",
      "Price: $1000.00\n",
      "Price: €1000.00\n",
      "Today is 05/08/24\n"
     ]
    }
   ],
   "execution_count": 18
  },
  {
   "metadata": {},
   "cell_type": "markdown",
   "source": [
    "## Useful string methods\n",
    "- `str.upper()`: returns the string in uppercase.\n",
    "- `str.lower()`: returns the string in lowercase.\n",
    "- `str.capitalize()`: returns the string with the first character capitalized.\n",
    "- `str.title()`: returns the string with the first character of each word capitalized.\n",
    "- `str.strip()`: returns the string with leading and trailing whitespace removed.\n",
    "- `str.replace(old, new)`: returns the string with all occurrences of the substring old replaced by new.\n",
    "- `str.split()`: returns a list of substrings separated by the given delimiter.\n",
    "\n"
   ],
   "id": "a2a8ced48616a17"
  },
  {
   "metadata": {
    "ExecuteTime": {
     "end_time": "2024-08-05T13:25:02.116781Z",
     "start_time": "2024-08-05T13:25:02.113162Z"
    }
   },
   "cell_type": "code",
   "source": [
    "# Generating examples\n",
    "text = \"  hello world  \"\n",
    "print(f\"The text is in caps: {text.upper()}\")\n",
    "print(f\"The text is in lower case: {text.lower()}\")\n",
    "print(f\"The text is capitalized: {text.capitalize()}\")\n",
    "print(f\"The text is titled: {text.title()}\")\n",
    "print(f\"The text is stripped: {text.strip()}\")\n",
    "print(f\"The text is replaced: {text.replace('world', 'John')}\")\n"
   ],
   "id": "e13247b5f5d271d6",
   "outputs": [
    {
     "name": "stdout",
     "output_type": "stream",
     "text": [
      "The text is in caps:   HELLO WORLD  \n",
      "The text is in lower case:   hello world  \n",
      "The text is capitalized:   hello world  \n",
      "The text is titled:   Hello World  \n",
      "The text is stripped: hello world\n",
      "The text is replaced:   hello John  \n"
     ]
    }
   ],
   "execution_count": 29
  },
  {
   "metadata": {},
   "cell_type": "markdown",
   "source": [
    "## Immutable nature of strings, index and slicing\n",
    "- Strings are immutable, meaning that you cannot change the characters of a string after it has been created.\n",
    "- You can access individual characters of a string using indexing.\n",
    "- You can extract a substring from a string using slicing.\n",
    "\n",
    "![Indexing and slicing](img/str_index.png)"
   ],
   "id": "3accb9ae7b0de519"
  },
  {
   "metadata": {
    "ExecuteTime": {
     "end_time": "2024-08-05T13:56:02.830122Z",
     "start_time": "2024-08-05T13:56:02.826720Z"
    }
   },
   "cell_type": "code",
   "source": [
    "# Examples of indexing and slicing, errors when trying to modify a string\n",
    "text = \"Hello World\"\n",
    "print(f\"First character: {text[0]}\")\n",
    "print(f\"Last character: {text[-1]}\")\n",
    "print(f\"First 5 characters: {text[:5]}\")\n",
    "print(f\"Last 5 characters: {text[-5:]}\")\n"
   ],
   "id": "711f01c9d4d83b4a",
   "outputs": [
    {
     "name": "stdout",
     "output_type": "stream",
     "text": [
      "First character: H\n",
      "Last character: d\n",
      "First 5 characters: Hello\n",
      "Last 5 characters: World\n"
     ]
    }
   ],
   "execution_count": 43
  },
  {
   "metadata": {
    "ExecuteTime": {
     "end_time": "2024-08-05T13:56:21.267648Z",
     "start_time": "2024-08-05T13:56:21.259561Z"
    }
   },
   "cell_type": "code",
   "source": [
    "# Errors when trying to modify a string\n",
    "text = \"Hello World\"\n",
    "text[0] = 'h'  # Error: strings are immutable"
   ],
   "id": "62800574c76d3e16",
   "outputs": [
    {
     "ename": "TypeError",
     "evalue": "'str' object does not support item assignment",
     "output_type": "error",
     "traceback": [
      "\u001B[0;31m---------------------------------------------------------------------------\u001B[0m",
      "\u001B[0;31mTypeError\u001B[0m                                 Traceback (most recent call last)",
      "Cell \u001B[0;32mIn[44], line 3\u001B[0m\n\u001B[1;32m      1\u001B[0m \u001B[38;5;66;03m# Errors when trying to modify a string\u001B[39;00m\n\u001B[1;32m      2\u001B[0m text \u001B[38;5;241m=\u001B[39m \u001B[38;5;124m\"\u001B[39m\u001B[38;5;124mHello World\u001B[39m\u001B[38;5;124m\"\u001B[39m\n\u001B[0;32m----> 3\u001B[0m text[\u001B[38;5;241m0\u001B[39m] \u001B[38;5;241m=\u001B[39m \u001B[38;5;124m'\u001B[39m\u001B[38;5;124mh\u001B[39m\u001B[38;5;124m'\u001B[39m\n",
      "\u001B[0;31mTypeError\u001B[0m: 'str' object does not support item assignment"
     ]
    }
   ],
   "execution_count": 44
  },
  {
   "metadata": {},
   "cell_type": "code",
   "outputs": [],
   "execution_count": null,
   "source": [
    "# Only solution is to create a new string\n",
    "text = \"Hello World\"\n",
    "text = 'h' + text[1:]"
   ],
   "id": "cefd02e93d7c6832"
  },
  {
   "metadata": {},
   "cell_type": "markdown",
   "source": [
    "## Splitting a string\n",
    "- The `split()` method is used to split a string into a list of substrings.\n",
    "- By default, the `split()` method splits the string using whitespace as the delimiter.\n",
    "- You can specify the delimiter to use for splitting the string."
   ],
   "id": "f646c0a0f48bacde"
  },
  {
   "metadata": {
    "ExecuteTime": {
     "end_time": "2024-08-05T14:25:49.845275Z",
     "start_time": "2024-08-05T14:25:49.841969Z"
    }
   },
   "cell_type": "code",
   "source": [
    "# Splitting a string\n",
    "phone_number = \"06 18 40 12 34\"\n",
    "phone_number2 = \"06.34.56.88.37\"\n",
    "numbers = phone_number.split()\n",
    "numbers2 = phone_number2.split('.')\n",
    "print(numbers, numbers2, sep='\\n')\n",
    "print(\"\\n\")\n",
    "# Very usefull for extracting values out of a file name\n",
    "filename = \"/media/kevin-work/WD_BLACK/Cours/AdvancedProgramming/Advanced_programming/01-introduction.ipynb\"\n",
    "print(filename)\n",
    "print(f\"Splitting with '/': \\n\"\n",
    "      f\"{filename.split('/')}\")\n",
    "print(\"\\n\")\n",
    "print(f\"Keeping the last element of the list: \\n\"\n",
    "      f\"{filename.split('/')[-1]}\")\n",
    "print(\"\\n\")\n",
    "print(f\"Splitting with '-': \\n\"\n",
    "      f\"{filename.split('/')[-1].split('-')}\")\n",
    "print(\"\\n\")\n",
    "print(f\"Keeping the first element of the list: \\n\"\n",
    "      f\"{filename.split('/')[-1].split('-')[0]}\")\n",
    "\n",
    "chapter_number = filename.split('/')[-1].split('-')[0]"
   ],
   "id": "ae2cb885ed1d4c42",
   "outputs": [
    {
     "name": "stdout",
     "output_type": "stream",
     "text": [
      "['06', '18', '40', '12', '34']\n",
      "['06', '34', '56', '88', '37']\n",
      "\n",
      "\n",
      "/media/kevin-work/WD_BLACK/Cours/AdvancedProgramming/Advanced_programming/01-introduction.ipynb\n",
      "Splitting with '/': \n",
      "['', 'media', 'kevin-work', 'WD_BLACK', 'Cours', 'AdvancedProgramming', 'Advanced_programming', '01-introduction.ipynb']\n",
      "\n",
      "\n",
      "Keeping the last element of the list: \n",
      "01-introduction.ipynb\n",
      "\n",
      "\n",
      "Splitting with '-': \n",
      "['01', 'introduction.ipynb']\n",
      "\n",
      "\n",
      "Keeping the first element of the list: \n",
      "01\n"
     ]
    }
   ],
   "execution_count": 60
  },
  {
   "metadata": {},
   "cell_type": "markdown",
   "source": [
    "# List\n",
    "- A list is a collection of items that are ordered and changeable.\n",
    "- Lists are defined by enclosing the elements in square brackets [].\n",
    "- Lists can contain elements of different types, including other lists.\n",
    "- Lists are mutable, meaning that you can change the elements of a list after it has been created.\n",
    "- Lists can be indexed and sliced, similar to strings."
   ],
   "id": "fa0e7602a1089278"
  },
  {
   "metadata": {
    "ExecuteTime": {
     "end_time": "2024-08-05T13:58:21.769983Z",
     "start_time": "2024-08-05T13:58:21.766691Z"
    }
   },
   "cell_type": "code",
   "source": [
    "# Examples of lists\n",
    "numbers = [1, 2, 3, 4, 5]\n",
    "names = [\"Alice\", \"Bob\", \"Charlie\"]\n",
    "mixed = [1, \"Alice\", 2.5]\n",
    "nested = [1, [2, 3], [4, 5]]\n",
    "\n",
    "nested[1][0]"
   ],
   "id": "51f998dc5a5e0d2b",
   "outputs": [
    {
     "data": {
      "text/plain": [
       "2"
      ]
     },
     "execution_count": 45,
     "metadata": {},
     "output_type": "execute_result"
    }
   ],
   "execution_count": 45
  },
  {
   "metadata": {
    "ExecuteTime": {
     "end_time": "2024-08-05T13:58:45.668485Z",
     "start_time": "2024-08-05T13:58:45.665363Z"
    }
   },
   "cell_type": "code",
   "source": [
    "# lists are mutable contrary to strings\n",
    "numbers = [1, 2, 3, 4, 5]\n",
    "numbers[0] = 10\n",
    "numbers"
   ],
   "id": "ec9837eaff5914cb",
   "outputs": [
    {
     "data": {
      "text/plain": [
       "[10, 2, 3, 4, 5]"
      ]
     },
     "execution_count": 46,
     "metadata": {},
     "output_type": "execute_result"
    }
   ],
   "execution_count": 46
  },
  {
   "metadata": {},
   "cell_type": "markdown",
   "source": "## Add remove elements, append, extend, insert, remove, pop to a list",
   "id": "c6edb281987ec687"
  },
  {
   "metadata": {
    "ExecuteTime": {
     "end_time": "2024-08-05T14:01:18.264126Z",
     "start_time": "2024-08-05T14:01:18.260180Z"
    }
   },
   "cell_type": "code",
   "source": [
    "lst_students = [\"Alice\", \"Bob\", \"Charlie\"]\n",
    "print(f'list before append {lst_students}')\n",
    "lst_students.append(\"David\")\n",
    "print(f'list after append {lst_students}')\n",
    "lst_students.extend([\"Eve\", \"Frank\"])\n",
    "print(f'list after extend {lst_students}')\n",
    "print(f'index of Bob: {lst_students.index(\"Bob\")}')\n",
    "lst_students.insert(1, \"John\")\n",
    "print(f'list after insert {lst_students}')\n",
    "lst_students.remove(\"David\")\n",
    "print(f'list after remove {lst_students}')\n",
    "student = lst_students.pop()\n",
    "print(f'list after pop {lst_students}')\n",
    "student = lst_students.pop(1)\n",
    "print(f'list after pop {lst_students}')"
   ],
   "id": "c9ee23a05ccc3ed0",
   "outputs": [
    {
     "name": "stdout",
     "output_type": "stream",
     "text": [
      "list before append ['Alice', 'Bob', 'Charlie']\n",
      "list after append ['Alice', 'Bob', 'Charlie', 'David']\n",
      "list after extend ['Alice', 'Bob', 'Charlie', 'David', 'Eve', 'Frank']\n",
      "index of Bob: 1\n",
      "list after insert ['Alice', 'John', 'Bob', 'Charlie', 'David', 'Eve', 'Frank']\n",
      "list after remove ['Alice', 'John', 'Bob', 'Charlie', 'Eve', 'Frank']\n",
      "list after pop ['Alice', 'John', 'Bob', 'Charlie', 'Eve']\n",
      "list after pop ['Alice', 'Bob', 'Charlie', 'Eve']\n"
     ]
    }
   ],
   "execution_count": 49
  },
  {
   "metadata": {},
   "cell_type": "markdown",
   "source": "## Concatenation, length and iteration over a list",
   "id": "9b0ac08e4364f629"
  },
  {
   "metadata": {
    "ExecuteTime": {
     "end_time": "2024-08-05T14:10:32.273185Z",
     "start_time": "2024-08-05T14:10:32.270204Z"
    }
   },
   "cell_type": "code",
   "source": [
    "lst_students = [\"Alice\", \"Bob\", \"Charlie\"]\n",
    "lst_students += [\"David\", \"Eve\"]\n",
    "print(f'Concatenation of two lists {lst_students}')\n",
    "print(f'Length of the list {len(lst_students)}\\n')\n",
    "# Iterate over the list\n",
    "for student in lst_students:\n",
    "    print(student)"
   ],
   "id": "fd8a16398a0f3e32",
   "outputs": [
    {
     "name": "stdout",
     "output_type": "stream",
     "text": [
      "Concatenation of two lists ['Alice', 'Bob', 'Charlie', 'David', 'Eve']\n",
      "Length of the list 5\n",
      "\n",
      "Alice\n",
      "Bob\n",
      "Charlie\n",
      "David\n",
      "Eve\n"
     ]
    }
   ],
   "execution_count": 52
  },
  {
   "metadata": {
    "ExecuteTime": {
     "end_time": "2024-08-05T14:11:22.559678Z",
     "start_time": "2024-08-05T14:11:22.557274Z"
    }
   },
   "cell_type": "code",
   "source": [
    "# Enumerate\n",
    "for ind, student in enumerate(lst_students):\n",
    "    print(f\"Student {ind}: {student}\")"
   ],
   "id": "54c731012777d01f",
   "outputs": [
    {
     "name": "stdout",
     "output_type": "stream",
     "text": [
      "Student 0: Alice\n",
      "Student 1: Bob\n",
      "Student 2: Charlie\n",
      "Student 3: David\n",
      "Student 4: Eve\n"
     ]
    }
   ],
   "execution_count": 53
  },
  {
   "metadata": {
    "ExecuteTime": {
     "end_time": "2024-08-05T14:14:02.816171Z",
     "start_time": "2024-08-05T14:14:02.813530Z"
    }
   },
   "cell_type": "code",
   "source": [
    "# List comprehension\n",
    "squared = [x**2 for x in range(10)]\n",
    "print(squared)\n",
    "people = [\"Alice\", \"Bob\", \"Charlie\", \"David\", \"Eve\"]\n",
    "teacher = [\"Bob\", \"David\"]\n",
    "\n",
    "students = [student for student in people if student not in teacher]\n",
    "print(students)"
   ],
   "id": "b2ab445de2e7c4c",
   "outputs": [
    {
     "name": "stdout",
     "output_type": "stream",
     "text": [
      "[0, 1, 4, 9, 16, 25, 36, 49, 64, 81]\n",
      "['Alice', 'Charlie', 'Eve']\n"
     ]
    }
   ],
   "execution_count": 54
  },
  {
   "metadata": {},
   "cell_type": "code",
   "outputs": [],
   "execution_count": null,
   "source": "",
   "id": "6866b9f4101f5e14"
  }
 ],
 "metadata": {
  "kernelspec": {
   "display_name": "Python 3",
   "language": "python",
   "name": "python3"
  },
  "language_info": {
   "codemirror_mode": {
    "name": "ipython",
    "version": 2
   },
   "file_extension": ".py",
   "mimetype": "text/x-python",
   "name": "python",
   "nbconvert_exporter": "python",
   "pygments_lexer": "ipython2",
   "version": "2.7.6"
  }
 },
 "nbformat": 4,
 "nbformat_minor": 5
}
