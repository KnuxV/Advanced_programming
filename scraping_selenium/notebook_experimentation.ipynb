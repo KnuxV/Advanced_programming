{
 "cells": [
  {
   "cell_type": "code",
   "id": "initial_id",
   "metadata": {
    "collapsed": true,
    "ExecuteTime": {
     "end_time": "2024-09-06T12:22:37.118455Z",
     "start_time": "2024-09-06T12:22:37.116484Z"
    }
   },
   "source": [
    "import pandas as pd\n",
    "import selenium"
   ],
   "outputs": [],
   "execution_count": 6
  },
  {
   "metadata": {
    "ExecuteTime": {
     "end_time": "2024-09-06T12:22:40.144764Z",
     "start_time": "2024-09-06T12:22:37.371657Z"
    }
   },
   "cell_type": "code",
   "source": [
    "import time\n",
    "from selenium import webdriver\n",
    "from selenium.webdriver.common.keys import Keys\n",
    "from selenium.webdriver.common.by import By\n",
    "\n",
    "driver = webdriver.Firefox()\n",
    "driver.get(\"https://www.youtube.com/@joueurdugrenier/videos\")\n",
    "\n",
    "\n",
    "\n",
    "\n",
    "\n"
   ],
   "id": "e3a831529d4dbbf5",
   "outputs": [],
   "execution_count": 7
  },
  {
   "metadata": {
    "ExecuteTime": {
     "end_time": "2024-09-06T12:22:41.918631Z",
     "start_time": "2024-09-06T12:22:40.149521Z"
    }
   },
   "cell_type": "code",
   "source": [
    "reject_all = driver.find_element(By.XPATH, \"/html/body/c-wiz/div/div/div/div[2]/div[1]/div[3]/div[1]/form[1]/div/div/button/span\")\n",
    "\n",
    "reject_all.click()"
   ],
   "id": "50cff5851fec0418",
   "outputs": [],
   "execution_count": 8
  },
  {
   "metadata": {
    "ExecuteTime": {
     "end_time": "2024-09-06T12:23:30.115931Z",
     "start_time": "2024-09-06T12:22:41.924247Z"
    }
   },
   "cell_type": "code",
   "source": [
    "top_position = driver.execute_script(\"return document.documentElement.scrollTop\")\n",
    "while True:\n",
    "    time.sleep(2)\n",
    "    driver.execute_script(\"window.scrollBy(0, 1000);\")\n",
    "    time.sleep(2)  # Wait for a couple of seconds\n",
    "    new_top_position = driver.execute_script(\"return document.documentElement.scrollTop\")\n",
    "    if new_top_position == top_position:\n",
    "        break\n",
    "    top_position = new_top_position\n",
    "all_meta = driver.find_elements(By.XPATH, '//*[@id=\"meta\"]')"
   ],
   "id": "f488ba1b7c2b8686",
   "outputs": [],
   "execution_count": 9
  },
  {
   "metadata": {
    "ExecuteTime": {
     "end_time": "2024-09-06T12:23:30.168844Z",
     "start_time": "2024-09-06T12:23:30.164974Z"
    }
   },
   "cell_type": "code",
   "source": [
    "\n",
    "from datetime import timedelta, date\n",
    "\n",
    "from datetime import datetime\n",
    "duration = timedelta(days=1, hours=2, minutes=30)\n",
    "duration1 = timedelta(hours=2, minutes=30, seconds=30)\n",
    "# Create a relativedelta representing 1 year, 2 months, and 10 days\n",
    "\n",
    "date = date(year=2024, month=8, day=22)  # August 22, 2024\n",
    "\n",
    "# Let's imagine we have \"3 months ago\" as a date\n",
    "print(datetime.today())\n",
    "print(datetime.today() - timedelta(days = 90))\n",
    "\n",
    "\n",
    "    \n",
    "    "
   ],
   "id": "37465182606cf3cc",
   "outputs": [
    {
     "name": "stdout",
     "output_type": "stream",
     "text": [
      "2024-09-06 14:23:30.166759\n",
      "2024-06-08 14:23:30.166830\n"
     ]
    }
   ],
   "execution_count": 10
  },
  {
   "metadata": {
    "ExecuteTime": {
     "end_time": "2024-09-06T12:23:30.216483Z",
     "start_time": "2024-09-06T12:23:30.214781Z"
    }
   },
   "cell_type": "code",
   "source": "",
   "id": "16e56134cdccd459",
   "outputs": [],
   "execution_count": null
  },
  {
   "metadata": {
    "ExecuteTime": {
     "end_time": "2024-09-06T12:23:30.309408Z",
     "start_time": "2024-09-06T12:23:30.305655Z"
    }
   },
   "cell_type": "code",
   "source": [
    "import re\n",
    "\n",
    "def clean_view_count(view: str) -> int:\n",
    "    \"\"\"\n",
    "    Convert a YouTube view count string to an integer.\n",
    "\n",
    "    Args:\n",
    "    - view (str): The view count string, which may include 'K' (thousand), 'M' (million), or 'B' (billion) suffixes.\n",
    "\n",
    "    Returns:\n",
    "    - int: The numeric view count.\n",
    "\n",
    "    Examples:\n",
    "    >>> clean_view_count(\"4.8M\")\n",
    "    4800000\n",
    "    >>> clean_view_count(\"147K\")\n",
    "    147000\n",
    "    >>> clean_view_count(\"1.2B\")\n",
    "    1200000000\n",
    "    >>> clean_view_count(\"500\")\n",
    "    500\n",
    "    >>> clean_view_count(\"Not a number\")\n",
    "    -1\n",
    "    \"\"\"\n",
    "    pattern = r\"(?P<number>\\d+(?:\\.\\d+)?)(?P<unit>[KMB]?)\"\n",
    "    dic_unit = {\"B\": 1_000_000_000, \"M\": 1_000_000, \"K\": 1_000, \"\": 1}\n",
    "    \n",
    "    match = re.match(pattern, view)\n",
    "    if not match:\n",
    "        return -1\n",
    "    \n",
    "    num = float(match.group('number'))\n",
    "    unit = match.group('unit')\n",
    "    \n",
    "    return int(num * dic_unit[unit])\n",
    "\n",
    "# To use the docstrings as tests, you can use the `doctest` module\n",
    "if __name__ == \"__main__\":\n",
    "    import doctest\n",
    "    doctest.testmod()"
   ],
   "id": "48bb3ecd3cde7a5d",
   "outputs": [],
   "execution_count": 12
  },
  {
   "metadata": {
    "ExecuteTime": {
     "end_time": "2024-09-06T12:23:30.359313Z",
     "start_time": "2024-09-06T12:23:30.353977Z"
    }
   },
   "cell_type": "code",
   "source": [
    "import re\n",
    "from datetime import datetime, timedelta\n",
    "\n",
    "def transform_ago_date(ago_str: str) -> datetime:\n",
    "    \"\"\"\n",
    "    Transform a time duration string like \"11 minutes ago\" into a datetime object\n",
    "    representing the past date and time.\n",
    "\n",
    "    Args:\n",
    "    - ago_str (str): The duration string, e.g., \"11 minutes ago\", \"2 days ago\", etc.\n",
    "\n",
    "    Returns:\n",
    "    - datetime: The past date and time.\n",
    "\n",
    "    \"\"\"\n",
    "    # Pattern to match the time duration\n",
    "    pattern = r\"(?P<quantity>\\d+)\\s(?P<unit>minute|minutes|hour|hours|day|days|month|months|year|years) ago\"\n",
    "    \n",
    "    # Match the pattern with the input string\n",
    "    match = re.match(pattern, ago_str)\n",
    "    \n",
    "    if not match:\n",
    "        raise ValueError(f\"Invalid format: {ago_str}\")\n",
    "\n",
    "    # Extract quantity and unit\n",
    "    quantity = int(match.group('quantity'))\n",
    "    unit = match.group('unit')\n",
    "    \n",
    "    # Convert the unit to a timedelta\n",
    "    if unit in [\"minute\", \"minutes\"]:\n",
    "        delta = timedelta(minutes=quantity)\n",
    "    elif unit in [\"hour\", \"hours\"]:\n",
    "        delta = timedelta(hours=quantity)\n",
    "    elif unit in [\"day\", \"days\"]:\n",
    "        delta = timedelta(days=quantity)\n",
    "    elif unit in [\"month\", \"months\"]:\n",
    "        delta = timedelta(days=quantity * 30)  # Approximate month as 30 days\n",
    "    elif unit in [\"year\", \"years\"]:\n",
    "        delta = timedelta(days=quantity * 365)  # Approximate year as 365 days\n",
    "    else:\n",
    "        raise ValueError(f\"Unsupported unit: {unit}\")\n",
    "\n",
    "    # Calculate the past date\n",
    "    past_date = datetime.now() - delta\n",
    "    return past_date\n"
   ],
   "id": "2f31c891b49d60b1",
   "outputs": [],
   "execution_count": 13
  },
  {
   "metadata": {
    "ExecuteTime": {
     "end_time": "2024-09-06T12:23:30.404617Z",
     "start_time": "2024-09-06T12:23:30.402875Z"
    }
   },
   "cell_type": "code",
   "source": "",
   "id": "6ff28f738fe512a6",
   "outputs": [],
   "execution_count": null
  },
  {
   "metadata": {
    "ExecuteTime": {
     "end_time": "2024-09-06T12:23:30.452896Z",
     "start_time": "2024-09-06T12:23:30.449067Z"
    }
   },
   "cell_type": "code",
   "source": [
    "def parse_duration(duration_str: str) -> timedelta:\n",
    "    lst_time = duration_str.split(\":\")\n",
    "    length = len(lst_time)\n",
    "    \n",
    "    if length == 2:\n",
    "        minutes, seconds = lst_time\n",
    "        return timedelta(minutes=int(minutes), seconds=int(seconds))\n",
    "    \n",
    "    elif length == 3:\n",
    "        hours, minutes, seconds = lst_time\n",
    "        return timedelta(hours=int(hours), minutes=int(minutes), seconds=int(seconds))\n",
    "    \n",
    "    elif length == 4:\n",
    "        days, hours, minutes, seconds = lst_time\n",
    "        return timedelta(days=int(days), hours=int(hours), minutes=int(minutes), seconds=int(seconds))\n",
    "    \n",
    "    else:\n",
    "        raise ValueError(\"List must contain 2, 3, or 4 elements: [minutes, seconds], [hours, minutes, seconds], or [days, hours, minutes, seconds]\")\n"
   ],
   "id": "a3cf937a26a08092",
   "outputs": [],
   "execution_count": 14
  },
  {
   "metadata": {
    "ExecuteTime": {
     "end_time": "2024-09-06T12:23:30.502054Z",
     "start_time": "2024-09-06T12:23:30.496095Z"
    }
   },
   "cell_type": "code",
   "source": [
    "from datetime import timedelta\n",
    "\n",
    "def parse_duration(duration_str: str) -> timedelta:\n",
    "    \"\"\"\n",
    "    Parse a duration string and convert it to a timedelta object.\n",
    "\n",
    "    The function accepts duration strings in the following formats:\n",
    "    - MM:SS (minutes:seconds)\n",
    "    - HH:MM:SS (hours:minutes:seconds)\n",
    "    - DD:HH:MM:SS (days:hours:minutes:seconds)\n",
    "\n",
    "    Args:\n",
    "        duration_str (str): A string representing a duration in one of the above formats.\n",
    "\n",
    "    Returns:\n",
    "        timedelta: A timedelta object representing the parsed duration.\n",
    "\n",
    "    Raises:\n",
    "        ValueError: If the input string is not in one of the expected formats.\n",
    "\n",
    "    Examples:\n",
    "        >>> parse_duration(\"05:30\")\n",
    "        datetime.timedelta(seconds=330)\n",
    "        >>> parse_duration(\"01:30:45\")\n",
    "        datetime.timedelta(seconds=5445)\n",
    "        >>> parse_duration(\"2:12:30:15\")\n",
    "        datetime.timedelta(days=2, seconds=45015)\n",
    "        >>> parse_duration(\"invalid\")\n",
    "        Traceback (most recent call last):\n",
    "            ...\n",
    "        ValueError: Invalid duration format. Expected MM:SS, HH:MM:SS, or DD:HH:MM:SS.\n",
    "    \"\"\"\n",
    "    try:\n",
    "        parts = [int(part) for part in duration_str.split(\":\")]\n",
    "    except ValueError:\n",
    "        raise ValueError(\"Invalid duration format. Expected MM:SS, HH:MM:SS, or DD:HH:MM:SS.\")\n",
    "\n",
    "    if len(parts) == 2:\n",
    "        return timedelta(minutes=parts[0], seconds=parts[1])\n",
    "    elif len(parts) == 3:\n",
    "        return timedelta(hours=parts[0], minutes=parts[1], seconds=parts[2])\n",
    "    elif len(parts) == 4:\n",
    "        return timedelta(days=parts[0], hours=parts[1], minutes=parts[2], seconds=parts[3])\n",
    "    else:\n",
    "        raise ValueError(\"Invalid duration format. Expected MM:SS, HH:MM:SS, or DD:HH:MM:SS.\")\n",
    "\n",
    "if __name__ == \"__main__\":\n",
    "    import doctest\n",
    "    doctest.testmod()"
   ],
   "id": "dd99a3bbec5eff65",
   "outputs": [],
   "execution_count": 15
  },
  {
   "metadata": {
    "ExecuteTime": {
     "end_time": "2024-09-06T12:23:30.545858Z",
     "start_time": "2024-09-06T12:23:30.542835Z"
    }
   },
   "cell_type": "code",
   "source": [
    "from enum import Enum\n",
    "\n",
    "\n",
    "class TypeVideo(Enum):\n",
    "    JDG = \"Joueur du Grenier\"\n",
    "    papy = \"Papy Grenier\"\n",
    "    attic = \"Attic\"\n",
    "    other = \"Other\"\n",
    "    \n",
    "def transform_type_videos(title_str) -> TypeVideo:\n",
    "    title_str = title_str.lower()\n",
    "    if \"attic\" in title_str:\n",
    "        return TypeVideo.attic\n",
    "    elif \"papy\" in title_str or \"grandpa\" in title_str:\n",
    "        return TypeVideo.papy\n",
    "    elif \"joueur du grenier\" in title_str:\n",
    "        return TypeVideo.JDG\n",
    "    else:\n",
    "        return TypeVideo.other"
   ],
   "id": "24625f85bd3956db",
   "outputs": [],
   "execution_count": 16
  },
  {
   "metadata": {
    "ExecuteTime": {
     "end_time": "2024-09-06T12:23:30.593174Z",
     "start_time": "2024-09-06T12:23:30.589635Z"
    }
   },
   "cell_type": "code",
   "source": [
    "from dataclasses import dataclass\n",
    "from enum import Enum\n",
    "\n",
    "@dataclass\n",
    "class YouTubeVideo:\n",
    "    type_video: TypeVideo\n",
    "    title: str\n",
    "    link: str\n",
    "    views: int\n",
    "    duration: timedelta\n",
    "    date: date"
   ],
   "id": "af5ee63ac784d516",
   "outputs": [],
   "execution_count": 17
  },
  {
   "metadata": {
    "ExecuteTime": {
     "end_time": "2024-09-06T12:23:37.227050Z",
     "start_time": "2024-09-06T12:23:30.636478Z"
    }
   },
   "cell_type": "code",
   "source": [
    "from selenium.common import NoSuchElementException\n",
    "\n",
    "lst_videos = []\n",
    "all_vignette = driver.find_elements(By.ID, 'dismissible')\n",
    "for vign in all_vignette:\n",
    "    try:\n",
    "        link = vign.find_element(By.TAG_NAME, \"a\").get_attribute(\"href\")\n",
    "        \n",
    "        title = vign.find_element(By.ID, \"meta\").text\n",
    "        type_video = transform_type_videos(title)\n",
    "        \n",
    "        duration_str = vign.find_element(By.ID, \"thumbnail\").text\n",
    "        duration = parse_duration(duration_str)\n",
    "        \n",
    "        view_time = vign.find_element(By.ID, 'metadata-line').text\n",
    "        views, date_str = view_time.split(\"\\n\")\n",
    "        \n",
    "        # views is 14.5M views\n",
    "        nb_views = clean_view_count(views.split(\" \")[0])\n",
    "        \n",
    "        # date_str is 6 months ago\n",
    "        date = transform_ago_date(date_str)\n",
    "        \n",
    "        lst_videos.append(YouTubeVideo(\n",
    "            type_video=type_video,\n",
    "            title=title,\n",
    "            link= link,\n",
    "            views=nb_views,\n",
    "            duration=duration,\n",
    "            date= date\n",
    "            ))\n",
    "\n",
    "    except NoSuchElementException:\n",
    "        print(\"error\")\n",
    "        title = \"\"\n",
    "        link = \"\""
   ],
   "id": "585a0df1ee067f4a",
   "outputs": [],
   "execution_count": 18
  },
  {
   "metadata": {
    "ExecuteTime": {
     "end_time": "2024-09-06T12:23:37.238373Z",
     "start_time": "2024-09-06T12:23:37.234533Z"
    }
   },
   "cell_type": "code",
   "source": "len(lst_videos)",
   "id": "ec17b1364afd1642",
   "outputs": [
    {
     "data": {
      "text/plain": [
       "160"
      ]
     },
     "execution_count": 19,
     "metadata": {},
     "output_type": "execute_result"
    }
   ],
   "execution_count": 19
  },
  {
   "metadata": {
    "ExecuteTime": {
     "end_time": "2024-09-06T12:23:37.289205Z",
     "start_time": "2024-09-06T12:23:37.285234Z"
    }
   },
   "cell_type": "code",
   "source": [
    "import pandas as pd\n",
    "\n",
    "# Convert list of dataclass instances to a list of dictionaries\n",
    "video_dicts = [video.__dict__ for video in lst_videos]\n",
    "\n",
    "# Create a DataFrame from the list of dictionaries\n",
    "df = pd.DataFrame(video_dicts)"
   ],
   "id": "cb43cbaa3fd0199c",
   "outputs": [],
   "execution_count": 20
  },
  {
   "metadata": {
    "ExecuteTime": {
     "end_time": "2024-09-06T12:23:37.344363Z",
     "start_time": "2024-09-06T12:23:37.336943Z"
    }
   },
   "cell_type": "code",
   "source": "df",
   "id": "cdedb233e9b09ded",
   "outputs": [
    {
     "data": {
      "text/plain": [
       "          type_video                                              title  \\\n",
       "0      TypeVideo.JDG  Joueur du grenier - LA CONSOLE 3DO\\n1.7M views...   \n",
       "1      TypeVideo.JDG  Joueur du Grenier - RIDE TO HELL RETRIBUTION\\n...   \n",
       "2    TypeVideo.other  JOUEUSE DU GRENIER - Les jeux pour fille sur W...   \n",
       "3      TypeVideo.JDG  (RE-UP) Joueur du grenier - JEUX EN VRAC JAPON...   \n",
       "4      TypeVideo.JDG  Joueur du Grenier ( Hors-série) - LES ÉTRANGES...   \n",
       "..               ...                                                ...   \n",
       "155  TypeVideo.attic  Player of the attic - Dark Castle - Megadrive\\...   \n",
       "156    TypeVideo.JDG  Joueur Du Grenier - Last Battle - Megadrive\\n5...   \n",
       "157  TypeVideo.attic  Player of the attic - Asterix and the great re...   \n",
       "158    TypeVideo.JDG  Joueur du grenier - Tintin au Tibet - Megadriv...   \n",
       "159  TypeVideo.attic  Player of the attic - Knights of the Zodiac - ...   \n",
       "\n",
       "                                            link    views        duration  \\\n",
       "0    https://www.youtube.com/watch?v=kVBqoT6jwkc  1700000 0 days 00:25:59   \n",
       "1    https://www.youtube.com/watch?v=VWWSClpfGyM  1800000 0 days 00:30:50   \n",
       "2    https://www.youtube.com/watch?v=naleZElAgW8  2000000 0 days 00:25:44   \n",
       "3    https://www.youtube.com/watch?v=9l8upd22z-w  1000000 0 days 00:16:22   \n",
       "4    https://www.youtube.com/watch?v=y414UI5iq5M  1800000 0 days 00:28:35   \n",
       "..                                           ...      ...             ...   \n",
       "155  https://www.youtube.com/watch?v=Ifq6ixYMme0  6400000 0 days 00:09:43   \n",
       "156  https://www.youtube.com/watch?v=ZU0VJg_0mrw  5300000 0 days 00:10:00   \n",
       "157  https://www.youtube.com/watch?v=CEnUotNkQP8  6700000 0 days 00:09:59   \n",
       "158  https://www.youtube.com/watch?v=AwNn5tPgKg8  6200000 0 days 00:07:57   \n",
       "159  https://www.youtube.com/watch?v=Zw6s3g1VpUc  7000000 0 days 00:08:33   \n",
       "\n",
       "                          date  \n",
       "0   2024-08-07 14:23:30.691016  \n",
       "1   2024-06-08 14:23:30.730244  \n",
       "2   2024-03-10 14:23:30.770406  \n",
       "3   2024-02-09 14:23:30.810997  \n",
       "4   2024-01-10 14:23:30.847064  \n",
       "..                         ...  \n",
       "155 2010-09-10 14:23:37.078274  \n",
       "156 2010-09-10 14:23:37.118777  \n",
       "157 2010-09-10 14:23:37.155009  \n",
       "158 2010-09-10 14:23:37.189505  \n",
       "159 2010-09-10 14:23:37.225918  \n",
       "\n",
       "[160 rows x 6 columns]"
      ],
      "text/html": [
       "<div>\n",
       "<style scoped>\n",
       "    .dataframe tbody tr th:only-of-type {\n",
       "        vertical-align: middle;\n",
       "    }\n",
       "\n",
       "    .dataframe tbody tr th {\n",
       "        vertical-align: top;\n",
       "    }\n",
       "\n",
       "    .dataframe thead th {\n",
       "        text-align: right;\n",
       "    }\n",
       "</style>\n",
       "<table border=\"1\" class=\"dataframe\">\n",
       "  <thead>\n",
       "    <tr style=\"text-align: right;\">\n",
       "      <th></th>\n",
       "      <th>type_video</th>\n",
       "      <th>title</th>\n",
       "      <th>link</th>\n",
       "      <th>views</th>\n",
       "      <th>duration</th>\n",
       "      <th>date</th>\n",
       "    </tr>\n",
       "  </thead>\n",
       "  <tbody>\n",
       "    <tr>\n",
       "      <th>0</th>\n",
       "      <td>TypeVideo.JDG</td>\n",
       "      <td>Joueur du grenier - LA CONSOLE 3DO\\n1.7M views...</td>\n",
       "      <td>https://www.youtube.com/watch?v=kVBqoT6jwkc</td>\n",
       "      <td>1700000</td>\n",
       "      <td>0 days 00:25:59</td>\n",
       "      <td>2024-08-07 14:23:30.691016</td>\n",
       "    </tr>\n",
       "    <tr>\n",
       "      <th>1</th>\n",
       "      <td>TypeVideo.JDG</td>\n",
       "      <td>Joueur du Grenier - RIDE TO HELL RETRIBUTION\\n...</td>\n",
       "      <td>https://www.youtube.com/watch?v=VWWSClpfGyM</td>\n",
       "      <td>1800000</td>\n",
       "      <td>0 days 00:30:50</td>\n",
       "      <td>2024-06-08 14:23:30.730244</td>\n",
       "    </tr>\n",
       "    <tr>\n",
       "      <th>2</th>\n",
       "      <td>TypeVideo.other</td>\n",
       "      <td>JOUEUSE DU GRENIER - Les jeux pour fille sur W...</td>\n",
       "      <td>https://www.youtube.com/watch?v=naleZElAgW8</td>\n",
       "      <td>2000000</td>\n",
       "      <td>0 days 00:25:44</td>\n",
       "      <td>2024-03-10 14:23:30.770406</td>\n",
       "    </tr>\n",
       "    <tr>\n",
       "      <th>3</th>\n",
       "      <td>TypeVideo.JDG</td>\n",
       "      <td>(RE-UP) Joueur du grenier - JEUX EN VRAC JAPON...</td>\n",
       "      <td>https://www.youtube.com/watch?v=9l8upd22z-w</td>\n",
       "      <td>1000000</td>\n",
       "      <td>0 days 00:16:22</td>\n",
       "      <td>2024-02-09 14:23:30.810997</td>\n",
       "    </tr>\n",
       "    <tr>\n",
       "      <th>4</th>\n",
       "      <td>TypeVideo.JDG</td>\n",
       "      <td>Joueur du Grenier ( Hors-série) - LES ÉTRANGES...</td>\n",
       "      <td>https://www.youtube.com/watch?v=y414UI5iq5M</td>\n",
       "      <td>1800000</td>\n",
       "      <td>0 days 00:28:35</td>\n",
       "      <td>2024-01-10 14:23:30.847064</td>\n",
       "    </tr>\n",
       "    <tr>\n",
       "      <th>...</th>\n",
       "      <td>...</td>\n",
       "      <td>...</td>\n",
       "      <td>...</td>\n",
       "      <td>...</td>\n",
       "      <td>...</td>\n",
       "      <td>...</td>\n",
       "    </tr>\n",
       "    <tr>\n",
       "      <th>155</th>\n",
       "      <td>TypeVideo.attic</td>\n",
       "      <td>Player of the attic - Dark Castle - Megadrive\\...</td>\n",
       "      <td>https://www.youtube.com/watch?v=Ifq6ixYMme0</td>\n",
       "      <td>6400000</td>\n",
       "      <td>0 days 00:09:43</td>\n",
       "      <td>2010-09-10 14:23:37.078274</td>\n",
       "    </tr>\n",
       "    <tr>\n",
       "      <th>156</th>\n",
       "      <td>TypeVideo.JDG</td>\n",
       "      <td>Joueur Du Grenier - Last Battle - Megadrive\\n5...</td>\n",
       "      <td>https://www.youtube.com/watch?v=ZU0VJg_0mrw</td>\n",
       "      <td>5300000</td>\n",
       "      <td>0 days 00:10:00</td>\n",
       "      <td>2010-09-10 14:23:37.118777</td>\n",
       "    </tr>\n",
       "    <tr>\n",
       "      <th>157</th>\n",
       "      <td>TypeVideo.attic</td>\n",
       "      <td>Player of the attic - Asterix and the great re...</td>\n",
       "      <td>https://www.youtube.com/watch?v=CEnUotNkQP8</td>\n",
       "      <td>6700000</td>\n",
       "      <td>0 days 00:09:59</td>\n",
       "      <td>2010-09-10 14:23:37.155009</td>\n",
       "    </tr>\n",
       "    <tr>\n",
       "      <th>158</th>\n",
       "      <td>TypeVideo.JDG</td>\n",
       "      <td>Joueur du grenier - Tintin au Tibet - Megadriv...</td>\n",
       "      <td>https://www.youtube.com/watch?v=AwNn5tPgKg8</td>\n",
       "      <td>6200000</td>\n",
       "      <td>0 days 00:07:57</td>\n",
       "      <td>2010-09-10 14:23:37.189505</td>\n",
       "    </tr>\n",
       "    <tr>\n",
       "      <th>159</th>\n",
       "      <td>TypeVideo.attic</td>\n",
       "      <td>Player of the attic - Knights of the Zodiac - ...</td>\n",
       "      <td>https://www.youtube.com/watch?v=Zw6s3g1VpUc</td>\n",
       "      <td>7000000</td>\n",
       "      <td>0 days 00:08:33</td>\n",
       "      <td>2010-09-10 14:23:37.225918</td>\n",
       "    </tr>\n",
       "  </tbody>\n",
       "</table>\n",
       "<p>160 rows × 6 columns</p>\n",
       "</div>"
      ]
     },
     "execution_count": 21,
     "metadata": {},
     "output_type": "execute_result"
    }
   ],
   "execution_count": 21
  },
  {
   "metadata": {
    "ExecuteTime": {
     "end_time": "2024-09-06T12:23:37.444059Z",
     "start_time": "2024-09-06T12:23:37.441223Z"
    }
   },
   "cell_type": "code",
   "source": "df.dtypes",
   "id": "735ac5c651878244",
   "outputs": [
    {
     "data": {
      "text/plain": [
       "type_video             object\n",
       "title                  object\n",
       "link                   object\n",
       "views                   int64\n",
       "duration      timedelta64[ns]\n",
       "date           datetime64[ns]\n",
       "dtype: object"
      ]
     },
     "execution_count": 22,
     "metadata": {},
     "output_type": "execute_result"
    }
   ],
   "execution_count": 22
  },
  {
   "metadata": {},
   "cell_type": "code",
   "outputs": [],
   "execution_count": null,
   "source": "",
   "id": "eb9c3cab94e55b63"
  }
 ],
 "metadata": {
  "kernelspec": {
   "display_name": "Python 3",
   "language": "python",
   "name": "python3"
  },
  "language_info": {
   "codemirror_mode": {
    "name": "ipython",
    "version": 2
   },
   "file_extension": ".py",
   "mimetype": "text/x-python",
   "name": "python",
   "nbconvert_exporter": "python",
   "pygments_lexer": "ipython2",
   "version": "2.7.6"
  }
 },
 "nbformat": 4,
 "nbformat_minor": 5
}
