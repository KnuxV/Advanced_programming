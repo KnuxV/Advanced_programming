{
 "cells": [
  {
   "metadata": {},
   "cell_type": "markdown",
   "source": "## [Exemples Utilisation GroqCloud](https://console.groq.com/docs/text-chat)",
   "id": "14f26dde70d10acc"
  },
  {
   "metadata": {
    "ExecuteTime": {
     "end_time": "2024-09-04T11:55:32.303358Z",
     "start_time": "2024-09-04T11:55:32.301880Z"
    }
   },
   "cell_type": "code",
   "source": "",
   "id": "be99b9d558058d02",
   "outputs": [],
   "execution_count": null
  },
  {
   "metadata": {
    "ExecuteTime": {
     "end_time": "2024-09-04T11:56:00.902819Z",
     "start_time": "2024-09-04T11:56:00.900211Z"
    }
   },
   "cell_type": "code",
   "source": "content = \" 2 +2 ?\"",
   "id": "cccd62b10fd782e7",
   "outputs": [],
   "execution_count": 2
  },
  {
   "metadata": {
    "ExecuteTime": {
     "end_time": "2024-09-04T11:56:25.181818Z",
     "start_time": "2024-09-04T11:56:01.313999Z"
    }
   },
   "cell_type": "code",
   "source": [
    "import os\n",
    "from dotenv import load_dotenv\n",
    "from groq import Groq\n",
    "\n",
    "# Load environment variables from .env file\n",
    "load_dotenv()\n",
    "\n",
    "client = Groq(\n",
    "    api_key=os.environ.get(\"GROQ_API_KEY\"),\n",
    ")\n",
    "\n",
    "chat_completion = client.chat.completions.create(\n",
    "    messages=[\n",
    "        {\n",
    "            \"role\": \"user\",\n",
    "            \"content\": content,\n",
    "        }\n",
    "    ],\n",
    "    model=\"llama-3.1-70b-versatile\",\n",
    ")\n",
    "\n",
    "print(chat_completion.choices[0].message.content)\n",
    "# with open(\"information_api_key.md\", \"w\") as f:\n",
    "#     f.write(chat_completion.choices[0].message.content)"
   ],
   "id": "23e817ad31d12559",
   "outputs": [
    {
     "name": "stdout",
     "output_type": "stream",
     "text": [
      "2 + 2 = 4.\n"
     ]
    }
   ],
   "execution_count": 3
  },
  {
   "metadata": {
    "ExecuteTime": {
     "end_time": "2024-09-04T09:30:51.088448Z",
     "start_time": "2024-09-04T09:30:50.077305Z"
    }
   },
   "cell_type": "code",
   "source": [
    "from typing import List, Optional\n",
    "import json\n",
    "\n",
    "from pydantic import BaseModel\n",
    "from groq import Groq\n",
    "\n",
    "groq = Groq()\n",
    "\n",
    "\n",
    "# Data model for LLM to generate\n",
    "class Ingredient(BaseModel):\n",
    "    name: str\n",
    "    quantity: str\n",
    "    quantity_unit: Optional[str]\n",
    "\n",
    "\n",
    "class Recipe(BaseModel):\n",
    "    recipe_name: str\n",
    "    ingredients: List[Ingredient]\n",
    "    directions: List[str]\n",
    "\n",
    "\n",
    "def get_recipe(recipe_name: str) -> Recipe:\n",
    "    chat_completion = groq.chat.completions.create(\n",
    "        messages=[\n",
    "            {\n",
    "                \"role\": \"system\",\n",
    "                \"content\": \"You are a recipe database that outputs recipes in JSON.\\n\"\n",
    "                # Pass the json schema to the model. Pretty printing improves results.\n",
    "                f\" The JSON object must use the schema: {json.dumps(Recipe.model_json_schema(), indent=2)}\",\n",
    "            },\n",
    "            {\n",
    "                \"role\": \"user\",\n",
    "                \"content\": f\"Fetch a recipe for {recipe_name}\",\n",
    "            },\n",
    "        ],\n",
    "        model=\"llama3-8b-8192\",\n",
    "        temperature=0,\n",
    "        # Streaming is not supported in JSON mode\n",
    "        stream=False,\n",
    "        # Enable JSON mode by setting the response format\n",
    "        response_format={\"type\": \"json_object\"},\n",
    "    )\n",
    "    return Recipe.model_validate_json(chat_completion.choices[0].message.content)\n",
    "\n",
    "\n",
    "def print_recipe(recipe: Recipe):\n",
    "    print(\"Recipe:\", recipe.recipe_name)\n",
    "\n",
    "    print(\"\\nIngredients:\")\n",
    "    for ingredient in recipe.ingredients:\n",
    "        print(\n",
    "            f\"- {ingredient.name}: {ingredient.quantity} {ingredient.quantity_unit or ''}\"\n",
    "        )\n",
    "    print(\"\\nDirections:\")\n",
    "    for step, direction in enumerate(recipe.directions, start=1):\n",
    "        print(f\"{step}. {direction}\")\n",
    "\n",
    "\n",
    "recipe = get_recipe(\"croissant aux amandes in French\")\n",
    "print_recipe(recipe)\n"
   ],
   "id": "4c66697a13a86103",
   "outputs": [
    {
     "name": "stdout",
     "output_type": "stream",
     "text": [
      "Recipe: Croissant aux Amandes\n",
      "\n",
      "Ingredients:\n",
      "- Farine: 500g grammes\n",
      "- Pâte à beurre: 250g grammes\n",
      "- Sucre: 20g grammes\n",
      "- Sel: 5g grammes\n",
      "- Œufs: 2 unités\n",
      "- Amandes: 100g grammes\n",
      "- Beurre fondu: 100g grammes\n",
      "\n",
      "Directions:\n",
      "1. Mélangez la farine, le sucre et le sel dans un bol.\n",
      "2. Ajoutez la pâte à beurre et mélangez jusqu'à obtenir une pâte homogène.\n",
      "3. Ajoutez les œufs un à un et mélangez jusqu'à obtenir une pâte lisse.\n",
      "4. Ajoutez les amandes et le beurre fondu et mélangez jusqu'à obtenir une pâte homogène.\n",
      "5. Faites reposer la pâte pendant 1 heure.\n",
      "6. Déroulez la pâte et faites-la reposer pendant 30 minutes.\n",
      "7. Faites cuire les croissants pendant 20-25 minutes à 180°C.\n"
     ]
    }
   ],
   "execution_count": 16
  },
  {
   "metadata": {},
   "cell_type": "code",
   "outputs": [],
   "execution_count": null,
   "source": "",
   "id": "9cb17741a1478b1c"
  }
 ],
 "metadata": {
  "kernelspec": {
   "display_name": "Python 3",
   "language": "python",
   "name": "python3"
  },
  "language_info": {
   "codemirror_mode": {
    "name": "ipython",
    "version": 2
   },
   "file_extension": ".py",
   "mimetype": "text/x-python",
   "name": "python",
   "nbconvert_exporter": "python",
   "pygments_lexer": "ipython2",
   "version": "2.7.6"
  }
 },
 "nbformat": 4,
 "nbformat_minor": 5
}
