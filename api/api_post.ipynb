{
 "cells": [
  {
   "metadata": {
    "ExecuteTime": {
     "end_time": "2024-09-09T06:45:39.790245Z",
     "start_time": "2024-09-09T06:45:39.777635Z"
    }
   },
   "cell_type": "code",
   "source": [
    "\"\"\"\n",
    "Run:\n",
    "\"\"\"\n",
    "\n",
    "import os\n",
    "from dotenv import load_dotenv\n",
    "\n",
    "# Load environment variables from the .env file\n",
    "load_dotenv()\n",
    "api_key = os.environ['MJ_APIKEY_PUBLIC']\n",
    "api_secret = os.environ['MJ_APIKEY_PRIVATE']\n"
   ],
   "id": "22e5f272dca9f817",
   "outputs": [
    {
     "ename": "ModuleNotFoundError",
     "evalue": "No module named 'mailjet_rest'",
     "output_type": "error",
     "traceback": [
      "\u001B[0;31m---------------------------------------------------------------------------\u001B[0m",
      "\u001B[0;31mModuleNotFoundError\u001B[0m                       Traceback (most recent call last)",
      "Cell \u001B[0;32mIn[4], line 4\u001B[0m\n\u001B[1;32m      1\u001B[0m \u001B[38;5;124;03m\"\"\"\u001B[39;00m\n\u001B[1;32m      2\u001B[0m \u001B[38;5;124;03mRun:\u001B[39;00m\n\u001B[1;32m      3\u001B[0m \u001B[38;5;124;03m\"\"\"\u001B[39;00m\n\u001B[0;32m----> 4\u001B[0m \u001B[38;5;28;01mfrom\u001B[39;00m \u001B[38;5;21;01mmailjet_rest\u001B[39;00m \u001B[38;5;28;01mimport\u001B[39;00m Client\n\u001B[1;32m      5\u001B[0m \u001B[38;5;28;01mimport\u001B[39;00m \u001B[38;5;21;01mos\u001B[39;00m\n\u001B[1;32m      6\u001B[0m \u001B[38;5;28;01mfrom\u001B[39;00m \u001B[38;5;21;01mdotenv\u001B[39;00m \u001B[38;5;28;01mimport\u001B[39;00m load_dotenv\n",
      "\u001B[0;31mModuleNotFoundError\u001B[0m: No module named 'mailjet_rest'"
     ]
    }
   ],
   "execution_count": 4
  },
  {
   "metadata": {
    "ExecuteTime": {
     "end_time": "2024-09-09T06:59:59.532864Z",
     "start_time": "2024-09-09T06:59:59.440136Z"
    }
   },
   "cell_type": "code",
   "source": [
    "import requests\n",
    "import os\n",
    "import os\n",
    "from dotenv import load_dotenv\n",
    "\n",
    "# Load environment variables from the .env file\n",
    "load_dotenv()\n",
    "\n",
    "# Environment variables\n",
    "MJ_APIKEY_PUBLIC = os.getenv('MJ_APIKEY_PUBLIC')\n",
    "MJ_APIKEY_PRIVATE = os.getenv('MJ_APIKEY_PRIVATE')\n",
    "SENDER_EMAIL = \"kmichoud@protonmail.com\"\n",
    "RECIPIENT_EMAIL = \"kmichoud@unistra.fr\"\n",
    "\n",
    "# Mailjet API URL\n",
    "url = \"https://api.mailjet.com/v3.1/send\"\n",
    "\n",
    "# Headers\n",
    "headers = {\n",
    "    'Content-Type': 'application/json'\n",
    "}\n",
    "\n",
    "# Payload\n",
    "payload = {\n",
    "    \"Messages\": [\n",
    "        {\n",
    "            \"From\": {\n",
    "                \"Email\": SENDER_EMAIL,\n",
    "                \"Name\": \"Me\"\n",
    "            },\n",
    "            \"To\": [\n",
    "                {\n",
    "                    \"Email\": RECIPIENT_EMAIL,\n",
    "                    \"Name\": \"You\"\n",
    "                }\n",
    "            ],\n",
    "            \"Subject\": \"My first Mailjet Email!\",\n",
    "            \"TextPart\": \"Greetings from Mailjet!\",\n",
    "            \"HTMLPart\": \"<h3>Dear passenger 1, welcome to <a href=\\\"https://www.mailjet.com/\\\">Mailjet</a>!</h3><br />May the delivery force be with you!\"\n",
    "        }\n",
    "    ]\n",
    "}\n",
    "\n",
    "# Send POST request\n",
    "response = requests.post(\n",
    "    url,\n",
    "    auth=(MJ_APIKEY_PUBLIC, MJ_APIKEY_PRIVATE),\n",
    "    headers=headers,\n",
    "    json=payload\n",
    ")\n",
    "\n",
    "# Print response\n",
    "print(response.status_code)\n",
    "print(response.json())\n"
   ],
   "id": "c414566c1d8b557d",
   "outputs": [
    {
     "name": "stdout",
     "output_type": "stream",
     "text": [
      "e405a249e0c36be2519222bf29e89b43 8b10c1ae78e25f931f5902c56a092105 kmichoud@protonmail.com kmichoud@unistra.fr\n",
      "200\n",
      "{'Messages': [{'Status': 'success', 'CustomID': '', 'To': [{'Email': 'kmichoud@unistra.fr', 'MessageUUID': 'c359a37c-8a63-4930-a7a8-c35ebe17e951', 'MessageID': 288230401880034050, 'MessageHref': 'https://api.mailjet.com/v3/REST/message/288230401880034050'}], 'Cc': [], 'Bcc': []}]}\n"
     ]
    }
   ],
   "execution_count": 2
  },
  {
   "metadata": {
    "ExecuteTime": {
     "end_time": "2024-09-09T08:11:32.496316Z",
     "start_time": "2024-09-09T08:11:32.398266Z"
    }
   },
   "cell_type": "code",
   "source": [
    "from mailjet_rest import Client\n",
    "mailjet = Client(auth=(api_key, api_secret), version='v3.1')\n",
    "data = {\n",
    "  'Messages': [\n",
    "\t\t\t\t{\n",
    "\t\t\t\t\t\t\"From\": {\n",
    "\t\t\t\t\t\t\t\t\"Email\": f\"{SENDER_EMAIL}\",\n",
    "\t\t\t\t\t\t\t\t\"Name\": \"Me\"\n",
    "\t\t\t\t\t\t},\n",
    "\t\t\t\t\t\t\"To\": [\n",
    "\t\t\t\t\t\t\t\t{\n",
    "\t\t\t\t\t\t\t\t\t\t\"Email\": f\"{RECIPIENT_EMAIL}\",\n",
    "\t\t\t\t\t\t\t\t\t\t\"Name\": \"You\"\n",
    "\t\t\t\t\t\t\t\t}\n",
    "\t\t\t\t\t\t],\n",
    "\t\t\t\t\t\t\"Subject\": \"LinkedIn daily Job Offers\",\n",
    "\t\t\t\t\t\t\"TextPart\": \"Here are the latest Job Offers in your domain!\",\n",
    "\t\t\t\t\t\t\"HTMLPart\": \"LinkedIn daily Job Offers, <br> Here are the latest Job Offers in your domain! <br> - Software Engineer at TechCorp <br> - Data Scientist at DataWorks <br> - Product Manager at Innovate Inc.\"\n",
    "\t\t\t\t}\n",
    "\t\t]\n",
    "}\n",
    "result = mailjet.send.create(data=data)\n",
    "print(result.status_code)\n",
    "print(result.json())"
   ],
   "id": "43395ae8110892cc",
   "outputs": [
    {
     "name": "stdout",
     "output_type": "stream",
     "text": [
      "200\n",
      "{'Messages': [{'Status': 'success', 'CustomID': '', 'To': [{'Email': 'kmichoud@unistra.fr', 'MessageUUID': '83e273b7-b58d-4a6a-b2ac-78203bf5785a', 'MessageID': 288230401881644959, 'MessageHref': 'https://api.mailjet.com/v3/REST/message/288230401881644959'}], 'Cc': [], 'Bcc': []}]}\n"
     ]
    }
   ],
   "execution_count": 4
  },
  {
   "metadata": {},
   "cell_type": "code",
   "outputs": [],
   "execution_count": null,
   "source": "",
   "id": "d61e66c1b121d268"
  }
 ],
 "metadata": {
  "kernelspec": {
   "display_name": "Python 3",
   "language": "python",
   "name": "python3"
  },
  "language_info": {
   "codemirror_mode": {
    "name": "ipython",
    "version": 2
   },
   "file_extension": ".py",
   "mimetype": "text/x-python",
   "name": "python",
   "nbconvert_exporter": "python",
   "pygments_lexer": "ipython2",
   "version": "2.7.6"
  }
 },
 "nbformat": 4,
 "nbformat_minor": 5
}
