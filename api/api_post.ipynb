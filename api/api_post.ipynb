{
 "cells": [
  {
   "metadata": {},
   "cell_type": "markdown",
   "source": [
    "# Understanding POST Email APIs\n",
    "\n",
    "## What is a POST Email API?\n",
    "\n",
    "A POST Email API is a web service that allows applications to send emails programmatically using HTTP POST requests. It provides a way to integrate email functionality into your software without managing your own email server.\n",
    "\n",
    "## How it works\n",
    "\n",
    "1. **Authentication**: The API requires credentials (usually an API key and secret) to authenticate requests.\n",
    "2. **Request Preparation**: The application constructs a JSON payload containing email details (sender, recipient, subject, content).\n",
    "3. **HTTP POST**: The payload is sent to the API endpoint using an HTTP POST request.\n",
    "4. **Processing**: The email service processes the request and attempts to send the email.\n",
    "5. **Response**: The API returns a response indicating success or failure, often with additional details.\n",
    "\n",
    "## Cons and Considerations\n",
    "\n",
    "- **Cost**: Many email API services charge based on volume, which can become expensive for large-scale operations.\n",
    "\n",
    "## Best Practices\n",
    "\n",
    "1. **Security**: Always keep API credentials secure and never expose them in client-side code.\n",
    "2. **Error Handling**: Implement robust error handling to manage API failures gracefully.\n",
    "3. **Throttling**: **Respect rate limits and implement throttling in your application.**\n",
    "4. **Testing**: Use sandbox environments for testing before sending real emails.\n",
    "\n",
    "## Don'ts\n",
    "\n",
    "- Don't send sensitive information in plain text emails.\n",
    "- Don't use email APIs for **spamming** or unsolicited mass mailings.\n",
    "- **Don't hardcode API credentials in your source code.**"
   ],
   "id": "6f5ed0586be94e78"
  },
  {
   "metadata": {
    "ExecuteTime": {
     "end_time": "2024-09-19T08:01:55.926884Z",
     "start_time": "2024-09-19T08:01:55.574618Z"
    }
   },
   "cell_type": "code",
   "source": [
    "import os\n",
    "from dotenv import load_dotenv\n",
    "\n",
    "# Load environment variables from the .env file\n",
    "load_dotenv()\n",
    "\n",
    "# Retrieve API credentials from environment variables\n",
    "# You need to an account on mailjet to be able to use their API. \n",
    "# Once registered, you can find your API key and secret in your account settings.\n",
    "api_key = os.environ['MJ_APIKEY_PUBLIC']\n",
    "api_secret = os.environ['MJ_APIKEY_PRIVATE']\n",
    "\n",
    "# Define sender and recipient email addresses\n",
    "SENDER_EMAIL = \"kmichoud@protonmail.com\"\n",
    "RECIPIENT_EMAIL = \"kmichoud@unistra.fr\""
   ],
   "id": "22e5f272dca9f817",
   "outputs": [
    {
     "ename": "KeyError",
     "evalue": "'MJ_APIKEY_PUBLIC'",
     "output_type": "error",
     "traceback": [
      "\u001B[0;31m---------------------------------------------------------------------------\u001B[0m",
      "\u001B[0;31mKeyError\u001B[0m                                  Traceback (most recent call last)",
      "Cell \u001B[0;32mIn[1], line 10\u001B[0m\n\u001B[1;32m      5\u001B[0m load_dotenv()\n\u001B[1;32m      7\u001B[0m \u001B[38;5;66;03m# Retrieve API credentials from environment variables\u001B[39;00m\n\u001B[1;32m      8\u001B[0m \u001B[38;5;66;03m# You need to an account on mailjet to be able to use their API. \u001B[39;00m\n\u001B[1;32m      9\u001B[0m \u001B[38;5;66;03m# Once registered, you can find your API key and secret in your account settings.\u001B[39;00m\n\u001B[0;32m---> 10\u001B[0m api_key \u001B[38;5;241m=\u001B[39m os\u001B[38;5;241m.\u001B[39menviron[\u001B[38;5;124m'\u001B[39m\u001B[38;5;124mMJ_APIKEY_PUBLIC\u001B[39m\u001B[38;5;124m'\u001B[39m]\n\u001B[1;32m     11\u001B[0m api_secret \u001B[38;5;241m=\u001B[39m os\u001B[38;5;241m.\u001B[39menviron[\u001B[38;5;124m'\u001B[39m\u001B[38;5;124mMJ_APIKEY_PRIVATE\u001B[39m\u001B[38;5;124m'\u001B[39m]\n\u001B[1;32m     13\u001B[0m \u001B[38;5;66;03m# Define sender and recipient email addresses\u001B[39;00m\n",
      "File \u001B[0;32m<frozen os>:679\u001B[0m, in \u001B[0;36m__getitem__\u001B[0;34m(self, key)\u001B[0m\n",
      "\u001B[0;31mKeyError\u001B[0m: 'MJ_APIKEY_PUBLIC'"
     ]
    }
   ],
   "execution_count": 1
  },
  {
   "metadata": {
    "ExecuteTime": {
     "end_time": "2024-09-12T10:02:17.029296Z",
     "start_time": "2024-09-12T10:02:16.883081Z"
    }
   },
   "cell_type": "code",
   "source": [
    "# Import the Mailjet REST client\n",
    "from mailjet_rest import Client\n",
    "\n",
    "# Initialize the Mailjet client with API credentials\n",
    "mailjet = Client(auth=(api_key, api_secret), version='v3.1')\n",
    "\n",
    "# Prepare the email data structure\n",
    "data = {\n",
    "  'Messages': [\n",
    "    {\n",
    "      \"From\": {\n",
    "        \"Email\": f\"{SENDER_EMAIL}\",\n",
    "        \"Name\": \"Me\"\n",
    "      },\n",
    "      \"To\": [\n",
    "        {\n",
    "          \"Email\": f\"{RECIPIENT_EMAIL}\",\n",
    "          \"Name\": \"You\"\n",
    "        }\n",
    "      ],\n",
    "      \"Subject\": \"Advanced Programming\",\n",
    "      \"TextPart\": \"Here are the latest Job Offers in your domain!\",  # For email clients that don't support HTML\n",
    "      \"HTMLPart\": \"\"\"Advanced Programming daily Job Offers, <br>  \n",
    "                   Here are the latest Job Offers in your domain! <br> \n",
    "                   - Software Engineer at TechCorp <br> \n",
    "                   - Data Scientist at DataWorks <br> \n",
    "                   - Product Manager at Innovate Inc.\"\"\"\n",
    "    }\n",
    "  ]\n",
    "}\n",
    "\n",
    "# Send the email using the Mailjet API\n",
    "result = mailjet.send.create(data=data)\n",
    "\n",
    "# Print the status code and JSON response\n",
    "print(result.status_code)\n",
    "print(result.json())"
   ],
   "id": "43395ae8110892cc",
   "outputs": [
    {
     "name": "stdout",
     "output_type": "stream",
     "text": [
      "200\n",
      "{'Messages': [{'Status': 'success', 'CustomID': '', 'To': [{'Email': 'kmichoud@unistra.fr', 'MessageUUID': '53deb5cc-7ac2-4c1e-b1ee-a90bd6940833', 'MessageID': 288230401940212616, 'MessageHref': 'https://api.mailjet.com/v3/REST/message/288230401940212616'}], 'Cc': [], 'Bcc': []}]}\n"
     ]
    }
   ],
   "execution_count": 2
  },
  {
   "metadata": {},
   "cell_type": "code",
   "outputs": [],
   "execution_count": null,
   "source": "",
   "id": "d61e66c1b121d268"
  }
 ],
 "metadata": {
  "kernelspec": {
   "display_name": "Python 3",
   "language": "python",
   "name": "python3"
  },
  "language_info": {
   "codemirror_mode": {
    "name": "ipython",
    "version": 2
   },
   "file_extension": ".py",
   "mimetype": "text/x-python",
   "name": "python",
   "nbconvert_exporter": "python",
   "pygments_lexer": "ipython2",
   "version": "2.7.6"
  }
 },
 "nbformat": 4,
 "nbformat_minor": 5
}
