{
 "cells": [
  {
   "cell_type": "markdown",
   "metadata": {},
   "source": [
    "# JSON in Python\n",
    "\n",
    "This notebook demonstrates how to work with JSON in Python, including reading, writing, and manipulating JSON data."
   ]
  },
  {
   "cell_type": "code",
   "metadata": {
    "ExecuteTime": {
     "end_time": "2024-09-19T07:58:02.419274Z",
     "start_time": "2024-09-19T07:58:02.417483Z"
    }
   },
   "source": [
    "import json"
   ],
   "outputs": [],
   "execution_count": 1
  },
  {
   "cell_type": "markdown",
   "metadata": {},
   "source": [
    "## Basic JSON Example"
   ]
  },
  {
   "cell_type": "code",
   "metadata": {
    "ExecuteTime": {
     "end_time": "2024-09-19T07:58:10.514551Z",
     "start_time": "2024-09-19T07:58:10.511588Z"
    }
   },
   "source": [
    "basic_json = {\n",
    "    \"name\": \"John Doe\",\n",
    "    \"age\": 30,\n",
    "    \"city\": \"New York\",\n",
    "    \"hobbies\": [\"reading\", \"cycling\", \"photography\"],\n",
    "    \"married\": False\n",
    "}\n",
    "\n",
    "print(json.dumps(basic_json, indent=2))"
   ],
   "outputs": [
    {
     "name": "stdout",
     "output_type": "stream",
     "text": [
      "{\n",
      "  \"name\": \"John Doe\",\n",
      "  \"age\": 30,\n",
      "  \"city\": \"New York\",\n",
      "  \"hobbies\": [\n",
      "    \"reading\",\n",
      "    \"cycling\",\n",
      "    \"photography\"\n",
      "  ],\n",
      "  \"married\": false\n",
      "}\n"
     ]
    }
   ],
   "execution_count": 2
  },
  {
   "cell_type": "markdown",
   "metadata": {},
   "source": [
    "## Triple Nested JSON Example"
   ]
  },
  {
   "cell_type": "code",
   "metadata": {
    "ExecuteTime": {
     "end_time": "2024-09-19T07:58:15.560651Z",
     "start_time": "2024-09-19T07:58:15.556240Z"
    }
   },
   "source": [
    "nested_json = {\n",
    "  \"company\": {\n",
    "    \"name\": \"Tech Innovations Inc.\",\n",
    "    \"founded\": 2010,\n",
    "    \"locations\": [\n",
    "      {\n",
    "        \"city\": \"San Francisco\",\n",
    "        \"address\": {\n",
    "          \"street\": \"123 Tech Avenue\",\n",
    "          \"zipcode\": \"94105\",\n",
    "          \"coordinates\": {\n",
    "            \"latitude\": 37.7749,\n",
    "            \"longitude\": -122.4194\n",
    "          }\n",
    "        },\n",
    "        \"employees\": 500\n",
    "      },\n",
    "      {\n",
    "        \"city\": \"New York\",\n",
    "        \"address\": {\n",
    "          \"street\": \"456 Digital Lane\",\n",
    "          \"zipcode\": \"10001\",\n",
    "          \"coordinates\": {\n",
    "            \"latitude\": 40.7128,\n",
    "            \"longitude\": -74.0060\n",
    "          }\n",
    "        },\n",
    "        \"employees\": 300\n",
    "      }\n",
    "    ],\n",
    "    \"departments\": [\"Engineering\", \"Design\", \"Marketing\", \"Sales\"]\n",
    "  }\n",
    "}\n",
    "\n",
    "print(json.dumps(nested_json, indent=2))"
   ],
   "outputs": [
    {
     "name": "stdout",
     "output_type": "stream",
     "text": [
      "{\n",
      "  \"company\": {\n",
      "    \"name\": \"Tech Innovations Inc.\",\n",
      "    \"founded\": 2010,\n",
      "    \"locations\": [\n",
      "      {\n",
      "        \"city\": \"San Francisco\",\n",
      "        \"address\": {\n",
      "          \"street\": \"123 Tech Avenue\",\n",
      "          \"zipcode\": \"94105\",\n",
      "          \"coordinates\": {\n",
      "            \"latitude\": 37.7749,\n",
      "            \"longitude\": -122.4194\n",
      "          }\n",
      "        },\n",
      "        \"employees\": 500\n",
      "      },\n",
      "      {\n",
      "        \"city\": \"New York\",\n",
      "        \"address\": {\n",
      "          \"street\": \"456 Digital Lane\",\n",
      "          \"zipcode\": \"10001\",\n",
      "          \"coordinates\": {\n",
      "            \"latitude\": 40.7128,\n",
      "            \"longitude\": -74.006\n",
      "          }\n",
      "        },\n",
      "        \"employees\": 300\n",
      "      }\n",
      "    ],\n",
      "    \"departments\": [\n",
      "      \"Engineering\",\n",
      "      \"Design\",\n",
      "      \"Marketing\",\n",
      "      \"Sales\"\n",
      "    ]\n",
      "  }\n",
      "}\n"
     ]
    }
   ],
   "execution_count": 3
  },
  {
   "cell_type": "markdown",
   "metadata": {},
   "source": [
    "## Reading JSON from a string"
   ]
  },
  {
   "cell_type": "code",
   "metadata": {
    "ExecuteTime": {
     "end_time": "2024-09-19T07:58:29.504867Z",
     "start_time": "2024-09-19T07:58:29.502323Z"
    }
   },
   "source": [
    "json_string = '{\"name\": \"Alice\", \"age\": 30}'\n",
    "data = json.loads(json_string)\n",
    "print(data['name'])\n",
    "print(data['age'])"
   ],
   "outputs": [
    {
     "name": "stdout",
     "output_type": "stream",
     "text": [
      "Alice\n",
      "30\n"
     ]
    }
   ],
   "execution_count": 4
  },
  {
   "cell_type": "markdown",
   "metadata": {},
   "source": [
    "## Writing JSON to a string"
   ]
  },
  {
   "cell_type": "code",
   "metadata": {
    "ExecuteTime": {
     "end_time": "2024-09-19T07:59:28.881627Z",
     "start_time": "2024-09-19T07:59:28.879008Z"
    }
   },
   "source": [
    "data = json.loads(json_string)\n",
    "json_string = json.dumps(data, indent=2)\n",
    "print(type(json_string))\n",
    "print(json_string)"
   ],
   "outputs": [
    {
     "name": "stdout",
     "output_type": "stream",
     "text": [
      "<class 'str'>\n",
      "{\n",
      "  \"name\": \"Bob\",\n",
      "  \"age\": 25,\n",
      "  \"city\": \"New York\"\n",
      "}\n"
     ]
    }
   ],
   "execution_count": 8
  },
  {
   "cell_type": "markdown",
   "metadata": {},
   "source": [
    "## Reading JSON from a file"
   ]
  },
  {
   "cell_type": "code",
   "metadata": {
    "ExecuteTime": {
     "end_time": "2024-09-19T07:59:52.975253Z",
     "start_time": "2024-09-19T07:59:52.972396Z"
    }
   },
   "source": [
    "# First, let's create a JSON file\n",
    "with open('data.json', 'w') as file:\n",
    "    json.dump({\"name\": \"Charlie\", \"age\": 35}, file)\n",
    "\n",
    "# Now, let's read it\n",
    "with open('data.json', 'r') as file:\n",
    "    data = json.load(file)\n",
    "print(data)"
   ],
   "outputs": [
    {
     "name": "stdout",
     "output_type": "stream",
     "text": [
      "{'name': 'Charlie', 'age': 35}\n"
     ]
    }
   ],
   "execution_count": 9
  },
  {
   "cell_type": "markdown",
   "metadata": {},
   "source": [
    "## Writing JSON to a file"
   ]
  },
  {
   "cell_type": "code",
   "execution_count": null,
   "metadata": {},
   "source": [
    "data = {\"name\": \"David\", \"age\": 40, \"city\": \"London\"}\n",
    "with open('output.json', 'w') as file:\n",
    "    json.dump(data, file, indent=2)\n",
    "\n",
    "# Let's read it back to confirm\n",
    "with open('output.json', 'r') as file:\n",
    "    print(file.read())"
   ],
   "outputs": []
  },
  {
   "cell_type": "markdown",
   "metadata": {},
   "source": [
    "## Exercises"
   ]
  },
  {
   "cell_type": "markdown",
   "metadata": {},
   "source": [
    "### Exercise 1: Create a movie collection\n",
    "\n",
    "1. Create a Python dictionary representing a movie collection\n",
    "2. Include title, director, year, and actors (as a list)\n",
    "3. Convert it to a JSON string\n",
    "4. Write it to a file named 'movies.json'\n",
    "5. Read the file back and print the director's name"
   ]
  },
  {
   "cell_type": "code",
   "execution_count": null,
   "metadata": {},
   "source": [
    "# Your code here"
   ],
   "outputs": []
  },
  {
   "cell_type": "markdown",
   "metadata": {},
   "source": [
    "### Exercise 2: Accessing nested JSON\n",
    "\n",
    "Using the `nested_json` variable defined earlier:\n",
    "\n",
    "1. Print the company name\n",
    "2. Print the number of employees in San Francisco\n",
    "3. Print the latitude of the New York office\n",
    "4. Add a new department called \"Human Resources\"\n",
    "5. Change the street address of the San Francisco office to \"789 Innovation Blvd\"\n",
    "6. Print the updated JSON"
   ]
  },
  {
   "cell_type": "code",
   "execution_count": null,
   "metadata": {},
   "source": [
    "# Your code here"
   ],
   "outputs": []
  },
  {
   "cell_type": "markdown",
   "metadata": {},
   "source": [
    "### Exercise 3: Create and manipulate complex JSON\n",
    "\n",
    "1. Create a JSON structure representing a school with multiple classes, each containing students with their grades in different subjects\n",
    "2. Add a new student to one of the classes\n",
    "3. Calculate and print the average grade for each class\n",
    "4. Find and print the name of the student with the highest overall average across all subjects"
   ]
  },
  {
   "cell_type": "code",
   "execution_count": null,
   "metadata": {},
   "source": [
    "# Your code here"
   ],
   "outputs": []
  }
 ],
 "metadata": {
  "kernelspec": {
   "display_name": "Python 3",
   "language": "python",
   "name": "python3"
  },
  "language_info": {
   "codemirror_mode": {
    "name": "ipython",
    "version": 3
   },
   "file_extension": ".py",
   "mimetype": "text/x-python",
   "name": "python",
   "nbconvert_exporter": "python",
   "pygments_lexer": "ipython3",
   "version": "3.8.5"
  }
 },
 "nbformat": 4,
 "nbformat_minor": 4
}
