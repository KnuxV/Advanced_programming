{
 "cells": [
  {
   "metadata": {
    "ExecuteTime": {
     "end_time": "2024-10-09T20:20:58.614466Z",
     "start_time": "2024-10-09T20:20:58.612436Z"
    }
   },
   "cell_type": "code",
   "source": [
    "import pandas as pd\n",
    "import numpy as np"
   ],
   "id": "be56a6b8f8c2af71",
   "outputs": [],
   "execution_count": 2
  },
  {
   "metadata": {
    "ExecuteTime": {
     "end_time": "2024-10-09T20:20:59.439616Z",
     "start_time": "2024-10-09T20:20:58.879334Z"
    }
   },
   "cell_type": "code",
   "source": [
    "# Load the data\n",
    "df = pd.read_csv('data/wiki_movie_plots_deduped.csv')\n"
   ],
   "id": "fe0b9ffdb2c18cdb",
   "outputs": [],
   "execution_count": 3
  },
  {
   "metadata": {
    "ExecuteTime": {
     "end_time": "2024-10-09T20:20:59.455137Z",
     "start_time": "2024-10-09T20:20:59.448517Z"
    }
   },
   "cell_type": "code",
   "source": [
    "# Displaying 10 first columns\n",
    "df.head(10) # df.head() without argument will display the first 5 rows"
   ],
   "id": "16563f26aad25065",
   "outputs": [
    {
     "data": {
      "text/plain": [
       "   Release Year                             Title Origin/Ethnicity  \\\n",
       "0          1901            Kansas Saloon Smashers         American   \n",
       "1          1901     Love by the Light of the Moon         American   \n",
       "2          1901           The Martyred Presidents         American   \n",
       "3          1901  Terrible Teddy, the Grizzly King         American   \n",
       "4          1902            Jack and the Beanstalk         American   \n",
       "5          1903               Alice in Wonderland         American   \n",
       "6          1903           The Great Train Robbery         American   \n",
       "7          1904                   The Suburbanite         American   \n",
       "8          1905          The Little Train Robbery         American   \n",
       "9          1905        The Night Before Christmas         American   \n",
       "\n",
       "                             Director       Cast    Genre  \\\n",
       "0                             Unknown        NaN  unknown   \n",
       "1                             Unknown        NaN  unknown   \n",
       "2                             Unknown        NaN  unknown   \n",
       "3                             Unknown        NaN  unknown   \n",
       "4  George S. Fleming, Edwin S. Porter        NaN  unknown   \n",
       "5                      Cecil Hepworth  May Clark  unknown   \n",
       "6                     Edwin S. Porter        NaN  western   \n",
       "7                  Wallace McCutcheon        NaN   comedy   \n",
       "8                Edwin Stanton Porter        NaN  unknown   \n",
       "9                Edwin Stanton Porter        NaN  unknown   \n",
       "\n",
       "                                           Wiki Page  \\\n",
       "0  https://en.wikipedia.org/wiki/Kansas_Saloon_Sm...   \n",
       "1  https://en.wikipedia.org/wiki/Love_by_the_Ligh...   \n",
       "2  https://en.wikipedia.org/wiki/The_Martyred_Pre...   \n",
       "3  https://en.wikipedia.org/wiki/Terrible_Teddy,_...   \n",
       "4  https://en.wikipedia.org/wiki/Jack_and_the_Bea...   \n",
       "5  https://en.wikipedia.org/wiki/Alice_in_Wonderl...   \n",
       "6  https://en.wikipedia.org/wiki/The_Great_Train_...   \n",
       "7      https://en.wikipedia.org/wiki/The_Suburbanite   \n",
       "8  https://en.wikipedia.org/wiki/The_Little_Train...   \n",
       "9  https://en.wikipedia.org/wiki/The_Night_Before...   \n",
       "\n",
       "                                                Plot  \n",
       "0  A bartender is working at a saloon, serving dr...  \n",
       "1  The moon, painted with a smiling face hangs ov...  \n",
       "2  The film, just over a minute long, is composed...  \n",
       "3  Lasting just 61 seconds and consisting of two ...  \n",
       "4  The earliest known adaptation of the classic f...  \n",
       "5  Alice follows a large white rabbit down a \"Rab...  \n",
       "6  The film opens with two bandits breaking into ...  \n",
       "7  The film is about a family who move to the sub...  \n",
       "8  The opening scene shows the interior of the ro...  \n",
       "9  Scenes are introduced using lines of the poem....  "
      ],
      "text/html": [
       "<div>\n",
       "<style scoped>\n",
       "    .dataframe tbody tr th:only-of-type {\n",
       "        vertical-align: middle;\n",
       "    }\n",
       "\n",
       "    .dataframe tbody tr th {\n",
       "        vertical-align: top;\n",
       "    }\n",
       "\n",
       "    .dataframe thead th {\n",
       "        text-align: right;\n",
       "    }\n",
       "</style>\n",
       "<table border=\"1\" class=\"dataframe\">\n",
       "  <thead>\n",
       "    <tr style=\"text-align: right;\">\n",
       "      <th></th>\n",
       "      <th>Release Year</th>\n",
       "      <th>Title</th>\n",
       "      <th>Origin/Ethnicity</th>\n",
       "      <th>Director</th>\n",
       "      <th>Cast</th>\n",
       "      <th>Genre</th>\n",
       "      <th>Wiki Page</th>\n",
       "      <th>Plot</th>\n",
       "    </tr>\n",
       "  </thead>\n",
       "  <tbody>\n",
       "    <tr>\n",
       "      <th>0</th>\n",
       "      <td>1901</td>\n",
       "      <td>Kansas Saloon Smashers</td>\n",
       "      <td>American</td>\n",
       "      <td>Unknown</td>\n",
       "      <td>NaN</td>\n",
       "      <td>unknown</td>\n",
       "      <td>https://en.wikipedia.org/wiki/Kansas_Saloon_Sm...</td>\n",
       "      <td>A bartender is working at a saloon, serving dr...</td>\n",
       "    </tr>\n",
       "    <tr>\n",
       "      <th>1</th>\n",
       "      <td>1901</td>\n",
       "      <td>Love by the Light of the Moon</td>\n",
       "      <td>American</td>\n",
       "      <td>Unknown</td>\n",
       "      <td>NaN</td>\n",
       "      <td>unknown</td>\n",
       "      <td>https://en.wikipedia.org/wiki/Love_by_the_Ligh...</td>\n",
       "      <td>The moon, painted with a smiling face hangs ov...</td>\n",
       "    </tr>\n",
       "    <tr>\n",
       "      <th>2</th>\n",
       "      <td>1901</td>\n",
       "      <td>The Martyred Presidents</td>\n",
       "      <td>American</td>\n",
       "      <td>Unknown</td>\n",
       "      <td>NaN</td>\n",
       "      <td>unknown</td>\n",
       "      <td>https://en.wikipedia.org/wiki/The_Martyred_Pre...</td>\n",
       "      <td>The film, just over a minute long, is composed...</td>\n",
       "    </tr>\n",
       "    <tr>\n",
       "      <th>3</th>\n",
       "      <td>1901</td>\n",
       "      <td>Terrible Teddy, the Grizzly King</td>\n",
       "      <td>American</td>\n",
       "      <td>Unknown</td>\n",
       "      <td>NaN</td>\n",
       "      <td>unknown</td>\n",
       "      <td>https://en.wikipedia.org/wiki/Terrible_Teddy,_...</td>\n",
       "      <td>Lasting just 61 seconds and consisting of two ...</td>\n",
       "    </tr>\n",
       "    <tr>\n",
       "      <th>4</th>\n",
       "      <td>1902</td>\n",
       "      <td>Jack and the Beanstalk</td>\n",
       "      <td>American</td>\n",
       "      <td>George S. Fleming, Edwin S. Porter</td>\n",
       "      <td>NaN</td>\n",
       "      <td>unknown</td>\n",
       "      <td>https://en.wikipedia.org/wiki/Jack_and_the_Bea...</td>\n",
       "      <td>The earliest known adaptation of the classic f...</td>\n",
       "    </tr>\n",
       "    <tr>\n",
       "      <th>5</th>\n",
       "      <td>1903</td>\n",
       "      <td>Alice in Wonderland</td>\n",
       "      <td>American</td>\n",
       "      <td>Cecil Hepworth</td>\n",
       "      <td>May Clark</td>\n",
       "      <td>unknown</td>\n",
       "      <td>https://en.wikipedia.org/wiki/Alice_in_Wonderl...</td>\n",
       "      <td>Alice follows a large white rabbit down a \"Rab...</td>\n",
       "    </tr>\n",
       "    <tr>\n",
       "      <th>6</th>\n",
       "      <td>1903</td>\n",
       "      <td>The Great Train Robbery</td>\n",
       "      <td>American</td>\n",
       "      <td>Edwin S. Porter</td>\n",
       "      <td>NaN</td>\n",
       "      <td>western</td>\n",
       "      <td>https://en.wikipedia.org/wiki/The_Great_Train_...</td>\n",
       "      <td>The film opens with two bandits breaking into ...</td>\n",
       "    </tr>\n",
       "    <tr>\n",
       "      <th>7</th>\n",
       "      <td>1904</td>\n",
       "      <td>The Suburbanite</td>\n",
       "      <td>American</td>\n",
       "      <td>Wallace McCutcheon</td>\n",
       "      <td>NaN</td>\n",
       "      <td>comedy</td>\n",
       "      <td>https://en.wikipedia.org/wiki/The_Suburbanite</td>\n",
       "      <td>The film is about a family who move to the sub...</td>\n",
       "    </tr>\n",
       "    <tr>\n",
       "      <th>8</th>\n",
       "      <td>1905</td>\n",
       "      <td>The Little Train Robbery</td>\n",
       "      <td>American</td>\n",
       "      <td>Edwin Stanton Porter</td>\n",
       "      <td>NaN</td>\n",
       "      <td>unknown</td>\n",
       "      <td>https://en.wikipedia.org/wiki/The_Little_Train...</td>\n",
       "      <td>The opening scene shows the interior of the ro...</td>\n",
       "    </tr>\n",
       "    <tr>\n",
       "      <th>9</th>\n",
       "      <td>1905</td>\n",
       "      <td>The Night Before Christmas</td>\n",
       "      <td>American</td>\n",
       "      <td>Edwin Stanton Porter</td>\n",
       "      <td>NaN</td>\n",
       "      <td>unknown</td>\n",
       "      <td>https://en.wikipedia.org/wiki/The_Night_Before...</td>\n",
       "      <td>Scenes are introduced using lines of the poem....</td>\n",
       "    </tr>\n",
       "  </tbody>\n",
       "</table>\n",
       "</div>"
      ]
     },
     "execution_count": 4,
     "metadata": {},
     "output_type": "execute_result"
    }
   ],
   "execution_count": 4
  },
  {
   "metadata": {
    "ExecuteTime": {
     "end_time": "2024-10-09T20:20:59.559893Z",
     "start_time": "2024-10-09T20:20:59.557769Z"
    }
   },
   "cell_type": "code",
   "source": [
    "# Displaying the columns\n",
    "df.columns"
   ],
   "id": "89c622f48d7a413b",
   "outputs": [
    {
     "data": {
      "text/plain": [
       "Index(['Release Year', 'Title', 'Origin/Ethnicity', 'Director', 'Cast',\n",
       "       'Genre', 'Wiki Page', 'Plot'],\n",
       "      dtype='object')"
      ]
     },
     "execution_count": 5,
     "metadata": {},
     "output_type": "execute_result"
    }
   ],
   "execution_count": 5
  },
  {
   "metadata": {
    "ExecuteTime": {
     "end_time": "2024-10-09T20:20:59.690725Z",
     "start_time": "2024-10-09T20:20:59.688549Z"
    }
   },
   "cell_type": "code",
   "source": [
    "# Displaying the shape of the data (number of rows, number of columns)\n",
    "df.shape"
   ],
   "id": "25da6b505664156f",
   "outputs": [
    {
     "data": {
      "text/plain": [
       "(34886, 8)"
      ]
     },
     "execution_count": 6,
     "metadata": {},
     "output_type": "execute_result"
    }
   ],
   "execution_count": 6
  },
  {
   "metadata": {
    "ExecuteTime": {
     "end_time": "2024-10-09T20:20:59.853522Z",
     "start_time": "2024-10-09T20:20:59.850316Z"
    }
   },
   "cell_type": "code",
   "source": [
    "# Displaying the data types of the columns\n",
    "df.dtypes"
   ],
   "id": "2b752aa94da62e40",
   "outputs": [
    {
     "data": {
      "text/plain": [
       "Release Year         int64\n",
       "Title               object\n",
       "Origin/Ethnicity    object\n",
       "Director            object\n",
       "Cast                object\n",
       "Genre               object\n",
       "Wiki Page           object\n",
       "Plot                object\n",
       "dtype: object"
      ]
     },
     "execution_count": 7,
     "metadata": {},
     "output_type": "execute_result"
    }
   ],
   "execution_count": 7
  },
  {
   "metadata": {
    "ExecuteTime": {
     "end_time": "2024-10-09T20:21:00.085646Z",
     "start_time": "2024-10-09T20:20:59.945075Z"
    }
   },
   "cell_type": "code",
   "source": [
    "# Displaying the number of unique values in each column\n",
    "df.nunique()"
   ],
   "id": "cf7f5b258c8daaaf",
   "outputs": [
    {
     "data": {
      "text/plain": [
       "Release Year          117\n",
       "Title               32432\n",
       "Origin/Ethnicity       24\n",
       "Director            12593\n",
       "Cast                32182\n",
       "Genre                2265\n",
       "Wiki Page           34070\n",
       "Plot                33869\n",
       "dtype: int64"
      ]
     },
     "execution_count": 8,
     "metadata": {},
     "output_type": "execute_result"
    }
   ],
   "execution_count": 8
  },
  {
   "metadata": {
    "ExecuteTime": {
     "end_time": "2024-10-09T20:21:00.205496Z",
     "start_time": "2024-10-09T20:21:00.194714Z"
    }
   },
   "cell_type": "code",
   "source": [
    "# Displaying the number of missing values in each column\n",
    "df.isnull().sum()"
   ],
   "id": "4d8c0a6f34c2d258",
   "outputs": [
    {
     "data": {
      "text/plain": [
       "Release Year           0\n",
       "Title                  0\n",
       "Origin/Ethnicity       0\n",
       "Director               0\n",
       "Cast                1422\n",
       "Genre                  0\n",
       "Wiki Page              0\n",
       "Plot                   0\n",
       "dtype: int64"
      ]
     },
     "execution_count": 9,
     "metadata": {},
     "output_type": "execute_result"
    }
   ],
   "execution_count": 9
  },
  {
   "metadata": {
    "ExecuteTime": {
     "end_time": "2024-10-09T20:21:00.885631Z",
     "start_time": "2024-10-09T20:21:00.877800Z"
    }
   },
   "cell_type": "code",
   "source": [
    "# How many unknown director\n",
    "unknown_director = df['Director'].value_counts()['Unknown']\n",
    "print(f\"There are {unknown_director}/{len(df)} unknown directors.\")"
   ],
   "id": "b97fd7a2a9deefbf",
   "outputs": [
    {
     "name": "stdout",
     "output_type": "stream",
     "text": [
      "There are 1124/34886 unknown directors.\n"
     ]
    }
   ],
   "execution_count": 10
  },
  {
   "metadata": {
    "ExecuteTime": {
     "end_time": "2024-10-09T20:21:01.839142Z",
     "start_time": "2024-10-09T20:21:01.830629Z"
    }
   },
   "cell_type": "code",
   "source": [
    "# Most prolific directors\n",
    "df['Director'].value_counts()"
   ],
   "id": "6d564ab7a6929dfb",
   "outputs": [
    {
     "data": {
      "text/plain": [
       "Director\n",
       "Unknown                1124\n",
       "Michael Curtiz           79\n",
       "Hanna-Barbera            77\n",
       "Lloyd Bacon              66\n",
       "Jules White              63\n",
       "                       ... \n",
       "Brian Clemens             1\n",
       "Lester James Peries       1\n",
       "Maurice Hamblin           1\n",
       "Trevor Wrenn              1\n",
       "Ferzan Özpetek            1\n",
       "Name: count, Length: 12593, dtype: int64"
      ]
     },
     "execution_count": 11,
     "metadata": {},
     "output_type": "execute_result"
    }
   ],
   "execution_count": 11
  },
  {
   "metadata": {
    "ExecuteTime": {
     "end_time": "2024-10-09T20:21:02.691850Z",
     "start_time": "2024-10-09T20:21:02.166415Z"
    }
   },
   "cell_type": "code",
   "source": [
    "# Distribution by year\n",
    "df['Release Year'].value_counts().sort_index().plot(kind=\"bar\")"
   ],
   "id": "a7778e6b52c6de64",
   "outputs": [
    {
     "data": {
      "text/plain": [
       "<Axes: xlabel='Release Year'>"
      ]
     },
     "execution_count": 12,
     "metadata": {},
     "output_type": "execute_result"
    },
    {
     "data": {
      "text/plain": [
       "<Figure size 640x480 with 1 Axes>"
      ],
      "image/png": "[encoded data removed]"
     },
     "metadata": {},
     "output_type": "display_data"
    }
   ],
   "execution_count": 12
  },
  {
   "metadata": {
    "ExecuteTime": {
     "end_time": "2024-10-09T20:21:03.786110Z",
     "start_time": "2024-10-09T20:21:03.699094Z"
    }
   },
   "cell_type": "code",
   "source": [
    "# Distribution by decade\n",
    "df['Decade'] = df['Release Year'] // 10 * 10\n",
    "df['Decade'].value_counts().sort_index().plot(kind=\"bar\")"
   ],
   "id": "ac3232b953d0cbdb",
   "outputs": [
    {
     "data": {
      "text/plain": [
       "<Axes: xlabel='Decade'>"
      ]
     },
     "execution_count": 13,
     "metadata": {},
     "output_type": "execute_result"
    },
    {
     "data": {
      "text/plain": [
       "<Figure size 640x480 with 1 Axes>"
      ],
      "image/png": "[encoded data removed]"
     },
     "metadata": {},
     "output_type": "display_data"
    }
   ],
   "execution_count": 13
  },
  {
   "metadata": {
    "ExecuteTime": {
     "end_time": "2024-10-09T20:21:05.849425Z",
     "start_time": "2024-10-09T20:21:05.816749Z"
    }
   },
   "cell_type": "code",
   "source": [
    "# Most prolific comedy director between 2000 and 2010\n",
    "\n",
    "# Create a condition to filter movies released between the years 2000 and 2010 (inclusive)\n",
    "condition_year = df['Release Year'].between(2000, 2010)\n",
    "\n",
    "# Create a condition to filter movies that have 'comedy' in their genre, case insensitive\n",
    "condition_comedy = df['Genre'].str.contains('comedy', case=False)\n",
    "\n",
    "# Apply both conditions to the DataFrame to get movies that are comedies released between 2000 and 2010\n",
    "comedy_2000_2010 = df[condition_year & condition_comedy]\n",
    "comedy_2000_2010"
   ],
   "id": "411a3de972f6134",
   "outputs": [
    {
     "data": {
      "text/plain": [
       "       Release Year                                   Title Origin/Ethnicity  \\\n",
       "13592          2000                          102 Dalmatians         American   \n",
       "13594          2000                               3 Strikes         American   \n",
       "13596          2000  The Adventures of Rocky and Bullwinkle         American   \n",
       "13598          2000                           Almost Famous         American   \n",
       "13599          2000                         American Psycho         American   \n",
       "...             ...                                     ...              ...   \n",
       "34841          2010                         Romantik Komedi          Turkish   \n",
       "34842          2010                          Recep İvedik 3          Turkish   \n",
       "34843          2010                             Eyvah Eyvah          Turkish   \n",
       "34847          2010                               Ay Lav Yu          Turkish   \n",
       "34851          2010            Çok Berbat Hareketler Bunlar          Turkish   \n",
       "\n",
       "              Director                                               Cast  \\\n",
       "13592       Kevin Lima         Glenn Close, Gérard Depardieu, Alice Evans   \n",
       "13594          DJ Pooh                        Brian Hooks, N'Bushe Wright   \n",
       "13596      Des McAnuff  Rene Russo, Jason Alexander, Robert De Niro, P...   \n",
       "13598    Cameron Crowe  Billy Crudup, Frances McDormand, Kate Hudson, ...   \n",
       "13599      Mary Harron        Christian Bale, Chloë Sevigny, Willem Dafoe   \n",
       "...                ...                                                ...   \n",
       "34841           Ketche              Sedef Avcı, Sinem Kobal & Cemal Hünal   \n",
       "34842   Togan Gökbakar       Şahan Gökbakar, Zeynep Çamcı & Emirhan Çelik   \n",
       "34843      Hakan Algül                          Demet Akbag & Ata Demirer   \n",
       "34847  Sermiyan Midyat  Fadik Sevin Atasoy, Sermiyan Midyat & Steve Gu...   \n",
       "34851     Ozan Açıktan          Eser Yenenler, Ersin Korkut & Oğuzhan Koç   \n",
       "\n",
       "                  Genre                                          Wiki Page  \\\n",
       "13592    comedy, family       https://en.wikipedia.org/wiki/102_Dalmatians   \n",
       "13594            comedy     https://en.wikipedia.org/wiki/3_Strikes_(film)   \n",
       "13596            comedy  https://en.wikipedia.org/wiki/The_Adventures_o...   \n",
       "13598     comedy, drama        https://en.wikipedia.org/wiki/Almost_Famous   \n",
       "13599  comedy, thriller  https://en.wikipedia.org/wiki/American_Psycho_...   \n",
       "...                 ...                                                ...   \n",
       "34841            comedy      https://en.wikipedia.org/wiki/Romantik_Komedi   \n",
       "34842            comedy  https://en.wikipedia.org/wiki/Recep_%C4%B0vedik_3   \n",
       "34843            comedy          https://en.wikipedia.org/wiki/Eyvah_Eyvah   \n",
       "34847            comedy            https://en.wikipedia.org/wiki/Ay_Lav_Yu   \n",
       "34851            comedy  https://en.wikipedia.org/wiki/%C3%87ok_Filim_H...   \n",
       "\n",
       "                                                    Plot  Decade  \n",
       "13592  After three years in prison, Cruella de Vil ha...    2000  \n",
       "13594  Robert Douglas (Brian Hooks) is in prison for ...    2000  \n",
       "13596  35 years since their show's cancellation in 19...    2000  \n",
       "13598  In 1969, child prodigy William Miller struggle...    2000  \n",
       "13599  In 1987, wealthy New York investment banker Pa...    2000  \n",
       "...                                                  ...     ...  \n",
       "34841  Esra, Didem and Zeynep are three close friends...    2010  \n",
       "34842  Recep İvedik (Şahan Gökbakar) shows signs of d...    2010  \n",
       "34843  Hüseyin (Ata Demirer) is a young man living wi...    2010  \n",
       "34847  Yusuf Ağa, the landlord of the tiny southeast ...    2010  \n",
       "34851  Nine separate stories intertwine into one come...    2010  \n",
       "\n",
       "[1422 rows x 9 columns]"
      ],
      "text/html": [
       "<div>\n",
       "<style scoped>\n",
       "    .dataframe tbody tr th:only-of-type {\n",
       "        vertical-align: middle;\n",
       "    }\n",
       "\n",
       "    .dataframe tbody tr th {\n",
       "        vertical-align: top;\n",
       "    }\n",
       "\n",
       "    .dataframe thead th {\n",
       "        text-align: right;\n",
       "    }\n",
       "</style>\n",
       "<table border=\"1\" class=\"dataframe\">\n",
       "  <thead>\n",
       "    <tr style=\"text-align: right;\">\n",
       "      <th></th>\n",
       "      <th>Release Year</th>\n",
       "      <th>Title</th>\n",
       "      <th>Origin/Ethnicity</th>\n",
       "      <th>Director</th>\n",
       "      <th>Cast</th>\n",
       "      <th>Genre</th>\n",
       "      <th>Wiki Page</th>\n",
       "      <th>Plot</th>\n",
       "      <th>Decade</th>\n",
       "    </tr>\n",
       "  </thead>\n",
       "  <tbody>\n",
       "    <tr>\n",
       "      <th>13592</th>\n",
       "      <td>2000</td>\n",
       "      <td>102 Dalmatians</td>\n",
       "      <td>American</td>\n",
       "      <td>Kevin Lima</td>\n",
       "      <td>Glenn Close, Gérard Depardieu, Alice Evans</td>\n",
       "      <td>comedy, family</td>\n",
       "      <td>https://en.wikipedia.org/wiki/102_Dalmatians</td>\n",
       "      <td>After three years in prison, Cruella de Vil ha...</td>\n",
       "      <td>2000</td>\n",
       "    </tr>\n",
       "    <tr>\n",
       "      <th>13594</th>\n",
       "      <td>2000</td>\n",
       "      <td>3 Strikes</td>\n",
       "      <td>American</td>\n",
       "      <td>DJ Pooh</td>\n",
       "      <td>Brian Hooks, N'Bushe Wright</td>\n",
       "      <td>comedy</td>\n",
       "      <td>https://en.wikipedia.org/wiki/3_Strikes_(film)</td>\n",
       "      <td>Robert Douglas (Brian Hooks) is in prison for ...</td>\n",
       "      <td>2000</td>\n",
       "    </tr>\n",
       "    <tr>\n",
       "      <th>13596</th>\n",
       "      <td>2000</td>\n",
       "      <td>The Adventures of Rocky and Bullwinkle</td>\n",
       "      <td>American</td>\n",
       "      <td>Des McAnuff</td>\n",
       "      <td>Rene Russo, Jason Alexander, Robert De Niro, P...</td>\n",
       "      <td>comedy</td>\n",
       "      <td>https://en.wikipedia.org/wiki/The_Adventures_o...</td>\n",
       "      <td>35 years since their show's cancellation in 19...</td>\n",
       "      <td>2000</td>\n",
       "    </tr>\n",
       "    <tr>\n",
       "      <th>13598</th>\n",
       "      <td>2000</td>\n",
       "      <td>Almost Famous</td>\n",
       "      <td>American</td>\n",
       "      <td>Cameron Crowe</td>\n",
       "      <td>Billy Crudup, Frances McDormand, Kate Hudson, ...</td>\n",
       "      <td>comedy, drama</td>\n",
       "      <td>https://en.wikipedia.org/wiki/Almost_Famous</td>\n",
       "      <td>In 1969, child prodigy William Miller struggle...</td>\n",
       "      <td>2000</td>\n",
       "    </tr>\n",
       "    <tr>\n",
       "      <th>13599</th>\n",
       "      <td>2000</td>\n",
       "      <td>American Psycho</td>\n",
       "      <td>American</td>\n",
       "      <td>Mary Harron</td>\n",
       "      <td>Christian Bale, Chloë Sevigny, Willem Dafoe</td>\n",
       "      <td>comedy, thriller</td>\n",
       "      <td>https://en.wikipedia.org/wiki/American_Psycho_...</td>\n",
       "      <td>In 1987, wealthy New York investment banker Pa...</td>\n",
       "      <td>2000</td>\n",
       "    </tr>\n",
       "    <tr>\n",
       "      <th>...</th>\n",
       "      <td>...</td>\n",
       "      <td>...</td>\n",
       "      <td>...</td>\n",
       "      <td>...</td>\n",
       "      <td>...</td>\n",
       "      <td>...</td>\n",
       "      <td>...</td>\n",
       "      <td>...</td>\n",
       "      <td>...</td>\n",
       "    </tr>\n",
       "    <tr>\n",
       "      <th>34841</th>\n",
       "      <td>2010</td>\n",
       "      <td>Romantik Komedi</td>\n",
       "      <td>Turkish</td>\n",
       "      <td>Ketche</td>\n",
       "      <td>Sedef Avcı, Sinem Kobal &amp; Cemal Hünal</td>\n",
       "      <td>comedy</td>\n",
       "      <td>https://en.wikipedia.org/wiki/Romantik_Komedi</td>\n",
       "      <td>Esra, Didem and Zeynep are three close friends...</td>\n",
       "      <td>2010</td>\n",
       "    </tr>\n",
       "    <tr>\n",
       "      <th>34842</th>\n",
       "      <td>2010</td>\n",
       "      <td>Recep İvedik 3</td>\n",
       "      <td>Turkish</td>\n",
       "      <td>Togan Gökbakar</td>\n",
       "      <td>Şahan Gökbakar, Zeynep Çamcı &amp; Emirhan Çelik</td>\n",
       "      <td>comedy</td>\n",
       "      <td>https://en.wikipedia.org/wiki/Recep_%C4%B0vedik_3</td>\n",
       "      <td>Recep İvedik (Şahan Gökbakar) shows signs of d...</td>\n",
       "      <td>2010</td>\n",
       "    </tr>\n",
       "    <tr>\n",
       "      <th>34843</th>\n",
       "      <td>2010</td>\n",
       "      <td>Eyvah Eyvah</td>\n",
       "      <td>Turkish</td>\n",
       "      <td>Hakan Algül</td>\n",
       "      <td>Demet Akbag &amp; Ata Demirer</td>\n",
       "      <td>comedy</td>\n",
       "      <td>https://en.wikipedia.org/wiki/Eyvah_Eyvah</td>\n",
       "      <td>Hüseyin (Ata Demirer) is a young man living wi...</td>\n",
       "      <td>2010</td>\n",
       "    </tr>\n",
       "    <tr>\n",
       "      <th>34847</th>\n",
       "      <td>2010</td>\n",
       "      <td>Ay Lav Yu</td>\n",
       "      <td>Turkish</td>\n",
       "      <td>Sermiyan Midyat</td>\n",
       "      <td>Fadik Sevin Atasoy, Sermiyan Midyat &amp; Steve Gu...</td>\n",
       "      <td>comedy</td>\n",
       "      <td>https://en.wikipedia.org/wiki/Ay_Lav_Yu</td>\n",
       "      <td>Yusuf Ağa, the landlord of the tiny southeast ...</td>\n",
       "      <td>2010</td>\n",
       "    </tr>\n",
       "    <tr>\n",
       "      <th>34851</th>\n",
       "      <td>2010</td>\n",
       "      <td>Çok Berbat Hareketler Bunlar</td>\n",
       "      <td>Turkish</td>\n",
       "      <td>Ozan Açıktan</td>\n",
       "      <td>Eser Yenenler, Ersin Korkut &amp; Oğuzhan Koç</td>\n",
       "      <td>comedy</td>\n",
       "      <td>https://en.wikipedia.org/wiki/%C3%87ok_Filim_H...</td>\n",
       "      <td>Nine separate stories intertwine into one come...</td>\n",
       "      <td>2010</td>\n",
       "    </tr>\n",
       "  </tbody>\n",
       "</table>\n",
       "<p>1422 rows × 9 columns</p>\n",
       "</div>"
      ]
     },
     "execution_count": 14,
     "metadata": {},
     "output_type": "execute_result"
    }
   ],
   "execution_count": 14
  },
  {
   "metadata": {
    "ExecuteTime": {
     "end_time": "2024-10-09T20:20:00.161646Z",
     "start_time": "2024-10-09T20:20:00.158175Z"
    }
   },
   "cell_type": "code",
   "source": "comedy_2000_2010['Director'].value_counts()",
   "id": "a4fd7ade24b5bb46",
   "outputs": [
    {
     "data": {
      "text/plain": [
       "Director\n",
       "Unknown          14\n",
       "David Dhawan     10\n",
       "Priyadarshan     10\n",
       "Tyler Perry       6\n",
       "Steve Carr        6\n",
       "                 ..\n",
       "Neil Burger       1\n",
       "Callie Khouri     1\n",
       "Paul Weiland      1\n",
       "Yann Samuell      1\n",
       "Ozan Açıktan      1\n",
       "Name: count, Length: 1078, dtype: int64"
      ]
     },
     "execution_count": 14,
     "metadata": {},
     "output_type": "execute_result"
    }
   ],
   "execution_count": 14
  },
  {
   "metadata": {
    "ExecuteTime": {
     "end_time": "2024-10-09T20:20:00.566930Z",
     "start_time": "2024-10-09T20:20:00.551799Z"
    }
   },
   "cell_type": "code",
   "source": [
    "# CAST\n",
    "# Remove null values\n",
    "print(f\"The length of the dataset before removing null values: {len(df)}\")\n",
    "df = df.dropna(subset=['Cast'])\n",
    "print(f\"The length of the dataset after removing null values: {len(df)}\")\n",
    "df['Cast']"
   ],
   "id": "545ad53cb3c7678f",
   "outputs": [
    {
     "name": "stdout",
     "output_type": "stream",
     "text": [
      "The length of the dataset before removing null values: 34886\n",
      "The length of the dataset after removing null values: 33464\n"
     ]
    },
    {
     "data": {
      "text/plain": [
       "5                                                May Clark\n",
       "13                       William Craven, Florence Lawrence\n",
       "14                                                 Unknown\n",
       "15                         Bertha Regustus, Edward Boulden\n",
       "16                       Arthur V. Johnson, Linda Arvidson\n",
       "                               ...                        \n",
       "34881    Director: Russell Crowe\\r\\nCast: Russell Crowe...\n",
       "34882                            Ahmet Kural, Murat Cemcir\n",
       "34883                Ata Demirer, Tuvana Türkay, Ülkü Duru\n",
       "34884    YouTubers Shanna Malcolm, Shira Lazar, Sara Fl...\n",
       "34885    Halit Ergenç, Tuba Büyüküstün, Mehmet Günsür, ...\n",
       "Name: Cast, Length: 33464, dtype: object"
      ]
     },
     "execution_count": 15,
     "metadata": {},
     "output_type": "execute_result"
    }
   ],
   "execution_count": 15
  },
  {
   "metadata": {
    "ExecuteTime": {
     "end_time": "2024-10-09T20:20:02.407522Z",
     "start_time": "2024-10-09T20:20:02.377713Z"
    }
   },
   "cell_type": "code",
   "source": [
    "# Remove rows where the 'Cast' column contains 'Unknown'\n",
    "print(f\"The length of the dataset before removing 'Unknown' values: {len(df)}\")\n",
    "\n",
    "# Create a condition to identify rows where the 'Cast' column contains the string 'Unknown', case insensitive\n",
    "condition = df['Cast'].str.contains('Unknown', case=False)\n",
    "\n",
    "# Filter the DataFrame to exclude rows where the 'Cast' column contains 'Unknown'\n",
    "df = df[~condition]\n",
    "print(f\"The length of the dataset after removing 'Unknown' values: {len(df)}\")\n",
    "\n",
    "# Display the 'Cast' column of the filtered DataFrame\n",
    "df['Cast']"
   ],
   "id": "878eeb2082b5bd1e",
   "outputs": [
    {
     "name": "stdout",
     "output_type": "stream",
     "text": [
      "The length of the dataset before removing 'Unknown' values: 33464\n",
      "The length of the dataset after removing 'Unknown' values: 33463\n"
     ]
    },
    {
     "data": {
      "text/plain": [
       "5                                                May Clark\n",
       "13                       William Craven, Florence Lawrence\n",
       "15                         Bertha Regustus, Edward Boulden\n",
       "16                       Arthur V. Johnson, Linda Arvidson\n",
       "17                                          D. W. Griffith\n",
       "                               ...                        \n",
       "34881    Director: Russell Crowe\\r\\nCast: Russell Crowe...\n",
       "34882                            Ahmet Kural, Murat Cemcir\n",
       "34883                Ata Demirer, Tuvana Türkay, Ülkü Duru\n",
       "34884    YouTubers Shanna Malcolm, Shira Lazar, Sara Fl...\n",
       "34885    Halit Ergenç, Tuba Büyüküstün, Mehmet Günsür, ...\n",
       "Name: Cast, Length: 33463, dtype: object"
      ]
     },
     "execution_count": 16,
     "metadata": {},
     "output_type": "execute_result"
    }
   ],
   "execution_count": 16
  },
  {
   "metadata": {
    "ExecuteTime": {
     "end_time": "2024-10-09T20:20:57.175011903Z",
     "start_time": "2024-10-09T20:20:25.790351Z"
    }
   },
   "cell_type": "code",
   "source": [
    "# Creating a special function that counts the number of actors in the 'Cast' column\n",
    "def count_actor(cast):\n",
    "    return len(cast.split(','))\n",
    "# Applying the function to the 'Cast' column to create a new column 'nb_actor'\n",
    "df['nb_actor'] = df['Cast'].apply(count_actor)\n",
    "df['nb_actor'].head(10).plot(kind=\"bar\")"
   ],
   "id": "8695dab8bb19a6bf",
   "outputs": [
    {
     "ename": "KeyboardInterrupt",
     "evalue": "",
     "output_type": "error",
     "traceback": [
      "\u001B[0;31m---------------------------------------------------------------------------\u001B[0m",
      "\u001B[0;31mKeyboardInterrupt\u001B[0m                         Traceback (most recent call last)",
      "Cell \u001B[0;32mIn[18], line 6\u001B[0m\n\u001B[1;32m      4\u001B[0m \u001B[38;5;66;03m# Applying the function to the 'Cast' column to create a new column 'nb_actor'\u001B[39;00m\n\u001B[1;32m      5\u001B[0m df[\u001B[38;5;124m'\u001B[39m\u001B[38;5;124mnb_actor\u001B[39m\u001B[38;5;124m'\u001B[39m] \u001B[38;5;241m=\u001B[39m df[\u001B[38;5;124m'\u001B[39m\u001B[38;5;124mCast\u001B[39m\u001B[38;5;124m'\u001B[39m]\u001B[38;5;241m.\u001B[39mapply(count_actor)\n\u001B[0;32m----> 6\u001B[0m df[\u001B[38;5;124m'\u001B[39m\u001B[38;5;124mnb_actor\u001B[39m\u001B[38;5;124m'\u001B[39m]\u001B[38;5;241m.\u001B[39mplot(kind\u001B[38;5;241m=\u001B[39m\u001B[38;5;124m\"\u001B[39m\u001B[38;5;124mbar\u001B[39m\u001B[38;5;124m\"\u001B[39m)\n",
      "File \u001B[0;32m~/anaconda3/envs/datascience/lib/python3.11/site-packages/pandas/plotting/_core.py:1031\u001B[0m, in \u001B[0;36mPlotAccessor.__call__\u001B[0;34m(self, *args, **kwargs)\u001B[0m\n\u001B[1;32m   1028\u001B[0m             label_name \u001B[38;5;241m=\u001B[39m label_kw \u001B[38;5;129;01mor\u001B[39;00m data\u001B[38;5;241m.\u001B[39mcolumns\n\u001B[1;32m   1029\u001B[0m             data\u001B[38;5;241m.\u001B[39mcolumns \u001B[38;5;241m=\u001B[39m label_name\n\u001B[0;32m-> 1031\u001B[0m \u001B[38;5;28;01mreturn\u001B[39;00m plot_backend\u001B[38;5;241m.\u001B[39mplot(data, kind\u001B[38;5;241m=\u001B[39mkind, \u001B[38;5;241m*\u001B[39m\u001B[38;5;241m*\u001B[39mkwargs)\n",
      "File \u001B[0;32m~/anaconda3/envs/datascience/lib/python3.11/site-packages/pandas/plotting/_matplotlib/__init__.py:71\u001B[0m, in \u001B[0;36mplot\u001B[0;34m(data, kind, **kwargs)\u001B[0m\n\u001B[1;32m     69\u001B[0m         kwargs[\u001B[38;5;124m\"\u001B[39m\u001B[38;5;124max\u001B[39m\u001B[38;5;124m\"\u001B[39m] \u001B[38;5;241m=\u001B[39m \u001B[38;5;28mgetattr\u001B[39m(ax, \u001B[38;5;124m\"\u001B[39m\u001B[38;5;124mleft_ax\u001B[39m\u001B[38;5;124m\"\u001B[39m, ax)\n\u001B[1;32m     70\u001B[0m plot_obj \u001B[38;5;241m=\u001B[39m PLOT_CLASSES[kind](data, \u001B[38;5;241m*\u001B[39m\u001B[38;5;241m*\u001B[39mkwargs)\n\u001B[0;32m---> 71\u001B[0m plot_obj\u001B[38;5;241m.\u001B[39mgenerate()\n\u001B[1;32m     72\u001B[0m plot_obj\u001B[38;5;241m.\u001B[39mdraw()\n\u001B[1;32m     73\u001B[0m \u001B[38;5;28;01mreturn\u001B[39;00m plot_obj\u001B[38;5;241m.\u001B[39mresult\n",
      "File \u001B[0;32m~/anaconda3/envs/datascience/lib/python3.11/site-packages/pandas/plotting/_matplotlib/core.py:460\u001B[0m, in \u001B[0;36mMPLPlot.generate\u001B[0;34m(self)\u001B[0m\n\u001B[1;32m    458\u001B[0m \u001B[38;5;28;01mfor\u001B[39;00m ax \u001B[38;5;129;01min\u001B[39;00m \u001B[38;5;28mself\u001B[39m\u001B[38;5;241m.\u001B[39maxes:\n\u001B[1;32m    459\u001B[0m     \u001B[38;5;28mself\u001B[39m\u001B[38;5;241m.\u001B[39m_post_plot_logic_common(ax, \u001B[38;5;28mself\u001B[39m\u001B[38;5;241m.\u001B[39mdata)\n\u001B[0;32m--> 460\u001B[0m     \u001B[38;5;28mself\u001B[39m\u001B[38;5;241m.\u001B[39m_post_plot_logic(ax, \u001B[38;5;28mself\u001B[39m\u001B[38;5;241m.\u001B[39mdata)\n",
      "File \u001B[0;32m~/anaconda3/envs/datascience/lib/python3.11/site-packages/pandas/plotting/_matplotlib/core.py:1760\u001B[0m, in \u001B[0;36mBarPlot._post_plot_logic\u001B[0;34m(self, ax, data)\u001B[0m\n\u001B[1;32m   1757\u001B[0m s_edge \u001B[38;5;241m=\u001B[39m \u001B[38;5;28mself\u001B[39m\u001B[38;5;241m.\u001B[39max_pos[\u001B[38;5;241m0\u001B[39m] \u001B[38;5;241m-\u001B[39m \u001B[38;5;241m0.25\u001B[39m \u001B[38;5;241m+\u001B[39m \u001B[38;5;28mself\u001B[39m\u001B[38;5;241m.\u001B[39mlim_offset\n\u001B[1;32m   1758\u001B[0m e_edge \u001B[38;5;241m=\u001B[39m \u001B[38;5;28mself\u001B[39m\u001B[38;5;241m.\u001B[39max_pos[\u001B[38;5;241m-\u001B[39m\u001B[38;5;241m1\u001B[39m] \u001B[38;5;241m+\u001B[39m \u001B[38;5;241m0.25\u001B[39m \u001B[38;5;241m+\u001B[39m \u001B[38;5;28mself\u001B[39m\u001B[38;5;241m.\u001B[39mbar_width \u001B[38;5;241m+\u001B[39m \u001B[38;5;28mself\u001B[39m\u001B[38;5;241m.\u001B[39mlim_offset\n\u001B[0;32m-> 1760\u001B[0m \u001B[38;5;28mself\u001B[39m\u001B[38;5;241m.\u001B[39m_decorate_ticks(ax, \u001B[38;5;28mself\u001B[39m\u001B[38;5;241m.\u001B[39m_get_index_name(), str_index, s_edge, e_edge)\n",
      "File \u001B[0;32m~/anaconda3/envs/datascience/lib/python3.11/site-packages/pandas/plotting/_matplotlib/core.py:1768\u001B[0m, in \u001B[0;36mBarPlot._decorate_ticks\u001B[0;34m(self, ax, name, ticklabels, start_edge, end_edge)\u001B[0m\n\u001B[1;32m   1766\u001B[0m     ax\u001B[38;5;241m.\u001B[39mset_xticks(np\u001B[38;5;241m.\u001B[39marray(\u001B[38;5;28mself\u001B[39m\u001B[38;5;241m.\u001B[39mxticks))\n\u001B[1;32m   1767\u001B[0m \u001B[38;5;28;01melse\u001B[39;00m:\n\u001B[0;32m-> 1768\u001B[0m     ax\u001B[38;5;241m.\u001B[39mset_xticks(\u001B[38;5;28mself\u001B[39m\u001B[38;5;241m.\u001B[39mtick_pos)\n\u001B[1;32m   1769\u001B[0m     ax\u001B[38;5;241m.\u001B[39mset_xticklabels(ticklabels)\n\u001B[1;32m   1771\u001B[0m \u001B[38;5;28;01mif\u001B[39;00m name \u001B[38;5;129;01mis\u001B[39;00m \u001B[38;5;129;01mnot\u001B[39;00m \u001B[38;5;28;01mNone\u001B[39;00m \u001B[38;5;129;01mand\u001B[39;00m \u001B[38;5;28mself\u001B[39m\u001B[38;5;241m.\u001B[39muse_index:\n",
      "File \u001B[0;32m~/anaconda3/envs/datascience/lib/python3.11/site-packages/matplotlib/axes/_base.py:73\u001B[0m, in \u001B[0;36m_axis_method_wrapper.__set_name__.<locals>.wrapper\u001B[0;34m(self, *args, **kwargs)\u001B[0m\n\u001B[1;32m     72\u001B[0m \u001B[38;5;28;01mdef\u001B[39;00m \u001B[38;5;21mwrapper\u001B[39m(\u001B[38;5;28mself\u001B[39m, \u001B[38;5;241m*\u001B[39margs, \u001B[38;5;241m*\u001B[39m\u001B[38;5;241m*\u001B[39mkwargs):\n\u001B[0;32m---> 73\u001B[0m     \u001B[38;5;28;01mreturn\u001B[39;00m get_method(\u001B[38;5;28mself\u001B[39m)(\u001B[38;5;241m*\u001B[39margs, \u001B[38;5;241m*\u001B[39m\u001B[38;5;241m*\u001B[39mkwargs)\n",
      "File \u001B[0;32m~/anaconda3/envs/datascience/lib/python3.11/site-packages/matplotlib/axis.py:2138\u001B[0m, in \u001B[0;36mAxis.set_ticks\u001B[0;34m(self, ticks, labels, minor, **kwargs)\u001B[0m\n\u001B[1;32m   2133\u001B[0m     first_key \u001B[38;5;241m=\u001B[39m \u001B[38;5;28mnext\u001B[39m(\u001B[38;5;28miter\u001B[39m(kwargs))\n\u001B[1;32m   2134\u001B[0m     \u001B[38;5;28;01mraise\u001B[39;00m \u001B[38;5;167;01mValueError\u001B[39;00m(\n\u001B[1;32m   2135\u001B[0m         \u001B[38;5;124mf\u001B[39m\u001B[38;5;124m\"\u001B[39m\u001B[38;5;124mIncorrect use of keyword argument \u001B[39m\u001B[38;5;132;01m{\u001B[39;00mfirst_key\u001B[38;5;132;01m!r}\u001B[39;00m\u001B[38;5;124m. Keyword arguments \u001B[39m\u001B[38;5;124m\"\u001B[39m\n\u001B[1;32m   2136\u001B[0m         \u001B[38;5;124m\"\u001B[39m\u001B[38;5;124mother than \u001B[39m\u001B[38;5;124m'\u001B[39m\u001B[38;5;124mminor\u001B[39m\u001B[38;5;124m'\u001B[39m\u001B[38;5;124m modify the text labels and can only be used if \u001B[39m\u001B[38;5;124m\"\u001B[39m\n\u001B[1;32m   2137\u001B[0m         \u001B[38;5;124m\"\u001B[39m\u001B[38;5;124m'\u001B[39m\u001B[38;5;124mlabels\u001B[39m\u001B[38;5;124m'\u001B[39m\u001B[38;5;124m are passed as well.\u001B[39m\u001B[38;5;124m\"\u001B[39m)\n\u001B[0;32m-> 2138\u001B[0m result \u001B[38;5;241m=\u001B[39m \u001B[38;5;28mself\u001B[39m\u001B[38;5;241m.\u001B[39m_set_tick_locations(ticks, minor\u001B[38;5;241m=\u001B[39mminor)\n\u001B[1;32m   2139\u001B[0m \u001B[38;5;28;01mif\u001B[39;00m labels \u001B[38;5;129;01mis\u001B[39;00m \u001B[38;5;129;01mnot\u001B[39;00m \u001B[38;5;28;01mNone\u001B[39;00m:\n\u001B[1;32m   2140\u001B[0m     \u001B[38;5;28mself\u001B[39m\u001B[38;5;241m.\u001B[39mset_ticklabels(labels, minor\u001B[38;5;241m=\u001B[39mminor, \u001B[38;5;241m*\u001B[39m\u001B[38;5;241m*\u001B[39mkwargs)\n",
      "File \u001B[0;32m~/anaconda3/envs/datascience/lib/python3.11/site-packages/matplotlib/axis.py:2089\u001B[0m, in \u001B[0;36mAxis._set_tick_locations\u001B[0;34m(self, ticks, minor)\u001B[0m\n\u001B[1;32m   2087\u001B[0m \u001B[38;5;28;01melse\u001B[39;00m:\n\u001B[1;32m   2088\u001B[0m     \u001B[38;5;28mself\u001B[39m\u001B[38;5;241m.\u001B[39mset_major_locator(locator)\n\u001B[0;32m-> 2089\u001B[0m     \u001B[38;5;28;01mreturn\u001B[39;00m \u001B[38;5;28mself\u001B[39m\u001B[38;5;241m.\u001B[39mget_major_ticks(\u001B[38;5;28mlen\u001B[39m(ticks))\n",
      "File \u001B[0;32m~/anaconda3/envs/datascience/lib/python3.11/site-packages/matplotlib/axis.py:1626\u001B[0m, in \u001B[0;36mAxis.get_major_ticks\u001B[0;34m(self, numticks)\u001B[0m\n\u001B[1;32m   1622\u001B[0m     numticks \u001B[38;5;241m=\u001B[39m \u001B[38;5;28mlen\u001B[39m(\u001B[38;5;28mself\u001B[39m\u001B[38;5;241m.\u001B[39mget_majorticklocs())\n\u001B[1;32m   1624\u001B[0m \u001B[38;5;28;01mwhile\u001B[39;00m \u001B[38;5;28mlen\u001B[39m(\u001B[38;5;28mself\u001B[39m\u001B[38;5;241m.\u001B[39mmajorTicks) \u001B[38;5;241m<\u001B[39m numticks:\n\u001B[1;32m   1625\u001B[0m     \u001B[38;5;66;03m# Update the new tick label properties from the old.\u001B[39;00m\n\u001B[0;32m-> 1626\u001B[0m     tick \u001B[38;5;241m=\u001B[39m \u001B[38;5;28mself\u001B[39m\u001B[38;5;241m.\u001B[39m_get_tick(major\u001B[38;5;241m=\u001B[39m\u001B[38;5;28;01mTrue\u001B[39;00m)\n\u001B[1;32m   1627\u001B[0m     \u001B[38;5;28mself\u001B[39m\u001B[38;5;241m.\u001B[39mmajorTicks\u001B[38;5;241m.\u001B[39mappend(tick)\n\u001B[1;32m   1628\u001B[0m     \u001B[38;5;28mself\u001B[39m\u001B[38;5;241m.\u001B[39m_copy_tick_props(\u001B[38;5;28mself\u001B[39m\u001B[38;5;241m.\u001B[39mmajorTicks[\u001B[38;5;241m0\u001B[39m], tick)\n",
      "File \u001B[0;32m~/anaconda3/envs/datascience/lib/python3.11/site-packages/matplotlib/axis.py:1562\u001B[0m, in \u001B[0;36mAxis._get_tick\u001B[0;34m(self, major)\u001B[0m\n\u001B[1;32m   1558\u001B[0m     \u001B[38;5;28;01mraise\u001B[39;00m \u001B[38;5;167;01mNotImplementedError\u001B[39;00m(\n\u001B[1;32m   1559\u001B[0m         \u001B[38;5;124mf\u001B[39m\u001B[38;5;124m\"\u001B[39m\u001B[38;5;124mThe Axis subclass \u001B[39m\u001B[38;5;132;01m{\u001B[39;00m\u001B[38;5;28mself\u001B[39m\u001B[38;5;241m.\u001B[39m\u001B[38;5;18m__class__\u001B[39m\u001B[38;5;241m.\u001B[39m\u001B[38;5;18m__name__\u001B[39m\u001B[38;5;132;01m}\u001B[39;00m\u001B[38;5;124m must define \u001B[39m\u001B[38;5;124m\"\u001B[39m\n\u001B[1;32m   1560\u001B[0m         \u001B[38;5;124m\"\u001B[39m\u001B[38;5;124m_tick_class or reimplement _get_tick()\u001B[39m\u001B[38;5;124m\"\u001B[39m)\n\u001B[1;32m   1561\u001B[0m tick_kw \u001B[38;5;241m=\u001B[39m \u001B[38;5;28mself\u001B[39m\u001B[38;5;241m.\u001B[39m_major_tick_kw \u001B[38;5;28;01mif\u001B[39;00m major \u001B[38;5;28;01melse\u001B[39;00m \u001B[38;5;28mself\u001B[39m\u001B[38;5;241m.\u001B[39m_minor_tick_kw\n\u001B[0;32m-> 1562\u001B[0m \u001B[38;5;28;01mreturn\u001B[39;00m \u001B[38;5;28mself\u001B[39m\u001B[38;5;241m.\u001B[39m_tick_class(\u001B[38;5;28mself\u001B[39m\u001B[38;5;241m.\u001B[39maxes, \u001B[38;5;241m0\u001B[39m, major\u001B[38;5;241m=\u001B[39mmajor, \u001B[38;5;241m*\u001B[39m\u001B[38;5;241m*\u001B[39mtick_kw)\n",
      "File \u001B[0;32m~/anaconda3/envs/datascience/lib/python3.11/site-packages/matplotlib/axis.py:413\u001B[0m, in \u001B[0;36mXTick.__init__\u001B[0;34m(self, *args, **kwargs)\u001B[0m\n\u001B[1;32m    412\u001B[0m \u001B[38;5;28;01mdef\u001B[39;00m \u001B[38;5;21m__init__\u001B[39m(\u001B[38;5;28mself\u001B[39m, \u001B[38;5;241m*\u001B[39margs, \u001B[38;5;241m*\u001B[39m\u001B[38;5;241m*\u001B[39mkwargs):\n\u001B[0;32m--> 413\u001B[0m     \u001B[38;5;28msuper\u001B[39m()\u001B[38;5;241m.\u001B[39m\u001B[38;5;21m__init__\u001B[39m(\u001B[38;5;241m*\u001B[39margs, \u001B[38;5;241m*\u001B[39m\u001B[38;5;241m*\u001B[39mkwargs)\n\u001B[1;32m    414\u001B[0m     \u001B[38;5;66;03m# x in data coords, y in axes coords\u001B[39;00m\n\u001B[1;32m    415\u001B[0m     ax \u001B[38;5;241m=\u001B[39m \u001B[38;5;28mself\u001B[39m\u001B[38;5;241m.\u001B[39maxes\n",
      "File \u001B[0;32m~/anaconda3/envs/datascience/lib/python3.11/site-packages/matplotlib/axis.py:191\u001B[0m, in \u001B[0;36mTick.__init__\u001B[0;34m(self, axes, loc, size, width, color, tickdir, pad, labelsize, labelcolor, labelfontfamily, zorder, gridOn, tick1On, tick2On, label1On, label2On, major, labelrotation, grid_color, grid_linestyle, grid_linewidth, grid_alpha, **kwargs)\u001B[0m\n\u001B[1;32m    187\u001B[0m \u001B[38;5;28mself\u001B[39m\u001B[38;5;241m.\u001B[39m_apply_tickdir(tickdir)\n\u001B[1;32m    189\u001B[0m \u001B[38;5;28;01mfor\u001B[39;00m artist \u001B[38;5;129;01min\u001B[39;00m [\u001B[38;5;28mself\u001B[39m\u001B[38;5;241m.\u001B[39mtick1line, \u001B[38;5;28mself\u001B[39m\u001B[38;5;241m.\u001B[39mtick2line, \u001B[38;5;28mself\u001B[39m\u001B[38;5;241m.\u001B[39mgridline,\n\u001B[1;32m    190\u001B[0m                \u001B[38;5;28mself\u001B[39m\u001B[38;5;241m.\u001B[39mlabel1, \u001B[38;5;28mself\u001B[39m\u001B[38;5;241m.\u001B[39mlabel2]:\n\u001B[0;32m--> 191\u001B[0m     \u001B[38;5;28mself\u001B[39m\u001B[38;5;241m.\u001B[39m_set_artist_props(artist)\n\u001B[1;32m    193\u001B[0m \u001B[38;5;28mself\u001B[39m\u001B[38;5;241m.\u001B[39mupdate_position(loc)\n",
      "File \u001B[0;32m~/anaconda3/envs/datascience/lib/python3.11/site-packages/matplotlib/axis.py:339\u001B[0m, in \u001B[0;36mTick._set_artist_props\u001B[0;34m(self, a)\u001B[0m\n\u001B[1;32m    338\u001B[0m \u001B[38;5;28;01mdef\u001B[39;00m \u001B[38;5;21m_set_artist_props\u001B[39m(\u001B[38;5;28mself\u001B[39m, a):\n\u001B[0;32m--> 339\u001B[0m     a\u001B[38;5;241m.\u001B[39mset_figure(\u001B[38;5;28mself\u001B[39m\u001B[38;5;241m.\u001B[39mfigure)\n",
      "File \u001B[0;32m~/anaconda3/envs/datascience/lib/python3.11/site-packages/matplotlib/artist.py:751\u001B[0m, in \u001B[0;36mArtist.set_figure\u001B[0;34m(self, fig)\u001B[0m\n\u001B[1;32m    749\u001B[0m \u001B[38;5;28mself\u001B[39m\u001B[38;5;241m.\u001B[39mfigure \u001B[38;5;241m=\u001B[39m fig\n\u001B[1;32m    750\u001B[0m \u001B[38;5;28;01mif\u001B[39;00m \u001B[38;5;28mself\u001B[39m\u001B[38;5;241m.\u001B[39mfigure \u001B[38;5;129;01mand\u001B[39;00m \u001B[38;5;28mself\u001B[39m\u001B[38;5;241m.\u001B[39mfigure \u001B[38;5;129;01mis\u001B[39;00m \u001B[38;5;129;01mnot\u001B[39;00m \u001B[38;5;28mself\u001B[39m:\n\u001B[0;32m--> 751\u001B[0m     \u001B[38;5;28mself\u001B[39m\u001B[38;5;241m.\u001B[39mpchanged()\n\u001B[1;32m    752\u001B[0m \u001B[38;5;28mself\u001B[39m\u001B[38;5;241m.\u001B[39mstale \u001B[38;5;241m=\u001B[39m \u001B[38;5;28;01mTrue\u001B[39;00m\n",
      "File \u001B[0;32m~/anaconda3/envs/datascience/lib/python3.11/site-packages/matplotlib/artist.py:416\u001B[0m, in \u001B[0;36mArtist.pchanged\u001B[0;34m(self)\u001B[0m\n\u001B[1;32m    407\u001B[0m \u001B[38;5;250m    \u001B[39m\u001B[38;5;124;03m\"\"\"\u001B[39;00m\n\u001B[1;32m    408\u001B[0m \u001B[38;5;124;03m    Remove a callback based on its observer id.\u001B[39;00m\n\u001B[1;32m    409\u001B[0m \n\u001B[0;32m   (...)\u001B[0m\n\u001B[1;32m    412\u001B[0m \u001B[38;5;124;03m    add_callback\u001B[39;00m\n\u001B[1;32m    413\u001B[0m \u001B[38;5;124;03m    \"\"\"\u001B[39;00m\n\u001B[1;32m    414\u001B[0m     \u001B[38;5;28mself\u001B[39m\u001B[38;5;241m.\u001B[39m_callbacks\u001B[38;5;241m.\u001B[39mdisconnect(oid)\n\u001B[0;32m--> 416\u001B[0m \u001B[38;5;28;01mdef\u001B[39;00m \u001B[38;5;21mpchanged\u001B[39m(\u001B[38;5;28mself\u001B[39m):\n\u001B[1;32m    417\u001B[0m \u001B[38;5;250m    \u001B[39m\u001B[38;5;124;03m\"\"\"\u001B[39;00m\n\u001B[1;32m    418\u001B[0m \u001B[38;5;124;03m    Call all of the registered callbacks.\u001B[39;00m\n\u001B[1;32m    419\u001B[0m \n\u001B[0;32m   (...)\u001B[0m\n\u001B[1;32m    425\u001B[0m \u001B[38;5;124;03m    remove_callback\u001B[39;00m\n\u001B[1;32m    426\u001B[0m \u001B[38;5;124;03m    \"\"\"\u001B[39;00m\n\u001B[1;32m    427\u001B[0m     \u001B[38;5;28mself\u001B[39m\u001B[38;5;241m.\u001B[39m_callbacks\u001B[38;5;241m.\u001B[39mprocess(\u001B[38;5;124m\"\u001B[39m\u001B[38;5;124mpchanged\u001B[39m\u001B[38;5;124m\"\u001B[39m)\n",
      "\u001B[0;31mKeyboardInterrupt\u001B[0m: "
     ]
    }
   ],
   "execution_count": null
  },
  {
   "metadata": {},
   "cell_type": "code",
   "outputs": [],
   "execution_count": null,
   "source": [
    "# Checking title duplicates\n",
    "print(f\"Number of duplicate titles: {df['Title'].duplicated().sum()}\")\n",
    "# Removing duplicates: 3 methods :\n",
    "# keep='first': keep the first occurence\n",
    "# keep='last': keep the last occurence\n",
    "# keep=False : remove all duplicates\n",
    "\n",
    "# We remove the duplicates, that is we remove hte rows where the 'Title' column is duplicated, we keep only the first occurence of each title\n",
    "df = df.drop_duplicates(subset='Title', keep=\"first\")\n"
   ],
   "id": "5121f3362d17f2ed"
  },
  {
   "metadata": {
    "ExecuteTime": {
     "end_time": "2024-10-09T14:25:21.163539Z",
     "start_time": "2024-10-09T14:25:21.155422Z"
    }
   },
   "cell_type": "code",
   "source": "",
   "id": "69617b1520ed3ccf",
   "outputs": [
    {
     "name": "stdout",
     "output_type": "stream",
     "text": [
      "652\n"
     ]
    },
    {
     "data": {
      "text/plain": [
       "       Release Year                                 Title Origin/Ethnicity  \\\n",
       "16910          2015  The Woman in Black 2: Angel of Death         American   \n",
       "16911          2015                               Taken 3         American   \n",
       "16912          2015                                 Match         American   \n",
       "16913          2015                              Blackhat         American   \n",
       "16914          2015                      Little Accidents         American   \n",
       "...             ...                                   ...              ...   \n",
       "34739          2015          The Advocate: A Missing Body     South_Korean   \n",
       "34740          2015                  Collective Invention     South_Korean   \n",
       "34741          2015                           The Priests     South_Korean   \n",
       "34742          2015                            Inside Men     South_Korean   \n",
       "34743          2015                          The Magician     South_Korean   \n",
       "\n",
       "              Director                                               Cast  \\\n",
       "16910       Tom Harper  Phoebe Fox\\r\\nJeremy Irvine\\r\\nHelen McCrory\\r...   \n",
       "16911  Olivier Megaton  Liam Neeson\\r\\nForest Whitaker\\r\\nFamke Jansse...   \n",
       "16912   Stephen Belber  Patrick Stewart\\r\\nCarla Gugino\\r\\nMatthew Lil...   \n",
       "16913     Michael Mann  Chris Hemsworth\\r\\nViola Davis\\r\\nManny Montan...   \n",
       "16914  Sarah Colangelo  Elizabeth Banks\\r\\nBoyd Holbrook\\r\\nChloë Sevi...   \n",
       "...                ...                                                ...   \n",
       "34739      Heo Jong-ho                           Lee Sun-kyun, Kim Go-eun   \n",
       "34740    Kwon Oh-kwang         Lee Kwang-soo, Park Bo-young, Lee Chun-hee   \n",
       "34741    Jang Jae-hyun                       Kim Yoon-seok, Kang Dong-won   \n",
       "34742       Woo Min-ho                        Lee Byung-hun, Jo Seung-woo   \n",
       "34743    Kim Dae-seung                  Yoo Seung-ho, Go Ara, Kwak Do-won   \n",
       "\n",
       "         Genre                                          Wiki Page  \\\n",
       "16910   horror  https://en.wikipedia.org/wiki/The_Woman_in_Bla...   \n",
       "16911   action              https://en.wikipedia.org/wiki/Taken_3   \n",
       "16912    drama         https://en.wikipedia.org/wiki/Match_(film)   \n",
       "16913   action      https://en.wikipedia.org/wiki/Blackhat_(film)   \n",
       "16914    drama     https://en.wikipedia.org/wiki/Little_Accidents   \n",
       "...        ...                                                ...   \n",
       "34739  unknown  https://en.wikipedia.org/wiki/The_Advocate:_A_...   \n",
       "34740  unknown  https://en.wikipedia.org/wiki/Collective_Inven...   \n",
       "34741  unknown   https://en.wikipedia.org/wiki/The_Priests_(film)   \n",
       "34742  unknown    https://en.wikipedia.org/wiki/Inside_Men_(film)   \n",
       "34743  unknown      https://en.wikipedia.org/wiki/Joseon_Magician   \n",
       "\n",
       "                                                    Plot  Decade  nb_actor  \n",
       "16910  Forty years after the events of the first film...    2010         1  \n",
       "16911  Former covert operative Bryan Mills (Liam Nees...    2010         1  \n",
       "16912  The film revolves around Tobi, a middle-aged e...    2010         1  \n",
       "16913  At a nuclear plant in Chai Wan, Hong Kong, a h...    2010         1  \n",
       "16914  In a small American town still living in the s...    2010         1  \n",
       "...                                                  ...     ...       ...  \n",
       "34739  Byeon Ho-sung is a hotshot lawyer at a big law...    2010         2  \n",
       "34740  A medical experiment gone wrong and a man muta...    2010         3  \n",
       "34741  A young girl who belongs to Father Kim's paris...    2010         2  \n",
       "34742  Lee Kang-hee, an editor at an influential cons...    2010         2  \n",
       "34743  A story of the famous magician in Joseon Era w...    2010         3  \n",
       "\n",
       "[652 rows x 10 columns]"
      ],
      "text/html": [
       "<div>\n",
       "<style scoped>\n",
       "    .dataframe tbody tr th:only-of-type {\n",
       "        vertical-align: middle;\n",
       "    }\n",
       "\n",
       "    .dataframe tbody tr th {\n",
       "        vertical-align: top;\n",
       "    }\n",
       "\n",
       "    .dataframe thead th {\n",
       "        text-align: right;\n",
       "    }\n",
       "</style>\n",
       "<table border=\"1\" class=\"dataframe\">\n",
       "  <thead>\n",
       "    <tr style=\"text-align: right;\">\n",
       "      <th></th>\n",
       "      <th>Release Year</th>\n",
       "      <th>Title</th>\n",
       "      <th>Origin/Ethnicity</th>\n",
       "      <th>Director</th>\n",
       "      <th>Cast</th>\n",
       "      <th>Genre</th>\n",
       "      <th>Wiki Page</th>\n",
       "      <th>Plot</th>\n",
       "      <th>Decade</th>\n",
       "      <th>nb_actor</th>\n",
       "    </tr>\n",
       "  </thead>\n",
       "  <tbody>\n",
       "    <tr>\n",
       "      <th>16910</th>\n",
       "      <td>2015</td>\n",
       "      <td>The Woman in Black 2: Angel of Death</td>\n",
       "      <td>American</td>\n",
       "      <td>Tom Harper</td>\n",
       "      <td>Phoebe Fox\\r\\nJeremy Irvine\\r\\nHelen McCrory\\r...</td>\n",
       "      <td>horror</td>\n",
       "      <td>https://en.wikipedia.org/wiki/The_Woman_in_Bla...</td>\n",
       "      <td>Forty years after the events of the first film...</td>\n",
       "      <td>2010</td>\n",
       "      <td>1</td>\n",
       "    </tr>\n",
       "    <tr>\n",
       "      <th>16911</th>\n",
       "      <td>2015</td>\n",
       "      <td>Taken 3</td>\n",
       "      <td>American</td>\n",
       "      <td>Olivier Megaton</td>\n",
       "      <td>Liam Neeson\\r\\nForest Whitaker\\r\\nFamke Jansse...</td>\n",
       "      <td>action</td>\n",
       "      <td>https://en.wikipedia.org/wiki/Taken_3</td>\n",
       "      <td>Former covert operative Bryan Mills (Liam Nees...</td>\n",
       "      <td>2010</td>\n",
       "      <td>1</td>\n",
       "    </tr>\n",
       "    <tr>\n",
       "      <th>16912</th>\n",
       "      <td>2015</td>\n",
       "      <td>Match</td>\n",
       "      <td>American</td>\n",
       "      <td>Stephen Belber</td>\n",
       "      <td>Patrick Stewart\\r\\nCarla Gugino\\r\\nMatthew Lil...</td>\n",
       "      <td>drama</td>\n",
       "      <td>https://en.wikipedia.org/wiki/Match_(film)</td>\n",
       "      <td>The film revolves around Tobi, a middle-aged e...</td>\n",
       "      <td>2010</td>\n",
       "      <td>1</td>\n",
       "    </tr>\n",
       "    <tr>\n",
       "      <th>16913</th>\n",
       "      <td>2015</td>\n",
       "      <td>Blackhat</td>\n",
       "      <td>American</td>\n",
       "      <td>Michael Mann</td>\n",
       "      <td>Chris Hemsworth\\r\\nViola Davis\\r\\nManny Montan...</td>\n",
       "      <td>action</td>\n",
       "      <td>https://en.wikipedia.org/wiki/Blackhat_(film)</td>\n",
       "      <td>At a nuclear plant in Chai Wan, Hong Kong, a h...</td>\n",
       "      <td>2010</td>\n",
       "      <td>1</td>\n",
       "    </tr>\n",
       "    <tr>\n",
       "      <th>16914</th>\n",
       "      <td>2015</td>\n",
       "      <td>Little Accidents</td>\n",
       "      <td>American</td>\n",
       "      <td>Sarah Colangelo</td>\n",
       "      <td>Elizabeth Banks\\r\\nBoyd Holbrook\\r\\nChloë Sevi...</td>\n",
       "      <td>drama</td>\n",
       "      <td>https://en.wikipedia.org/wiki/Little_Accidents</td>\n",
       "      <td>In a small American town still living in the s...</td>\n",
       "      <td>2010</td>\n",
       "      <td>1</td>\n",
       "    </tr>\n",
       "    <tr>\n",
       "      <th>...</th>\n",
       "      <td>...</td>\n",
       "      <td>...</td>\n",
       "      <td>...</td>\n",
       "      <td>...</td>\n",
       "      <td>...</td>\n",
       "      <td>...</td>\n",
       "      <td>...</td>\n",
       "      <td>...</td>\n",
       "      <td>...</td>\n",
       "      <td>...</td>\n",
       "    </tr>\n",
       "    <tr>\n",
       "      <th>34739</th>\n",
       "      <td>2015</td>\n",
       "      <td>The Advocate: A Missing Body</td>\n",
       "      <td>South_Korean</td>\n",
       "      <td>Heo Jong-ho</td>\n",
       "      <td>Lee Sun-kyun, Kim Go-eun</td>\n",
       "      <td>unknown</td>\n",
       "      <td>https://en.wikipedia.org/wiki/The_Advocate:_A_...</td>\n",
       "      <td>Byeon Ho-sung is a hotshot lawyer at a big law...</td>\n",
       "      <td>2010</td>\n",
       "      <td>2</td>\n",
       "    </tr>\n",
       "    <tr>\n",
       "      <th>34740</th>\n",
       "      <td>2015</td>\n",
       "      <td>Collective Invention</td>\n",
       "      <td>South_Korean</td>\n",
       "      <td>Kwon Oh-kwang</td>\n",
       "      <td>Lee Kwang-soo, Park Bo-young, Lee Chun-hee</td>\n",
       "      <td>unknown</td>\n",
       "      <td>https://en.wikipedia.org/wiki/Collective_Inven...</td>\n",
       "      <td>A medical experiment gone wrong and a man muta...</td>\n",
       "      <td>2010</td>\n",
       "      <td>3</td>\n",
       "    </tr>\n",
       "    <tr>\n",
       "      <th>34741</th>\n",
       "      <td>2015</td>\n",
       "      <td>The Priests</td>\n",
       "      <td>South_Korean</td>\n",
       "      <td>Jang Jae-hyun</td>\n",
       "      <td>Kim Yoon-seok, Kang Dong-won</td>\n",
       "      <td>unknown</td>\n",
       "      <td>https://en.wikipedia.org/wiki/The_Priests_(film)</td>\n",
       "      <td>A young girl who belongs to Father Kim's paris...</td>\n",
       "      <td>2010</td>\n",
       "      <td>2</td>\n",
       "    </tr>\n",
       "    <tr>\n",
       "      <th>34742</th>\n",
       "      <td>2015</td>\n",
       "      <td>Inside Men</td>\n",
       "      <td>South_Korean</td>\n",
       "      <td>Woo Min-ho</td>\n",
       "      <td>Lee Byung-hun, Jo Seung-woo</td>\n",
       "      <td>unknown</td>\n",
       "      <td>https://en.wikipedia.org/wiki/Inside_Men_(film)</td>\n",
       "      <td>Lee Kang-hee, an editor at an influential cons...</td>\n",
       "      <td>2010</td>\n",
       "      <td>2</td>\n",
       "    </tr>\n",
       "    <tr>\n",
       "      <th>34743</th>\n",
       "      <td>2015</td>\n",
       "      <td>The Magician</td>\n",
       "      <td>South_Korean</td>\n",
       "      <td>Kim Dae-seung</td>\n",
       "      <td>Yoo Seung-ho, Go Ara, Kwak Do-won</td>\n",
       "      <td>unknown</td>\n",
       "      <td>https://en.wikipedia.org/wiki/Joseon_Magician</td>\n",
       "      <td>A story of the famous magician in Joseon Era w...</td>\n",
       "      <td>2010</td>\n",
       "      <td>3</td>\n",
       "    </tr>\n",
       "  </tbody>\n",
       "</table>\n",
       "<p>652 rows × 10 columns</p>\n",
       "</div>"
      ]
     },
     "execution_count": 65,
     "metadata": {},
     "output_type": "execute_result"
    }
   ],
   "execution_count": 65
  },
  {
   "metadata": {},
   "cell_type": "code",
   "outputs": [],
   "execution_count": null,
   "source": "",
   "id": "d12214961065a677"
  }
 ],
 "metadata": {
  "kernelspec": {
   "display_name": "Python 3",
   "language": "python",
   "name": "python3"
  },
  "language_info": {
   "codemirror_mode": {
    "name": "ipython",
    "version": 2
   },
   "file_extension": ".py",
   "mimetype": "text/x-python",
   "name": "python",
   "nbconvert_exporter": "python",
   "pygments_lexer": "ipython2",
   "version": "2.7.6"
  }
 },
 "nbformat": 4,
 "nbformat_minor": 5
}
