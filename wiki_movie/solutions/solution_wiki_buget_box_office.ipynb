{
 "cells": [
  {
   "cell_type": "code",
   "id": "initial_id",
   "metadata": {
    "collapsed": true,
    "ExecuteTime": {
     "end_time": "2024-10-09T21:47:37.303660Z",
     "start_time": "2024-10-09T21:47:37.247980Z"
    }
   },
   "source": [
    "import pandas as pd\n",
    "df_american_2010 = pd.read_csv(\"../data/american_movies_with_budget_2010.csv\", index_col=0)\n",
    "df_american_2010.head()"
   ],
   "outputs": [
    {
     "data": {
      "text/plain": [
       "       Release Year                Title Origin/Ethnicity  \\\n",
       "15776          2010            127 Hours         American   \n",
       "15777          2010           The A-Team         American   \n",
       "15780          2010  Alice in Wonderland         American   \n",
       "15781          2010      All Good Things         American   \n",
       "15782          2010      Alpha and Omega         American   \n",
       "\n",
       "                      Director  \\\n",
       "15776              Danny Boyle   \n",
       "15777             Joe Carnahan   \n",
       "15780               Tim Burton   \n",
       "15781           Andrew Jarecki   \n",
       "15782  Anthony Bell, Ben Gluck   \n",
       "\n",
       "                                                    Cast  \\\n",
       "15776  James Franco, Amber Tamblyn, Kate Mara, Clémen...   \n",
       "15777  Liam Neeson, Bradley Cooper, Quinton \"Rampage\"...   \n",
       "15780  Johnny Depp, Anne Hathaway, Helena Bonham Cart...   \n",
       "15781  Ryan Gosling, Kirsten Dunst, Frank Langella, K...   \n",
       "15782  Justin Long, Hayden Panettiere, Dennis Hopper,...   \n",
       "\n",
       "                                 Genre  \\\n",
       "15776                 biography, drama   \n",
       "15777                action, adventure   \n",
       "15780                  family, fantasy   \n",
       "15781                          mystery   \n",
       "15782  animated, comedy, drama, family   \n",
       "\n",
       "                                               Wiki Page  \\\n",
       "15776            https://en.wikipedia.org/wiki/127_Hours   \n",
       "15777    https://en.wikipedia.org/wiki/The_A-Team_(film)   \n",
       "15780  https://en.wikipedia.org/wiki/Alice_in_Wonderl...   \n",
       "15781  https://en.wikipedia.org/wiki/All_Good_Things_...   \n",
       "15782  https://en.wikipedia.org/wiki/Alpha_and_Omega_...   \n",
       "\n",
       "                                                    Plot  \\\n",
       "15776  Mountaineer Aron Ralston goes hiking at Utah's...   \n",
       "15777  John \"Hannibal\" Smith is held captive in Mexic...   \n",
       "15780  Troubled by a strange recurring dream and mour...   \n",
       "15781  In 1970s New York City, David Marks (Gosling),...   \n",
       "15782  In Alberta, Canada's Jasper National Park, Kat...   \n",
       "\n",
       "                           Budget         Box Office  Clean_Budget  \\\n",
       "15776              $18 million[3]   $60.7 million[3]          18.0   \n",
       "15777      $100–110 million[2][3]  $177.2 million[3]         105.0   \n",
       "15780  $150[2][3]–$200[4] million  $1.025 billion[5]         175.0   \n",
       "15781                 $60 million    $1.8 million[2]          60.0   \n",
       "15782              $20 million[3]   $50.5 million[4]          20.0   \n",
       "\n",
       "       Clean_Box_Office  \n",
       "15776              60.7  \n",
       "15777             177.2  \n",
       "15780            1025.0  \n",
       "15781               1.8  \n",
       "15782              50.5  "
      ],
      "text/html": [
       "<div>\n",
       "<style scoped>\n",
       "    .dataframe tbody tr th:only-of-type {\n",
       "        vertical-align: middle;\n",
       "    }\n",
       "\n",
       "    .dataframe tbody tr th {\n",
       "        vertical-align: top;\n",
       "    }\n",
       "\n",
       "    .dataframe thead th {\n",
       "        text-align: right;\n",
       "    }\n",
       "</style>\n",
       "<table border=\"1\" class=\"dataframe\">\n",
       "  <thead>\n",
       "    <tr style=\"text-align: right;\">\n",
       "      <th></th>\n",
       "      <th>Release Year</th>\n",
       "      <th>Title</th>\n",
       "      <th>Origin/Ethnicity</th>\n",
       "      <th>Director</th>\n",
       "      <th>Cast</th>\n",
       "      <th>Genre</th>\n",
       "      <th>Wiki Page</th>\n",
       "      <th>Plot</th>\n",
       "      <th>Budget</th>\n",
       "      <th>Box Office</th>\n",
       "      <th>Clean_Budget</th>\n",
       "      <th>Clean_Box_Office</th>\n",
       "    </tr>\n",
       "  </thead>\n",
       "  <tbody>\n",
       "    <tr>\n",
       "      <th>15776</th>\n",
       "      <td>2010</td>\n",
       "      <td>127 Hours</td>\n",
       "      <td>American</td>\n",
       "      <td>Danny Boyle</td>\n",
       "      <td>James Franco, Amber Tamblyn, Kate Mara, Clémen...</td>\n",
       "      <td>biography, drama</td>\n",
       "      <td>https://en.wikipedia.org/wiki/127_Hours</td>\n",
       "      <td>Mountaineer Aron Ralston goes hiking at Utah's...</td>\n",
       "      <td>$18 million[3]</td>\n",
       "      <td>$60.7 million[3]</td>\n",
       "      <td>18.0</td>\n",
       "      <td>60.7</td>\n",
       "    </tr>\n",
       "    <tr>\n",
       "      <th>15777</th>\n",
       "      <td>2010</td>\n",
       "      <td>The A-Team</td>\n",
       "      <td>American</td>\n",
       "      <td>Joe Carnahan</td>\n",
       "      <td>Liam Neeson, Bradley Cooper, Quinton \"Rampage\"...</td>\n",
       "      <td>action, adventure</td>\n",
       "      <td>https://en.wikipedia.org/wiki/The_A-Team_(film)</td>\n",
       "      <td>John \"Hannibal\" Smith is held captive in Mexic...</td>\n",
       "      <td>$100–110 million[2][3]</td>\n",
       "      <td>$177.2 million[3]</td>\n",
       "      <td>105.0</td>\n",
       "      <td>177.2</td>\n",
       "    </tr>\n",
       "    <tr>\n",
       "      <th>15780</th>\n",
       "      <td>2010</td>\n",
       "      <td>Alice in Wonderland</td>\n",
       "      <td>American</td>\n",
       "      <td>Tim Burton</td>\n",
       "      <td>Johnny Depp, Anne Hathaway, Helena Bonham Cart...</td>\n",
       "      <td>family, fantasy</td>\n",
       "      <td>https://en.wikipedia.org/wiki/Alice_in_Wonderl...</td>\n",
       "      <td>Troubled by a strange recurring dream and mour...</td>\n",
       "      <td>$150[2][3]–$200[4] million</td>\n",
       "      <td>$1.025 billion[5]</td>\n",
       "      <td>175.0</td>\n",
       "      <td>1025.0</td>\n",
       "    </tr>\n",
       "    <tr>\n",
       "      <th>15781</th>\n",
       "      <td>2010</td>\n",
       "      <td>All Good Things</td>\n",
       "      <td>American</td>\n",
       "      <td>Andrew Jarecki</td>\n",
       "      <td>Ryan Gosling, Kirsten Dunst, Frank Langella, K...</td>\n",
       "      <td>mystery</td>\n",
       "      <td>https://en.wikipedia.org/wiki/All_Good_Things_...</td>\n",
       "      <td>In 1970s New York City, David Marks (Gosling),...</td>\n",
       "      <td>$60 million</td>\n",
       "      <td>$1.8 million[2]</td>\n",
       "      <td>60.0</td>\n",
       "      <td>1.8</td>\n",
       "    </tr>\n",
       "    <tr>\n",
       "      <th>15782</th>\n",
       "      <td>2010</td>\n",
       "      <td>Alpha and Omega</td>\n",
       "      <td>American</td>\n",
       "      <td>Anthony Bell, Ben Gluck</td>\n",
       "      <td>Justin Long, Hayden Panettiere, Dennis Hopper,...</td>\n",
       "      <td>animated, comedy, drama, family</td>\n",
       "      <td>https://en.wikipedia.org/wiki/Alpha_and_Omega_...</td>\n",
       "      <td>In Alberta, Canada's Jasper National Park, Kat...</td>\n",
       "      <td>$20 million[3]</td>\n",
       "      <td>$50.5 million[4]</td>\n",
       "      <td>20.0</td>\n",
       "      <td>50.5</td>\n",
       "    </tr>\n",
       "  </tbody>\n",
       "</table>\n",
       "</div>"
      ]
     },
     "execution_count": 3,
     "metadata": {},
     "output_type": "execute_result"
    }
   ],
   "execution_count": 3
  },
  {
   "metadata": {
    "ExecuteTime": {
     "end_time": "2024-10-09T21:48:35.066960Z",
     "start_time": "2024-10-09T21:48:35.062213Z"
    }
   },
   "cell_type": "code",
   "source": [
    "# Find the most expensive movie by budget\n",
    "max_budget = df_american_2010['Clean_Budget'].max()\n",
    "most_expensive_movie = df_american_2010[df_american_2010['Clean_Budget'] == max_budget]\n",
    "most_expensive_movie[['Title', 'Clean_Budget']]\n"
   ],
   "id": "b838eacfa1ef816d",
   "outputs": [
    {
     "data": {
      "text/plain": [
       "                         Title  Clean_Budget\n",
       "16983  Avengers: Age of Ultron         469.6"
      ],
      "text/html": [
       "<div>\n",
       "<style scoped>\n",
       "    .dataframe tbody tr th:only-of-type {\n",
       "        vertical-align: middle;\n",
       "    }\n",
       "\n",
       "    .dataframe tbody tr th {\n",
       "        vertical-align: top;\n",
       "    }\n",
       "\n",
       "    .dataframe thead th {\n",
       "        text-align: right;\n",
       "    }\n",
       "</style>\n",
       "<table border=\"1\" class=\"dataframe\">\n",
       "  <thead>\n",
       "    <tr style=\"text-align: right;\">\n",
       "      <th></th>\n",
       "      <th>Title</th>\n",
       "      <th>Clean_Budget</th>\n",
       "    </tr>\n",
       "  </thead>\n",
       "  <tbody>\n",
       "    <tr>\n",
       "      <th>16983</th>\n",
       "      <td>Avengers: Age of Ultron</td>\n",
       "      <td>469.6</td>\n",
       "    </tr>\n",
       "  </tbody>\n",
       "</table>\n",
       "</div>"
      ]
     },
     "execution_count": 6,
     "metadata": {},
     "output_type": "execute_result"
    }
   ],
   "execution_count": 6
  },
  {
   "metadata": {
    "ExecuteTime": {
     "end_time": "2024-10-09T21:49:17.893636Z",
     "start_time": "2024-10-09T21:49:17.888418Z"
    }
   },
   "cell_type": "code",
   "source": [
    "# Find the movie with the highest box office revenue\n",
    "max_clean_box_office = df_american_2010['Clean_Box_Office'].max()\n",
    "highest_clean_box_office_movie = df_american_2010[df_american_2010['Clean_Box_Office'] == max_clean_box_office]\n",
    "highest_clean_box_office_movie[['Title', 'Clean_Box_Office']]\n"
   ],
   "id": "f5b941f83ce9b0f4",
   "outputs": [
    {
     "data": {
      "text/plain": [
       "            Title  Clean_Box_Office\n",
       "16392  Titanic 3D            2264.0"
      ],
      "text/html": [
       "<div>\n",
       "<style scoped>\n",
       "    .dataframe tbody tr th:only-of-type {\n",
       "        vertical-align: middle;\n",
       "    }\n",
       "\n",
       "    .dataframe tbody tr th {\n",
       "        vertical-align: top;\n",
       "    }\n",
       "\n",
       "    .dataframe thead th {\n",
       "        text-align: right;\n",
       "    }\n",
       "</style>\n",
       "<table border=\"1\" class=\"dataframe\">\n",
       "  <thead>\n",
       "    <tr style=\"text-align: right;\">\n",
       "      <th></th>\n",
       "      <th>Title</th>\n",
       "      <th>Clean_Box_Office</th>\n",
       "    </tr>\n",
       "  </thead>\n",
       "  <tbody>\n",
       "    <tr>\n",
       "      <th>16392</th>\n",
       "      <td>Titanic 3D</td>\n",
       "      <td>2264.0</td>\n",
       "    </tr>\n",
       "  </tbody>\n",
       "</table>\n",
       "</div>"
      ]
     },
     "execution_count": 7,
     "metadata": {},
     "output_type": "execute_result"
    }
   ],
   "execution_count": 7
  },
  {
   "metadata": {
    "ExecuteTime": {
     "end_time": "2024-10-09T21:49:42.813072Z",
     "start_time": "2024-10-09T21:49:42.809170Z"
    }
   },
   "cell_type": "code",
   "source": [
    "# Calculate the average clean budget for all movies\n",
    "average_clean_budget = df_american_2010['Clean_Budget'].mean()\n",
    "average_clean_budget\n"
   ],
   "id": "774c0ea1027918bf",
   "outputs": [
    {
     "data": {
      "text/plain": [
       "50.924413890564374"
      ]
     },
     "execution_count": 8,
     "metadata": {},
     "output_type": "execute_result"
    }
   ],
   "execution_count": 8
  },
  {
   "metadata": {
    "ExecuteTime": {
     "end_time": "2024-10-09T21:54:17.813256Z",
     "start_time": "2024-10-09T21:54:17.806890Z"
    }
   },
   "cell_type": "code",
   "source": [
    "# Find the director with the highest avg in box office\n",
    "highest_avg = df_american_2010.groupby('Director')['Clean_Box_Office'].mean()\n",
    "highest_avg"
   ],
   "id": "6d58adf154d227a9",
   "outputs": [
    {
     "data": {
      "text/plain": [
       "Director\n",
       "A Monster Calls     47.300000\n",
       "Aaron Schneider     10.800000\n",
       "Aaron Sorkin        59.300000\n",
       "Aaron Woodley        1.040000\n",
       "Abe Sylvia           0.143485\n",
       "                      ...    \n",
       "Woody Allen         70.740000\n",
       "Zach Braff          84.900000\n",
       "Zack Snyder        487.120000\n",
       "Zal Batmanglij       0.408015\n",
       "Zhang Yimou        334.900000\n",
       "Name: Clean_Box_Office, Length: 778, dtype: float64"
      ]
     },
     "execution_count": 15,
     "metadata": {},
     "output_type": "execute_result"
    }
   ],
   "execution_count": 15
  },
  {
   "metadata": {
    "ExecuteTime": {
     "end_time": "2024-10-09T21:57:19.036891Z",
     "start_time": "2024-10-09T21:57:19.031107Z"
    }
   },
   "cell_type": "code",
   "source": "highest_avg.sort_values(ascending=False).head(1)",
   "id": "2ace219674488c50",
   "outputs": [
    {
     "data": {
      "text/plain": [
       "Director\n",
       "James Cameron    2264.0\n",
       "Name: Clean_Box_Office, dtype: float64"
      ]
     },
     "execution_count": 27,
     "metadata": {},
     "output_type": "execute_result"
    }
   ],
   "execution_count": 27
  },
  {
   "metadata": {
    "ExecuteTime": {
     "end_time": "2024-10-09T21:57:35.563154Z",
     "start_time": "2024-10-09T21:57:35.560345Z"
    }
   },
   "cell_type": "code",
   "source": [
    "# Calculate the total clean box office revenue for all movies\n",
    "total_clean_box_office = df_american_2010['Clean_Box_Office'].sum()\n",
    "total_clean_box_office"
   ],
   "id": "3b9a740a6acefb2",
   "outputs": [
    {
     "data": {
      "text/plain": [
       "183598.91116516"
      ]
     },
     "execution_count": 28,
     "metadata": {},
     "output_type": "execute_result"
    }
   ],
   "execution_count": 28
  },
  {
   "metadata": {
    "ExecuteTime": {
     "end_time": "2024-10-09T21:58:59.483724Z",
     "start_time": "2024-10-09T21:58:59.472870Z"
    }
   },
   "cell_type": "code",
   "source": [
    "# Filter for comedy movies and find the biggest budget\n",
    "comedy_movies = df_american_2010[df_american_2010['Genre'] == 'comedy']\n",
    "comedy_movies.sort_values(by=\"Clean_Budget\",ascending=False).head(1)\n"
   ],
   "id": "d2c6ab120dea0022",
   "outputs": [
    {
     "data": {
      "text/plain": [
       "       Release Year       Title Origin/Ethnicity     Director  \\\n",
       "17001          2015  Inside Out         American  Pete Docter   \n",
       "\n",
       "                                                    Cast   Genre  \\\n",
       "17001  Amy Poehler\\r\\nLewis Black\\r\\nMindy Kaling\\r\\n...  comedy   \n",
       "\n",
       "                                               Wiki Page  \\\n",
       "17001  https://en.wikipedia.org/wiki/Inside_Out_(2015...   \n",
       "\n",
       "                                                    Plot        Budget  \\\n",
       "17001  Riley Andersen is born in Minnesota. Within he...  $175 million   \n",
       "\n",
       "           Box Office  Clean_Budget  Clean_Box_Office  \n",
       "17001  $858.8 million         175.0             858.8  "
      ],
      "text/html": [
       "<div>\n",
       "<style scoped>\n",
       "    .dataframe tbody tr th:only-of-type {\n",
       "        vertical-align: middle;\n",
       "    }\n",
       "\n",
       "    .dataframe tbody tr th {\n",
       "        vertical-align: top;\n",
       "    }\n",
       "\n",
       "    .dataframe thead th {\n",
       "        text-align: right;\n",
       "    }\n",
       "</style>\n",
       "<table border=\"1\" class=\"dataframe\">\n",
       "  <thead>\n",
       "    <tr style=\"text-align: right;\">\n",
       "      <th></th>\n",
       "      <th>Release Year</th>\n",
       "      <th>Title</th>\n",
       "      <th>Origin/Ethnicity</th>\n",
       "      <th>Director</th>\n",
       "      <th>Cast</th>\n",
       "      <th>Genre</th>\n",
       "      <th>Wiki Page</th>\n",
       "      <th>Plot</th>\n",
       "      <th>Budget</th>\n",
       "      <th>Box Office</th>\n",
       "      <th>Clean_Budget</th>\n",
       "      <th>Clean_Box_Office</th>\n",
       "    </tr>\n",
       "  </thead>\n",
       "  <tbody>\n",
       "    <tr>\n",
       "      <th>17001</th>\n",
       "      <td>2015</td>\n",
       "      <td>Inside Out</td>\n",
       "      <td>American</td>\n",
       "      <td>Pete Docter</td>\n",
       "      <td>Amy Poehler\\r\\nLewis Black\\r\\nMindy Kaling\\r\\n...</td>\n",
       "      <td>comedy</td>\n",
       "      <td>https://en.wikipedia.org/wiki/Inside_Out_(2015...</td>\n",
       "      <td>Riley Andersen is born in Minnesota. Within he...</td>\n",
       "      <td>$175 million</td>\n",
       "      <td>$858.8 million</td>\n",
       "      <td>175.0</td>\n",
       "      <td>858.8</td>\n",
       "    </tr>\n",
       "  </tbody>\n",
       "</table>\n",
       "</div>"
      ]
     },
     "execution_count": 32,
     "metadata": {},
     "output_type": "execute_result"
    }
   ],
   "execution_count": 32
  },
  {
   "metadata": {
    "ExecuteTime": {
     "end_time": "2024-10-09T22:00:11.842566Z",
     "start_time": "2024-10-09T22:00:11.835952Z"
    }
   },
   "cell_type": "code",
   "source": [
    "# Filter for action movies and find the highest clean box office revenue\n",
    "action_movies = df_american_2010[df_american_2010['Genre'] == 'action']\n",
    "highest_clean_action_box_office = action_movies['Clean_Box_Office'].max()\n",
    "highest_clean_action_box_office_movie = action_movies[action_movies['Clean_Box_Office'] == highest_clean_action_box_office]\n",
    "highest_clean_action_box_office_movie[['Title', 'Clean_Box_Office']]"
   ],
   "id": "a781fcaa8abc3052",
   "outputs": [
    {
     "data": {
      "text/plain": [
       "           Title  Clean_Box_Office\n",
       "16966  Furious 7            1515.0"
      ],
      "text/html": [
       "<div>\n",
       "<style scoped>\n",
       "    .dataframe tbody tr th:only-of-type {\n",
       "        vertical-align: middle;\n",
       "    }\n",
       "\n",
       "    .dataframe tbody tr th {\n",
       "        vertical-align: top;\n",
       "    }\n",
       "\n",
       "    .dataframe thead th {\n",
       "        text-align: right;\n",
       "    }\n",
       "</style>\n",
       "<table border=\"1\" class=\"dataframe\">\n",
       "  <thead>\n",
       "    <tr style=\"text-align: right;\">\n",
       "      <th></th>\n",
       "      <th>Title</th>\n",
       "      <th>Clean_Box_Office</th>\n",
       "    </tr>\n",
       "  </thead>\n",
       "  <tbody>\n",
       "    <tr>\n",
       "      <th>16966</th>\n",
       "      <td>Furious 7</td>\n",
       "      <td>1515.0</td>\n",
       "    </tr>\n",
       "  </tbody>\n",
       "</table>\n",
       "</div>"
      ]
     },
     "execution_count": 35,
     "metadata": {},
     "output_type": "execute_result"
    }
   ],
   "execution_count": 35
  },
  {
   "metadata": {
    "ExecuteTime": {
     "end_time": "2024-10-09T22:00:31.573136Z",
     "start_time": "2024-10-09T22:00:31.566577Z"
    }
   },
   "cell_type": "code",
   "source": [
    "# Group by 'Director' and sum the clean box office revenue for each director\n",
    "directors_clean_box_office = df_american_2010.groupby('Director')['Clean_Box_Office'].sum()\n",
    "highest_grossing_clean_director = directors_clean_box_office.idxmax()\n",
    "highest_grossing_clean_director\n"
   ],
   "id": "8097a0522e8cd8e8",
   "outputs": [
    {
     "data": {
      "text/plain": [
       "'Michael Bay'"
      ]
     },
     "execution_count": 36,
     "metadata": {},
     "output_type": "execute_result"
    }
   ],
   "execution_count": 36
  },
  {
   "metadata": {
    "ExecuteTime": {
     "end_time": "2024-10-09T22:01:58.694377Z",
     "start_time": "2024-10-09T22:01:58.689995Z"
    }
   },
   "cell_type": "code",
   "source": [
    "# Group by 'Genre' and calculate the average clean budget for each genre\n",
    "genre_average_clean_budget = df_american_2010.groupby('Genre')['Clean_Budget'].mean().sort_values(ascending=False)\n",
    "genre_average_clean_budget"
   ],
   "id": "d9c025546bef62b4",
   "outputs": [
    {
     "data": {
      "text/plain": [
       "Genre\n",
       "superhero, action, adventure, fantasy, sci-fi    300.00000\n",
       "crime drama, superhero                           275.00000\n",
       "action, adventure, fantasy, comedy               275.00000\n",
       "action-adventure, family                         245.30000\n",
       "action, adventure, fantasy, sci-fi               242.50000\n",
       "                                                   ...    \n",
       "sci-fi, drama                                      0.25000\n",
       "fantasy, sci-fi drama                              0.10000\n",
       "drama, fantasy, horror, romance                    0.10000\n",
       "action, adventure, drama, superhero                0.00010\n",
       "neo-noir, action, thriller                         0.00004\n",
       "Name: Clean_Budget, Length: 346, dtype: float64"
      ]
     },
     "execution_count": 41,
     "metadata": {},
     "output_type": "execute_result"
    }
   ],
   "execution_count": 41
  },
  {
   "metadata": {
    "ExecuteTime": {
     "end_time": "2024-10-09T22:02:09.175128Z",
     "start_time": "2024-10-09T22:02:09.171198Z"
    }
   },
   "cell_type": "code",
   "source": [
    "genre_with_highest_average_clean_budget = genre_average_clean_budget.idxmax()\n",
    "genre_with_highest_average_clean_budget"
   ],
   "id": "53b5204da117626f",
   "outputs": [
    {
     "data": {
      "text/plain": [
       "'superhero, action, adventure, fantasy, sci-fi'"
      ]
     },
     "execution_count": 42,
     "metadata": {},
     "output_type": "execute_result"
    }
   ],
   "execution_count": 42
  },
  {
   "metadata": {
    "ExecuteTime": {
     "end_time": "2024-10-09T22:02:22.218728Z",
     "start_time": "2024-10-09T22:02:22.212289Z"
    }
   },
   "cell_type": "code",
   "source": [
    "# Create a new column for the clean box office-to-budget ratio\n",
    "df_american_2010['Ratio'] = df_american_2010['Clean_Box_Office'] / df_american_2010['Clean_Budget']\n",
    "\n"
   ],
   "id": "8f243cc9dac8f842",
   "outputs": [
    {
     "data": {
      "text/plain": [
       "Title    House at the End of the Street\n",
       "Ratio                    6391304.347826\n",
       "Name: 16300, dtype: object"
      ]
     },
     "execution_count": 43,
     "metadata": {},
     "output_type": "execute_result"
    }
   ],
   "execution_count": 43
  },
  {
   "metadata": {
    "ExecuteTime": {
     "end_time": "2024-10-09T22:10:31.022669Z",
     "start_time": "2024-10-09T22:10:31.011855Z"
    }
   },
   "cell_type": "code",
   "source": [
    "movie_with_highest_clean_ratio = df_american_2010.sort_values(by='Ratio', ascending=False)\n",
    "movie_with_highest_clean_ratio"
   ],
   "id": "fde00aa0b431bca0",
   "outputs": [
    {
     "data": {
      "text/plain": [
       "       Release Year                             Title Origin/Ethnicity  \\\n",
       "16300          2012    House at the End of the Street         American   \n",
       "17231          2017           How to Be a Latin Lover         American   \n",
       "16776          2014                             Rio 2         American   \n",
       "17184          2017              John Wick: Chapter 2         American   \n",
       "17032          2016                 Norm of the North         American   \n",
       "...             ...                               ...              ...   \n",
       "15906          2010                      Passion Play         American   \n",
       "17168          2017                       100 Streets         American   \n",
       "16286          2012  Ghost Rider: Spirit of Vengeance         American   \n",
       "16163          2012                     Air Collision         American   \n",
       "16141          2011                           The Way         American   \n",
       "\n",
       "               Director                                               Cast  \\\n",
       "16300     Mark Tonderai  Jennifer Lawrence, Max Thieriot, Gil Bellows a...   \n",
       "17231        Ken Marino  Ken Marino (director); Chris Spain, Jon Zack (...   \n",
       "16776   Carlos Saldanha  Jesse Eisenberg\\r\\nAnne Hathaway\\r\\nJamie Foxx...   \n",
       "17184    Chad Stahelski  Chad Stahelski (director); Derek Kolstad (scre...   \n",
       "17032       Trevor Wall       Rob Schneider\\r\\nHeather Graham\\r\\nKen Jeong   \n",
       "...                 ...                                                ...   \n",
       "15906      Mitch Glazer  Mickey Rourke, Megan Fox, Bill Murray, Kelly L...   \n",
       "17168      Jim O'Hanlon  Jim O'Hanlon (director); Leon F. Butler (scree...   \n",
       "16286  Neveldine/Taylor  Nicolas Cage, Ciarán Hinds, Violante Placido, ...   \n",
       "16163         Liz Adams      Reginald VelJohnson, Jordan Ladd, Gerald Webb   \n",
       "16141    Emilio Estevez  Martin Sheen, Deborah Kara Unger, Yorick van W...   \n",
       "\n",
       "                            Genre  \\\n",
       "16300             horror thriller   \n",
       "17231                      comedy   \n",
       "16776                    animated   \n",
       "17184  neo-noir, action, thriller   \n",
       "17032            animation comedy   \n",
       "...                           ...   \n",
       "15906                       drama   \n",
       "17168                       drama   \n",
       "16286                   superhero   \n",
       "16163                      action   \n",
       "16141                       drama   \n",
       "\n",
       "                                               Wiki Page  \\\n",
       "16300  https://en.wikipedia.org/wiki/House_at_the_End...   \n",
       "17231  https://en.wikipedia.org/wiki/How_to_Be_a_Lati...   \n",
       "16776                https://en.wikipedia.org/wiki/Rio_2   \n",
       "17184  https://en.wikipedia.org/wiki/John_Wick:_Chapt...   \n",
       "17032    https://en.wikipedia.org/wiki/Norm_of_the_North   \n",
       "...                                                  ...   \n",
       "15906  https://en.wikipedia.org/wiki/Passion_Play_(film)   \n",
       "17168          https://en.wikipedia.org/wiki/100_Streets   \n",
       "16286  https://en.wikipedia.org/wiki/Ghost_Rider:_Spi...   \n",
       "16163        https://en.wikipedia.org/wiki/Air_Collision   \n",
       "16141  https://en.wikipedia.org/wiki/The_Way_(2010_film)   \n",
       "\n",
       "                                                    Plot  \\\n",
       "16300  A newly divorced medical doctor Sarah Cassidy ...   \n",
       "17231  Having made a career of seducing rich older wo...   \n",
       "16776  Spix's Macaws Blu and Jewel and their three ch...   \n",
       "17184  Four days after the events of the first film[6...   \n",
       "17032  Norm the polar bear is the son of the king of ...   \n",
       "...                                                  ...   \n",
       "15906  Nate (Mickey Rourke), a small-time jazz musici...   \n",
       "17168  The film centers on three characters who have ...   \n",
       "16286  In Romania, a French priest named Moreau warns...   \n",
       "16163  After a major electromagnetic storm cripples c...   \n",
       "16141  Dr. Thomas Avery (Martin Sheen) is an American...   \n",
       "\n",
       "                          Budget                    Box Office  Clean_Budget  \\\n",
       "16300      $6.9-10 million[1][2]              $44.1 million[1]      0.000007   \n",
       "17231       $10-13 million[2][3]              $62.6 million[2]      0.000010   \n",
       "16776  $103‒130 million[2][3][4]             $498.8 million[3]      0.000103   \n",
       "17184            $40+ million[2]             $174.3 million[3]      0.000040   \n",
       "17032           $7-18 million[4]              $30.5 million[5]      0.000007   \n",
       "...                          ...                           ...           ...   \n",
       "15906                $15 million                        $3,669     15.000000   \n",
       "17168              £3 million[1]             less than $372[2]      3.000000   \n",
       "16286          $57 million[4][6]  $132.6 – 149.4 million[4][7]     57.000000   \n",
       "16163                 £4 million                         £2.56      4.000000   \n",
       "16141                        NaN             $21 million[5][6]           NaN   \n",
       "\n",
       "       Clean_Box_Office         Ratio     Benefit  \n",
       "16300         44.100000  6.391304e+06   44.099993  \n",
       "17231         62.600000  6.260000e+06   62.599990  \n",
       "16776        498.800000  4.842718e+06  498.799897  \n",
       "17184        174.300000  4.357500e+06  174.299960  \n",
       "17032         30.500000  4.357143e+06   30.499993  \n",
       "...                 ...           ...         ...  \n",
       "15906          0.003669  2.446000e-04  -14.996331  \n",
       "17168          0.000372  1.240000e-04   -2.999628  \n",
       "16286          0.000133  2.326316e-06  -56.999867  \n",
       "16163          0.000003  6.400000e-07   -3.999997  \n",
       "16141         21.000000           NaN         NaN  \n",
       "\n",
       "[1135 rows x 14 columns]"
      ],
      "text/html": [
       "<div>\n",
       "<style scoped>\n",
       "    .dataframe tbody tr th:only-of-type {\n",
       "        vertical-align: middle;\n",
       "    }\n",
       "\n",
       "    .dataframe tbody tr th {\n",
       "        vertical-align: top;\n",
       "    }\n",
       "\n",
       "    .dataframe thead th {\n",
       "        text-align: right;\n",
       "    }\n",
       "</style>\n",
       "<table border=\"1\" class=\"dataframe\">\n",
       "  <thead>\n",
       "    <tr style=\"text-align: right;\">\n",
       "      <th></th>\n",
       "      <th>Release Year</th>\n",
       "      <th>Title</th>\n",
       "      <th>Origin/Ethnicity</th>\n",
       "      <th>Director</th>\n",
       "      <th>Cast</th>\n",
       "      <th>Genre</th>\n",
       "      <th>Wiki Page</th>\n",
       "      <th>Plot</th>\n",
       "      <th>Budget</th>\n",
       "      <th>Box Office</th>\n",
       "      <th>Clean_Budget</th>\n",
       "      <th>Clean_Box_Office</th>\n",
       "      <th>Ratio</th>\n",
       "      <th>Benefit</th>\n",
       "    </tr>\n",
       "  </thead>\n",
       "  <tbody>\n",
       "    <tr>\n",
       "      <th>16300</th>\n",
       "      <td>2012</td>\n",
       "      <td>House at the End of the Street</td>\n",
       "      <td>American</td>\n",
       "      <td>Mark Tonderai</td>\n",
       "      <td>Jennifer Lawrence, Max Thieriot, Gil Bellows a...</td>\n",
       "      <td>horror thriller</td>\n",
       "      <td>https://en.wikipedia.org/wiki/House_at_the_End...</td>\n",
       "      <td>A newly divorced medical doctor Sarah Cassidy ...</td>\n",
       "      <td>$6.9-10 million[1][2]</td>\n",
       "      <td>$44.1 million[1]</td>\n",
       "      <td>0.000007</td>\n",
       "      <td>44.100000</td>\n",
       "      <td>6.391304e+06</td>\n",
       "      <td>44.099993</td>\n",
       "    </tr>\n",
       "    <tr>\n",
       "      <th>17231</th>\n",
       "      <td>2017</td>\n",
       "      <td>How to Be a Latin Lover</td>\n",
       "      <td>American</td>\n",
       "      <td>Ken Marino</td>\n",
       "      <td>Ken Marino (director); Chris Spain, Jon Zack (...</td>\n",
       "      <td>comedy</td>\n",
       "      <td>https://en.wikipedia.org/wiki/How_to_Be_a_Lati...</td>\n",
       "      <td>Having made a career of seducing rich older wo...</td>\n",
       "      <td>$10-13 million[2][3]</td>\n",
       "      <td>$62.6 million[2]</td>\n",
       "      <td>0.000010</td>\n",
       "      <td>62.600000</td>\n",
       "      <td>6.260000e+06</td>\n",
       "      <td>62.599990</td>\n",
       "    </tr>\n",
       "    <tr>\n",
       "      <th>16776</th>\n",
       "      <td>2014</td>\n",
       "      <td>Rio 2</td>\n",
       "      <td>American</td>\n",
       "      <td>Carlos Saldanha</td>\n",
       "      <td>Jesse Eisenberg\\r\\nAnne Hathaway\\r\\nJamie Foxx...</td>\n",
       "      <td>animated</td>\n",
       "      <td>https://en.wikipedia.org/wiki/Rio_2</td>\n",
       "      <td>Spix's Macaws Blu and Jewel and their three ch...</td>\n",
       "      <td>$103‒130 million[2][3][4]</td>\n",
       "      <td>$498.8 million[3]</td>\n",
       "      <td>0.000103</td>\n",
       "      <td>498.800000</td>\n",
       "      <td>4.842718e+06</td>\n",
       "      <td>498.799897</td>\n",
       "    </tr>\n",
       "    <tr>\n",
       "      <th>17184</th>\n",
       "      <td>2017</td>\n",
       "      <td>John Wick: Chapter 2</td>\n",
       "      <td>American</td>\n",
       "      <td>Chad Stahelski</td>\n",
       "      <td>Chad Stahelski (director); Derek Kolstad (scre...</td>\n",
       "      <td>neo-noir, action, thriller</td>\n",
       "      <td>https://en.wikipedia.org/wiki/John_Wick:_Chapt...</td>\n",
       "      <td>Four days after the events of the first film[6...</td>\n",
       "      <td>$40+ million[2]</td>\n",
       "      <td>$174.3 million[3]</td>\n",
       "      <td>0.000040</td>\n",
       "      <td>174.300000</td>\n",
       "      <td>4.357500e+06</td>\n",
       "      <td>174.299960</td>\n",
       "    </tr>\n",
       "    <tr>\n",
       "      <th>17032</th>\n",
       "      <td>2016</td>\n",
       "      <td>Norm of the North</td>\n",
       "      <td>American</td>\n",
       "      <td>Trevor Wall</td>\n",
       "      <td>Rob Schneider\\r\\nHeather Graham\\r\\nKen Jeong</td>\n",
       "      <td>animation comedy</td>\n",
       "      <td>https://en.wikipedia.org/wiki/Norm_of_the_North</td>\n",
       "      <td>Norm the polar bear is the son of the king of ...</td>\n",
       "      <td>$7-18 million[4]</td>\n",
       "      <td>$30.5 million[5]</td>\n",
       "      <td>0.000007</td>\n",
       "      <td>30.500000</td>\n",
       "      <td>4.357143e+06</td>\n",
       "      <td>30.499993</td>\n",
       "    </tr>\n",
       "    <tr>\n",
       "      <th>...</th>\n",
       "      <td>...</td>\n",
       "      <td>...</td>\n",
       "      <td>...</td>\n",
       "      <td>...</td>\n",
       "      <td>...</td>\n",
       "      <td>...</td>\n",
       "      <td>...</td>\n",
       "      <td>...</td>\n",
       "      <td>...</td>\n",
       "      <td>...</td>\n",
       "      <td>...</td>\n",
       "      <td>...</td>\n",
       "      <td>...</td>\n",
       "      <td>...</td>\n",
       "    </tr>\n",
       "    <tr>\n",
       "      <th>15906</th>\n",
       "      <td>2010</td>\n",
       "      <td>Passion Play</td>\n",
       "      <td>American</td>\n",
       "      <td>Mitch Glazer</td>\n",
       "      <td>Mickey Rourke, Megan Fox, Bill Murray, Kelly L...</td>\n",
       "      <td>drama</td>\n",
       "      <td>https://en.wikipedia.org/wiki/Passion_Play_(film)</td>\n",
       "      <td>Nate (Mickey Rourke), a small-time jazz musici...</td>\n",
       "      <td>$15 million</td>\n",
       "      <td>$3,669</td>\n",
       "      <td>15.000000</td>\n",
       "      <td>0.003669</td>\n",
       "      <td>2.446000e-04</td>\n",
       "      <td>-14.996331</td>\n",
       "    </tr>\n",
       "    <tr>\n",
       "      <th>17168</th>\n",
       "      <td>2017</td>\n",
       "      <td>100 Streets</td>\n",
       "      <td>American</td>\n",
       "      <td>Jim O'Hanlon</td>\n",
       "      <td>Jim O'Hanlon (director); Leon F. Butler (scree...</td>\n",
       "      <td>drama</td>\n",
       "      <td>https://en.wikipedia.org/wiki/100_Streets</td>\n",
       "      <td>The film centers on three characters who have ...</td>\n",
       "      <td>£3 million[1]</td>\n",
       "      <td>less than $372[2]</td>\n",
       "      <td>3.000000</td>\n",
       "      <td>0.000372</td>\n",
       "      <td>1.240000e-04</td>\n",
       "      <td>-2.999628</td>\n",
       "    </tr>\n",
       "    <tr>\n",
       "      <th>16286</th>\n",
       "      <td>2012</td>\n",
       "      <td>Ghost Rider: Spirit of Vengeance</td>\n",
       "      <td>American</td>\n",
       "      <td>Neveldine/Taylor</td>\n",
       "      <td>Nicolas Cage, Ciarán Hinds, Violante Placido, ...</td>\n",
       "      <td>superhero</td>\n",
       "      <td>https://en.wikipedia.org/wiki/Ghost_Rider:_Spi...</td>\n",
       "      <td>In Romania, a French priest named Moreau warns...</td>\n",
       "      <td>$57 million[4][6]</td>\n",
       "      <td>$132.6 – 149.4 million[4][7]</td>\n",
       "      <td>57.000000</td>\n",
       "      <td>0.000133</td>\n",
       "      <td>2.326316e-06</td>\n",
       "      <td>-56.999867</td>\n",
       "    </tr>\n",
       "    <tr>\n",
       "      <th>16163</th>\n",
       "      <td>2012</td>\n",
       "      <td>Air Collision</td>\n",
       "      <td>American</td>\n",
       "      <td>Liz Adams</td>\n",
       "      <td>Reginald VelJohnson, Jordan Ladd, Gerald Webb</td>\n",
       "      <td>action</td>\n",
       "      <td>https://en.wikipedia.org/wiki/Air_Collision</td>\n",
       "      <td>After a major electromagnetic storm cripples c...</td>\n",
       "      <td>£4 million</td>\n",
       "      <td>£2.56</td>\n",
       "      <td>4.000000</td>\n",
       "      <td>0.000003</td>\n",
       "      <td>6.400000e-07</td>\n",
       "      <td>-3.999997</td>\n",
       "    </tr>\n",
       "    <tr>\n",
       "      <th>16141</th>\n",
       "      <td>2011</td>\n",
       "      <td>The Way</td>\n",
       "      <td>American</td>\n",
       "      <td>Emilio Estevez</td>\n",
       "      <td>Martin Sheen, Deborah Kara Unger, Yorick van W...</td>\n",
       "      <td>drama</td>\n",
       "      <td>https://en.wikipedia.org/wiki/The_Way_(2010_film)</td>\n",
       "      <td>Dr. Thomas Avery (Martin Sheen) is an American...</td>\n",
       "      <td>NaN</td>\n",
       "      <td>$21 million[5][6]</td>\n",
       "      <td>NaN</td>\n",
       "      <td>21.000000</td>\n",
       "      <td>NaN</td>\n",
       "      <td>NaN</td>\n",
       "    </tr>\n",
       "  </tbody>\n",
       "</table>\n",
       "<p>1135 rows × 14 columns</p>\n",
       "</div>"
      ]
     },
     "execution_count": 56,
     "metadata": {},
     "output_type": "execute_result"
    }
   ],
   "execution_count": 56
  },
  {
   "metadata": {
    "ExecuteTime": {
     "end_time": "2024-10-09T22:09:39.857377Z",
     "start_time": "2024-10-09T22:09:39.854198Z"
    }
   },
   "cell_type": "code",
   "source": "df_american_2010.loc[movie_with_highest_clean_ratio, ['Title', 'Ratio', 'Clean_Budget', 'Clean_Box_Office']]\n",
   "id": "a5bfe588047fc576",
   "outputs": [
    {
     "data": {
      "text/plain": [
       "Title               House at the End of the Street\n",
       "Ratio                               6391304.347826\n",
       "Clean_Budget                              0.000007\n",
       "Clean_Box_Office                              44.1\n",
       "Name: 16300, dtype: object"
      ]
     },
     "execution_count": 53,
     "metadata": {},
     "output_type": "execute_result"
    }
   ],
   "execution_count": 53
  },
  {
   "metadata": {
    "ExecuteTime": {
     "end_time": "2024-10-09T22:05:32.032353Z",
     "start_time": "2024-10-09T22:05:32.023949Z"
    }
   },
   "cell_type": "code",
   "source": [
    "# Checking if it's right\n",
    "df_american_2010.query('Title == \"House at the End of the Street\"')[['Budget','Box Office', 'Clean_Budget', 'Clean_Box_Office']]\n",
    "# Error in parsing"
   ],
   "id": "5844531a3e28f307",
   "outputs": [
    {
     "data": {
      "text/plain": [
       "                      Budget        Box Office  Clean_Budget  Clean_Box_Office\n",
       "16300  $6.9-10 million[1][2]  $44.1 million[1]      0.000007              44.1"
      ],
      "text/html": [
       "<div>\n",
       "<style scoped>\n",
       "    .dataframe tbody tr th:only-of-type {\n",
       "        vertical-align: middle;\n",
       "    }\n",
       "\n",
       "    .dataframe tbody tr th {\n",
       "        vertical-align: top;\n",
       "    }\n",
       "\n",
       "    .dataframe thead th {\n",
       "        text-align: right;\n",
       "    }\n",
       "</style>\n",
       "<table border=\"1\" class=\"dataframe\">\n",
       "  <thead>\n",
       "    <tr style=\"text-align: right;\">\n",
       "      <th></th>\n",
       "      <th>Budget</th>\n",
       "      <th>Box Office</th>\n",
       "      <th>Clean_Budget</th>\n",
       "      <th>Clean_Box_Office</th>\n",
       "    </tr>\n",
       "  </thead>\n",
       "  <tbody>\n",
       "    <tr>\n",
       "      <th>16300</th>\n",
       "      <td>$6.9-10 million[1][2]</td>\n",
       "      <td>$44.1 million[1]</td>\n",
       "      <td>0.000007</td>\n",
       "      <td>44.1</td>\n",
       "    </tr>\n",
       "  </tbody>\n",
       "</table>\n",
       "</div>"
      ]
     },
     "execution_count": 50,
     "metadata": {},
     "output_type": "execute_result"
    }
   ],
   "execution_count": 50
  },
  {
   "metadata": {
    "ExecuteTime": {
     "end_time": "2024-10-09T22:06:13.353799Z",
     "start_time": "2024-10-09T22:06:13.349250Z"
    }
   },
   "cell_type": "code",
   "source": [
    "# Compute the benefit for each movie\n",
    "df_american_2010['Benefit'] = df_american_2010['Clean_Box_Office'] - df_american_2010['Clean_Budget']\n",
    "\n",
    "# Group by 'Release Year' and calculate the average benefit per year\n",
    "average_benefit_by_year = df_american_2010.groupby('Release Year')['Benefit'].mean()\n",
    "average_benefit_by_year"
   ],
   "id": "a54431298052e556",
   "outputs": [
    {
     "data": {
      "text/plain": [
       "Release Year\n",
       "2010     88.921550\n",
       "2011     95.628447\n",
       "2012    121.638509\n",
       "2013     95.252580\n",
       "2014    119.005957\n",
       "2015    139.630984\n",
       "2016    117.135318\n",
       "2017    126.301558\n",
       "Name: Benefit, dtype: float64"
      ]
     },
     "execution_count": 51,
     "metadata": {},
     "output_type": "execute_result"
    }
   ],
   "execution_count": 51
  },
  {
   "metadata": {
    "ExecuteTime": {
     "end_time": "2024-10-09T22:06:24.813690Z",
     "start_time": "2024-10-09T22:06:24.457871Z"
    }
   },
   "cell_type": "code",
   "source": "average_benefit_by_year.plot()",
   "id": "ecb7cdb3cfa2138d",
   "outputs": [
    {
     "data": {
      "text/plain": [
       "<Axes: xlabel='Release Year'>"
      ]
     },
     "execution_count": 52,
     "metadata": {},
     "output_type": "execute_result"
    },
    {
     "data": {
      "text/plain": [
       "<Figure size 640x480 with 1 Axes>"
      ],
      "image/png": "[encoded data removed]"
     },
     "metadata": {},
     "output_type": "display_data"
    }
   ],
   "execution_count": 52
  },
  {
   "metadata": {
    "ExecuteTime": {
     "end_time": "2024-10-09T22:23:02.094717Z",
     "start_time": "2024-10-09T22:23:02.087078Z"
    }
   },
   "cell_type": "code",
   "source": "",
   "id": "5db0d2d60108f93b",
   "outputs": [
    {
     "data": {
      "text/plain": [
       "     Title  Budget  Box Office\n",
       "0  Movie A     100         300\n",
       "1  Movie B     150         500\n",
       "2  Movie C     200         700"
      ],
      "text/html": [
       "<div>\n",
       "<style scoped>\n",
       "    .dataframe tbody tr th:only-of-type {\n",
       "        vertical-align: middle;\n",
       "    }\n",
       "\n",
       "    .dataframe tbody tr th {\n",
       "        vertical-align: top;\n",
       "    }\n",
       "\n",
       "    .dataframe thead th {\n",
       "        text-align: right;\n",
       "    }\n",
       "</style>\n",
       "<table border=\"1\" class=\"dataframe\">\n",
       "  <thead>\n",
       "    <tr style=\"text-align: right;\">\n",
       "      <th></th>\n",
       "      <th>Title</th>\n",
       "      <th>Budget</th>\n",
       "      <th>Box Office</th>\n",
       "    </tr>\n",
       "  </thead>\n",
       "  <tbody>\n",
       "    <tr>\n",
       "      <th>0</th>\n",
       "      <td>Movie A</td>\n",
       "      <td>100</td>\n",
       "      <td>300</td>\n",
       "    </tr>\n",
       "    <tr>\n",
       "      <th>1</th>\n",
       "      <td>Movie B</td>\n",
       "      <td>150</td>\n",
       "      <td>500</td>\n",
       "    </tr>\n",
       "    <tr>\n",
       "      <th>2</th>\n",
       "      <td>Movie C</td>\n",
       "      <td>200</td>\n",
       "      <td>700</td>\n",
       "    </tr>\n",
       "  </tbody>\n",
       "</table>\n",
       "</div>"
      ]
     },
     "execution_count": 58,
     "metadata": {},
     "output_type": "execute_result"
    }
   ],
   "execution_count": 58
  }
 ],
 "metadata": {
  "kernelspec": {
   "display_name": "Python 3",
   "language": "python",
   "name": "python3"
  },
  "language_info": {
   "codemirror_mode": {
    "name": "ipython",
    "version": 2
   },
   "file_extension": ".py",
   "mimetype": "text/x-python",
   "name": "python",
   "nbconvert_exporter": "python",
   "pygments_lexer": "ipython2",
   "version": "2.7.6"
  }
 },
 "nbformat": 4,
 "nbformat_minor": 5
}
